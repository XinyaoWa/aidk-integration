{
  "nbformat": 4,
  "nbformat_minor": 0,
  "metadata": {
    "colab": {
      "name": "Use RecDP to run TwitterRecSys2021 data preprocess.ipynb",
      "provenance": [],
      "collapsed_sections": [],
      "authorship_tag": "ABX9TyNj2Gf7Rb5Hb6qHCWEK7D84",
      "include_colab_link": true
    },
    "kernelspec": {
      "name": "python3",
      "display_name": "Python 3"
    },
    "language_info": {
      "name": "python"
    }
  },
  "cells": [
    {
      "cell_type": "markdown",
      "metadata": {
        "id": "view-in-github",
        "colab_type": "text"
      },
      "source": [
        "<a href=\"https://colab.research.google.com/github/XinyaoWa/hydroai-colab/blob/main/Use_RecDP_to_run_TwitterRecSys2021_data_preprocess.ipynb\" target=\"_parent\"><img src=\"https://colab.research.google.com/assets/colab-badge.svg\" alt=\"Open In Colab\"/></a>"
      ]
    },
    {
      "cell_type": "markdown",
      "source": [
        "## **Environment Preparation**"
      ],
      "metadata": {
        "id": "g-Kzcom4x577"
      }
    },
    {
      "cell_type": "markdown",
      "source": [
        "**Install Pyspark**"
      ],
      "metadata": {
        "id": "7yXAiC5qyADr"
      }
    },
    {
      "cell_type": "code",
      "source": [
        "pip install pyspark==3.0.0"
      ],
      "metadata": {
        "colab": {
          "base_uri": "https://localhost:8080/"
        },
        "id": "fXFfwH8T7qL2",
        "outputId": "2d377fd4-095c-4192-ab79-5418639f4cb7"
      },
      "execution_count": 1,
      "outputs": [
        {
          "output_type": "stream",
          "name": "stdout",
          "text": [
            "Requirement already satisfied: pyspark==3.0.0 in /usr/local/lib/python3.7/dist-packages (3.0.0)\n",
            "Requirement already satisfied: py4j==0.10.9 in /usr/local/lib/python3.7/dist-packages (from pyspark==3.0.0) (0.10.9)\n"
          ]
        }
      ]
    },
    {
      "cell_type": "markdown",
      "source": [
        "**Install RecDP**"
      ],
      "metadata": {
        "id": "J0YZtMDRyJJ7"
      }
    },
    {
      "cell_type": "code",
      "source": [
        "pip install pyrecdp"
      ],
      "metadata": {
        "colab": {
          "base_uri": "https://localhost:8080/"
        },
        "id": "6J2wwVxg73Jj",
        "outputId": "48b00e6b-0ec3-475b-c324-3800ab8f736a"
      },
      "execution_count": 2,
      "outputs": [
        {
          "output_type": "stream",
          "name": "stdout",
          "text": [
            "Requirement already satisfied: pyrecdp in /usr/local/lib/python3.7/dist-packages (0.1.2)\n"
          ]
        }
      ]
    },
    {
      "cell_type": "markdown",
      "source": [
        "**Import libs**"
      ],
      "metadata": {
        "id": "N2LlKt0qyMk6"
      }
    },
    {
      "cell_type": "code",
      "source": [
        "import gc,time,os\n",
        "import pandas as pd\n",
        "import numpy as np\n",
        "from pyspark.sql import *\n",
        "from pyspark import *\n",
        "import pyspark.sql.functions as f\n",
        "import pyspark.sql.types as t\n",
        "import pyrecdp\n",
        "from pyrecdp.data_processor import *\n",
        "from pyrecdp.encoder import *\n",
        "from pyrecdp.utils import *"
      ],
      "metadata": {
        "id": "jRDvBuB17-pQ"
      },
      "execution_count": 3,
      "outputs": []
    },
    {
      "cell_type": "markdown",
      "source": [
        "**Prepare folder**\n",
        "\n",
        "recsys2021: use to save all temporary data\n",
        "\n",
        "spark_tmp: use to save spark temporary data\n",
        "\n",
        "data: use to save temporary processing data"
      ],
      "metadata": {
        "id": "QfSsNNnByQ8l"
      }
    },
    {
      "cell_type": "code",
      "source": [
        "!mkdir recsys2021\n",
        "os.chdir('recsys2021')\n",
        "!mkdir spark_tmp\n",
        "!mkdir data\n",
        "!ls"
      ],
      "metadata": {
        "id": "_vxJQdHW6olp",
        "colab": {
          "base_uri": "https://localhost:8080/"
        },
        "outputId": "4a9f5f60-cac3-4bcb-d84b-0be8804404f7"
      },
      "execution_count": 4,
      "outputs": [
        {
          "output_type": "stream",
          "name": "stdout",
          "text": [
            "mkdir: cannot create directory ‘recsys2021’: File exists\n",
            "mkdir: cannot create directory ‘spark_tmp’: File exists\n",
            "mkdir: cannot create directory ‘data’: File exists\n",
            "data  original_TwitterRecSys2021_sample.parquet  spark_tmp\n"
          ]
        }
      ]
    },
    {
      "cell_type": "markdown",
      "source": [
        "dicts_folder: use to save all target encoding dicts"
      ],
      "metadata": {
        "id": "xpcTPvfyzLt4"
      }
    },
    {
      "cell_type": "code",
      "source": [
        "path_prefix = './'\n",
        "current_path = 'data/'\n",
        "dicts_folder = \"recsys_dicts/\""
      ],
      "metadata": {
        "id": "9GJBCJIf9wFD"
      },
      "execution_count": 5,
      "outputs": []
    },
    {
      "cell_type": "markdown",
      "source": [
        "**Start Spark**"
      ],
      "metadata": {
        "id": "IzVALNFYzclX"
      }
    },
    {
      "cell_type": "code",
      "source": [
        "recdp_path = pyrecdp.__path__[0]\n",
        "scala_udf_jars = recdp_path + \"/ScalaProcessUtils/target/recdp-scala-extensions-0.1.0-jar-with-dependencies.jar\"\n",
        "\n",
        "spark = SparkSession.builder.master('local')\\\n",
        "    .config(\"spark.driver.memory\", '4g')\\\n",
        "    .config(\"spark.local.dir\", path_prefix+\"/spark_tmp\")\\\n",
        "    .config(\"spark.driver.extraClassPath\", f\"{scala_udf_jars}\")\\\n",
        "    .getOrCreate()"
      ],
      "metadata": {
        "id": "QaavIODt9jsn"
      },
      "execution_count": 6,
      "outputs": []
    },
    {
      "cell_type": "markdown",
      "source": [
        "## **Dataset Preparation**"
      ],
      "metadata": {
        "id": "7uAPws_Uy6Ax"
      }
    },
    {
      "cell_type": "markdown",
      "source": [
        "**Download sample dataset**"
      ],
      "metadata": {
        "id": "Ha-NYmfzy8WJ"
      }
    },
    {
      "cell_type": "code",
      "source": [
        "! wget --no-check-certificate 'https://docs.google.com/uc?export=download&id=1jm_bqkzV1CYgH885iaYsDoal1N8J-sE6' -O original_TwitterRecSys2021_sample.parquet"
      ],
      "metadata": {
        "colab": {
          "base_uri": "https://localhost:8080/"
        },
        "id": "p92RX9dV3Ozc",
        "outputId": "f17c9624-8339-4a14-d83b-9b8611ea939b"
      },
      "execution_count": 7,
      "outputs": [
        {
          "output_type": "stream",
          "name": "stdout",
          "text": [
            "--2022-01-30 12:02:06--  https://docs.google.com/uc?export=download&id=1jm_bqkzV1CYgH885iaYsDoal1N8J-sE6\n",
            "Resolving docs.google.com (docs.google.com)... 172.217.1.206, 2607:f8b0:4004:832::200e\n",
            "Connecting to docs.google.com (docs.google.com)|172.217.1.206|:443... connected.\n",
            "HTTP request sent, awaiting response... 302 Moved Temporarily\n",
            "Location: https://doc-00-1s-docs.googleusercontent.com/docs/securesc/ha0ro937gcuc7l7deffksulhg5h7mbp1/tk59endgp4iq0acbnq2ha7po5adgia7e/1643544075000/18016102022855825607/*/1jm_bqkzV1CYgH885iaYsDoal1N8J-sE6?e=download [following]\n",
            "Warning: wildcards not supported in HTTP.\n",
            "--2022-01-30 12:02:07--  https://doc-00-1s-docs.googleusercontent.com/docs/securesc/ha0ro937gcuc7l7deffksulhg5h7mbp1/tk59endgp4iq0acbnq2ha7po5adgia7e/1643544075000/18016102022855825607/*/1jm_bqkzV1CYgH885iaYsDoal1N8J-sE6?e=download\n",
            "Resolving doc-00-1s-docs.googleusercontent.com (doc-00-1s-docs.googleusercontent.com)... 142.251.33.193, 2607:f8b0:4004:837::2001\n",
            "Connecting to doc-00-1s-docs.googleusercontent.com (doc-00-1s-docs.googleusercontent.com)|142.251.33.193|:443... connected.\n",
            "HTTP request sent, awaiting response... 200 OK\n",
            "Length: 4186624 (4.0M) [application/octet-stream]\n",
            "Saving to: ‘original_TwitterRecSys2021_sample.parquet’\n",
            "\n",
            "original_TwitterRec 100%[===================>]   3.99M  --.-KB/s    in 0.07s   \n",
            "\n",
            "2022-01-30 12:02:08 (60.6 MB/s) - ‘original_TwitterRecSys2021_sample.parquet’ saved [4186624/4186624]\n",
            "\n"
          ]
        }
      ]
    },
    {
      "cell_type": "markdown",
      "source": [
        "## **Data Preprocessing**"
      ],
      "metadata": {
        "id": "dPeTtkjwzCNi"
      }
    },
    {
      "cell_type": "markdown",
      "source": [
        "**Define RecDP processor**"
      ],
      "metadata": {
        "id": "yxL_KGFK1F42"
      }
    },
    {
      "cell_type": "code",
      "source": [
        "proc = DataProcessor(spark, path_prefix,current_path=current_path, dicts_path=dicts_folder,shuffle_disk_capacity=\"10GB\",spark_mode='local')"
      ],
      "metadata": {
        "id": "ptBZZOd45lzG",
        "colab": {
          "base_uri": "https://localhost:8080/"
        },
        "outputId": "c86237a5-481b-4003-b494-75f25153d365"
      },
      "execution_count": 8,
      "outputs": [
        {
          "output_type": "stream",
          "name": "stdout",
          "text": [
            "recdp-scala-extension is enabled\n",
            "per core memory size is 2.000 GB and shuffle_disk maximum capacity is 10.000 GB\n"
          ]
        }
      ]
    },
    {
      "cell_type": "markdown",
      "source": [
        "**Read Data with Spark**"
      ],
      "metadata": {
        "id": "aoYIZgEU1K2k"
      }
    },
    {
      "cell_type": "code",
      "source": [
        "df = spark.read.parquet(path_prefix + \"original_TwitterRecSys2021_sample.parquet\")"
      ],
      "metadata": {
        "id": "8EUFxI3_-vV2"
      },
      "execution_count": 9,
      "outputs": []
    },
    {
      "cell_type": "code",
      "source": [
        "df = df.withColumnRenamed('enaging_user_following_count', 'engaging_user_following_count')\n",
        "df = df.withColumnRenamed('enaging_user_is_verified', 'engaging_user_is_verified')\n",
        "df = df.drop(\"tokens\")\n",
        "gc.collect()\n",
        "print(\"data loaded!\")"
      ],
      "metadata": {
        "colab": {
          "base_uri": "https://localhost:8080/"
        },
        "id": "-eNCb4Aa-3RN",
        "outputId": "4751f2c9-c745-4011-baaa-b5c6f2de8753"
      },
      "execution_count": 10,
      "outputs": [
        {
          "output_type": "stream",
          "name": "stdout",
          "text": [
            "data loaded!\n"
          ]
        }
      ]
    },
    {
      "cell_type": "markdown",
      "source": [
        "**Define Features**\n",
        "\n",
        "target_list: target columns\n",
        "\n",
        "feature_list: The final preprocessed features\n",
        "\n",
        "TE_col_features: The columns used for target encoding"
      ],
      "metadata": {
        "id": "4w5E9FTX1QHr"
      }
    },
    {
      "cell_type": "code",
      "source": [
        "target_list = ['reply_timestamp', 'like_timestamp']\n",
        "features_list = ['engaged_with_user_follower_count', 'engaging_user_is_verified', 'TE_engaged_with_user_id_reply_timestamp', 'TE_engaged_with_user_id_like_timestamp', 'TE_language_engaged_with_user_id_reply_timestamp', 'TE_language_engaged_with_user_id_like_timestamp', \"len_media\",]\n",
        "TE_col_features = [['engaged_with_user_id'], ['language', 'engaged_with_user_id'],]\n"
      ],
      "metadata": {
        "id": "jyekP1d7AR7u"
      },
      "execution_count": 11,
      "outputs": []
    },
    {
      "cell_type": "markdown",
      "source": [
        "**Preprocess some basic features**\n",
        "\n",
        "Add new features: len_media\n",
        "\n",
        "Binarize two target columns"
      ],
      "metadata": {
        "id": "A7S9bzDA1k0b"
      }
    },
    {
      "cell_type": "code",
      "source": [
        "# fill nan features\n",
        "op_fillna = FillNA([\"present_media\"],'')\n",
        "\n",
        "# Use udf function to add new features\n",
        "count_media = f.udf(lambda x: x.count('\\t')+1 if x != '' else 0, t.IntegerType())\n",
        "op_count_media = FeatureAdd(\n",
        "    cols={'len_media': 'present_media'}, udfImpl=count_media)\n",
        "\n",
        "# modify features\n",
        "op_feature_target_classify = FeatureModification(cols={\n",
        "    \"reply_timestamp\": \"f.when(f.col('reply_timestamp') > 0, 1).otherwise(0)\",\n",
        "    \"like_timestamp\": \"f.when(f.col('like_timestamp') > 0, 1).otherwise(0)\"}, op='inline')\n",
        "  \n",
        "# execute\n",
        "proc.reset_ops([op_fillna,\n",
        "                op_count_media,\n",
        "                op_feature_target_classify])\n",
        "df = proc.transform(df, name=\"decode_data\")\n",
        "\n",
        "print(\"data decoded!\")"
      ],
      "metadata": {
        "colab": {
          "base_uri": "https://localhost:8080/"
        },
        "id": "059b_oGD_E2V",
        "outputId": "71fc86b9-8e7d-4cd0-f1ea-c60f106372f6"
      },
      "execution_count": 12,
      "outputs": [
        {
          "output_type": "stream",
          "name": "stdout",
          "text": [
            "save data to .//data//decode_data\n",
            "data decoded!\n"
          ]
        }
      ]
    },
    {
      "cell_type": "markdown",
      "source": [
        "**5-fold Target Endcoding**"
      ],
      "metadata": {
        "id": "9R2y-ZnC1zK_"
      }
    },
    {
      "cell_type": "markdown",
      "source": [
        "Add a \"fold\" column"
      ],
      "metadata": {
        "id": "iRxjQC1p17M9"
      }
    },
    {
      "cell_type": "code",
      "source": [
        "df = df.withColumn(\"fold\", f.round(f.rand(seed=42)*(5-1)).cast(\"int\"))"
      ],
      "metadata": {
        "id": "D8VHB5qo1-pr"
      },
      "execution_count": 13,
      "outputs": []
    },
    {
      "cell_type": "markdown",
      "source": [
        "Calculate mean value for each target"
      ],
      "metadata": {
        "id": "xOStHePn2ASU"
      }
    },
    {
      "cell_type": "code",
      "source": [
        "y_mean_all = []  \n",
        "for tgt in target_list:\n",
        "    tmp = df.groupBy().mean(tgt).collect()[0]\n",
        "    y_mean_all.append(tmp[f\"avg({tgt})\"])"
      ],
      "metadata": {
        "id": "fsVl35wi2Edz"
      },
      "execution_count": 14,
      "outputs": []
    },
    {
      "cell_type": "markdown",
      "source": [
        "Calculte target encoding dicts"
      ],
      "metadata": {
        "id": "FetShSBP2HoP"
      }
    },
    {
      "cell_type": "code",
      "source": [
        "te_dfs = []\n",
        "for c in TE_col_features:\n",
        "    out_name = \"\"\n",
        "    out_col_list = []\n",
        "    for tgt in target_list:\n",
        "        out_col_list.append('TE_'+'_'.join(c)+'_'+tgt)\n",
        "        out_name = 'TE_'+'_'.join(c)\n",
        "    encoder = TargetEncoder(proc, c, target_list, out_col_list, out_name, out_dtype=t.FloatType(), y_mean_list=y_mean_all)\n",
        "    te_train_df, _ = encoder.transform(df)\n",
        "    te_dfs.append({'col_name': ['fold'] + (c if isinstance(c, list) else [c]), 'dict': te_train_df})\n",
        "   \n",
        "print(\"data encoded!\")"
      ],
      "metadata": {
        "colab": {
          "base_uri": "https://localhost:8080/"
        },
        "id": "vpuTjEv5AFHp",
        "outputId": "760aa65d-96f9-4146-9019-21cfb37076d7"
      },
      "execution_count": 15,
      "outputs": [
        {
          "output_type": "stream",
          "name": "stdout",
          "text": [
            "data encoded!\n"
          ]
        }
      ]
    },
    {
      "cell_type": "markdown",
      "source": [
        "Merge data with target encoding dicts "
      ],
      "metadata": {
        "id": "z21IFuKz2MsZ"
      }
    },
    {
      "cell_type": "code",
      "source": [
        "op_merge_to_train = ModelMerge(te_dfs)\n",
        "proc.reset_ops([op_merge_to_train])\n",
        "df = proc.transform(df, name=\"te_data\")"
      ],
      "metadata": {
        "colab": {
          "base_uri": "https://localhost:8080/"
        },
        "id": "nAmryjTC2Vcq",
        "outputId": "0205fe52-ac82-4037-f9f8-419af0368419"
      },
      "execution_count": 16,
      "outputs": [
        {
          "output_type": "stream",
          "name": "stdout",
          "text": [
            "save data to .//data//te_data\n"
          ]
        }
      ]
    },
    {
      "cell_type": "markdown",
      "source": [
        "## **Select final feature lists**"
      ],
      "metadata": {
        "id": "aR6k2Uds2Q-k"
      }
    },
    {
      "cell_type": "code",
      "source": [
        "op_select = SelectFeature(target_list + features_list)\n",
        "proc.reset_ops([op_select])\n",
        "df = proc.transform(df, name=\"preprocessed_data\")"
      ],
      "metadata": {
        "colab": {
          "base_uri": "https://localhost:8080/"
        },
        "id": "yB4l4dxp-uTa",
        "outputId": "42a6f9c7-26bd-44e7-abee-626a7a188bdc"
      },
      "execution_count": 17,
      "outputs": [
        {
          "output_type": "stream",
          "name": "stdout",
          "text": [
            "save data to .//data//preprocessed_data\n"
          ]
        }
      ]
    },
    {
      "cell_type": "code",
      "source": [
        "df.printSchema()"
      ],
      "metadata": {
        "colab": {
          "base_uri": "https://localhost:8080/"
        },
        "id": "3v6-Qza-3Igh",
        "outputId": "a86fda96-9dcd-4190-b370-a99bc541e530"
      },
      "execution_count": 18,
      "outputs": [
        {
          "output_type": "stream",
          "name": "stdout",
          "text": [
            "root\n",
            " |-- reply_timestamp: integer (nullable = true)\n",
            " |-- like_timestamp: integer (nullable = true)\n",
            " |-- engaged_with_user_follower_count: long (nullable = true)\n",
            " |-- engaging_user_is_verified: boolean (nullable = true)\n",
            " |-- TE_engaged_with_user_id_reply_timestamp: float (nullable = true)\n",
            " |-- TE_engaged_with_user_id_like_timestamp: float (nullable = true)\n",
            " |-- TE_language_engaged_with_user_id_reply_timestamp: float (nullable = true)\n",
            " |-- TE_language_engaged_with_user_id_like_timestamp: float (nullable = true)\n",
            " |-- len_media: integer (nullable = true)\n",
            "\n"
          ]
        }
      ]
    }
  ]
}