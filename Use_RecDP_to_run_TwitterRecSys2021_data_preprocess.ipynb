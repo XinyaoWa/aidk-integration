{
  "nbformat": 4,
  "nbformat_minor": 0,
  "metadata": {
    "colab": {
      "name": "Use RecDP to run TwitterRecSys2021 data preprocess.ipynb",
      "provenance": [],
      "collapsed_sections": [],
      "authorship_tag": "ABX9TyOuRJ+qPGwRz+ise3TIZ+82",
      "include_colab_link": true
    },
    "kernelspec": {
      "name": "python3",
      "display_name": "Python 3"
    },
    "language_info": {
      "name": "python"
    }
  },
  "cells": [
    {
      "cell_type": "markdown",
      "metadata": {
        "id": "view-in-github",
        "colab_type": "text"
      },
      "source": [
        "<a href=\"https://colab.research.google.com/github/XinyaoWa/hydroai-colab/blob/main/Use_RecDP_to_run_TwitterRecSys2021_data_preprocess.ipynb\" target=\"_parent\"><img src=\"https://colab.research.google.com/assets/colab-badge.svg\" alt=\"Open In Colab\"/></a>"
      ]
    },
    {
      "cell_type": "markdown",
      "source": [
        "## **Environment Preparation**"
      ],
      "metadata": {
        "id": "g-Kzcom4x577"
      }
    },
    {
      "cell_type": "markdown",
      "source": [
        "**Install Pyspark**"
      ],
      "metadata": {
        "id": "7yXAiC5qyADr"
      }
    },
    {
      "cell_type": "code",
      "source": [
        "pip install pyspark==3.0.0"
      ],
      "metadata": {
        "colab": {
          "base_uri": "https://localhost:8080/"
        },
        "id": "fXFfwH8T7qL2",
        "outputId": "d12d040a-6ad5-4e06-e110-3b5efc0c9d75"
      },
      "execution_count": 1,
      "outputs": [
        {
          "output_type": "stream",
          "name": "stdout",
          "text": [
            "Requirement already satisfied: pyspark==3.0.0 in /usr/local/lib/python3.7/dist-packages (3.0.0)\n",
            "Requirement already satisfied: py4j==0.10.9 in /usr/local/lib/python3.7/dist-packages (from pyspark==3.0.0) (0.10.9)\n"
          ]
        }
      ]
    },
    {
      "cell_type": "markdown",
      "source": [
        "**Install RecDP**"
      ],
      "metadata": {
        "id": "J0YZtMDRyJJ7"
      }
    },
    {
      "cell_type": "code",
      "source": [
        "pip install pyrecdp"
      ],
      "metadata": {
        "colab": {
          "base_uri": "https://localhost:8080/"
        },
        "id": "6J2wwVxg73Jj",
        "outputId": "7976b71a-16f1-4bcf-e9f1-ffcf6f990bcd"
      },
      "execution_count": 2,
      "outputs": [
        {
          "output_type": "stream",
          "name": "stdout",
          "text": [
            "Requirement already satisfied: pyrecdp in /usr/local/lib/python3.7/dist-packages (0.1.2)\n"
          ]
        }
      ]
    },
    {
      "cell_type": "markdown",
      "source": [
        "**Import libs**"
      ],
      "metadata": {
        "id": "N2LlKt0qyMk6"
      }
    },
    {
      "cell_type": "code",
      "source": [
        "import gc,time,os\n",
        "import pandas as pd\n",
        "import numpy as np\n",
        "from pyspark.sql import *\n",
        "from pyspark import *\n",
        "import pyspark.sql.functions as f\n",
        "import pyspark.sql.types as t\n",
        "import pyrecdp\n",
        "from pyrecdp.data_processor import *\n",
        "from pyrecdp.encoder import *\n",
        "from pyrecdp.utils import *"
      ],
      "metadata": {
        "id": "jRDvBuB17-pQ"
      },
      "execution_count": 3,
      "outputs": []
    },
    {
      "cell_type": "markdown",
      "source": [
        "**Prepare folder**\n",
        "\n",
        "recsys2021: use to save all temporary data\n",
        "\n",
        "spark_tmp: use to save spark temporary data\n",
        "\n",
        "data: use to save temporary processing data"
      ],
      "metadata": {
        "id": "QfSsNNnByQ8l"
      }
    },
    {
      "cell_type": "code",
      "source": [
        "!mkdir recsys2021\n",
        "os.chdir('recsys2021')\n",
        "!mkdir spark_tmp\n",
        "!mkdir data\n",
        "!ls"
      ],
      "metadata": {
        "id": "_vxJQdHW6olp",
        "colab": {
          "base_uri": "https://localhost:8080/"
        },
        "outputId": "b91637e3-b21c-4d41-959d-92ad983ab0ec"
      },
      "execution_count": 4,
      "outputs": [
        {
          "output_type": "stream",
          "name": "stdout",
          "text": [
            "mkdir: cannot create directory ‘recsys2021’: File exists\n",
            "mkdir: cannot create directory ‘spark_tmp’: File exists\n",
            "mkdir: cannot create directory ‘data’: File exists\n",
            "data  original_TwitterRecSys2021_sample.parquet  recsys2021  spark_tmp\n"
          ]
        }
      ]
    },
    {
      "cell_type": "markdown",
      "source": [
        "dicts_folder: use to save all target encoding dicts"
      ],
      "metadata": {
        "id": "xpcTPvfyzLt4"
      }
    },
    {
      "cell_type": "code",
      "source": [
        "path_prefix = './'\n",
        "current_path = 'data/'\n",
        "dicts_folder = \"recsys_dicts/\""
      ],
      "metadata": {
        "id": "9GJBCJIf9wFD"
      },
      "execution_count": 5,
      "outputs": []
    },
    {
      "cell_type": "markdown",
      "source": [
        "**Start Spark**"
      ],
      "metadata": {
        "id": "IzVALNFYzclX"
      }
    },
    {
      "cell_type": "code",
      "source": [
        "recdp_path = pyrecdp.__path__[0]\n",
        "scala_udf_jars = recdp_path + \"/ScalaProcessUtils/target/recdp-scala-extensions-0.1.0-jar-with-dependencies.jar\"\n",
        "\n",
        "spark = SparkSession.builder.master('local')\\\n",
        "    .config(\"spark.driver.memory\", '4g')\\\n",
        "    .config(\"spark.local.dir\", path_prefix+\"/spark_tmp\")\\\n",
        "    .config(\"spark.driver.extraClassPath\", f\"{scala_udf_jars}\")\\\n",
        "    .getOrCreate()"
      ],
      "metadata": {
        "id": "QaavIODt9jsn"
      },
      "execution_count": 6,
      "outputs": []
    },
    {
      "cell_type": "markdown",
      "source": [
        "## **Dataset Preparation**"
      ],
      "metadata": {
        "id": "7uAPws_Uy6Ax"
      }
    },
    {
      "cell_type": "markdown",
      "source": [
        "**Download sample dataset**"
      ],
      "metadata": {
        "id": "Ha-NYmfzy8WJ"
      }
    },
    {
      "cell_type": "code",
      "source": [
        "! wget --no-check-certificate 'https://docs.google.com/uc?export=download&id=1jm_bqkzV1CYgH885iaYsDoal1N8J-sE6' -O original_TwitterRecSys2021_sample.parquet"
      ],
      "metadata": {
        "colab": {
          "base_uri": "https://localhost:8080/"
        },
        "id": "p92RX9dV3Ozc",
        "outputId": "849a614d-d909-4ee6-a602-303662e4ed07"
      },
      "execution_count": 7,
      "outputs": [
        {
          "output_type": "stream",
          "name": "stdout",
          "text": [
            "--2022-01-30 12:17:16--  https://docs.google.com/uc?export=download&id=1jm_bqkzV1CYgH885iaYsDoal1N8J-sE6\n",
            "Resolving docs.google.com (docs.google.com)... 142.251.45.110, 2607:f8b0:4004:801::200e\n",
            "Connecting to docs.google.com (docs.google.com)|142.251.45.110|:443... connected.\n",
            "HTTP request sent, awaiting response... 302 Moved Temporarily\n",
            "Location: https://doc-00-1s-docs.googleusercontent.com/docs/securesc/ha0ro937gcuc7l7deffksulhg5h7mbp1/4nhiqe5ku2mipcpka009um3cnqg651dh/1643544975000/18016102022855825607/*/1jm_bqkzV1CYgH885iaYsDoal1N8J-sE6?e=download [following]\n",
            "Warning: wildcards not supported in HTTP.\n",
            "--2022-01-30 12:17:16--  https://doc-00-1s-docs.googleusercontent.com/docs/securesc/ha0ro937gcuc7l7deffksulhg5h7mbp1/4nhiqe5ku2mipcpka009um3cnqg651dh/1643544975000/18016102022855825607/*/1jm_bqkzV1CYgH885iaYsDoal1N8J-sE6?e=download\n",
            "Resolving doc-00-1s-docs.googleusercontent.com (doc-00-1s-docs.googleusercontent.com)... 142.251.33.193, 2607:f8b0:4004:837::2001\n",
            "Connecting to doc-00-1s-docs.googleusercontent.com (doc-00-1s-docs.googleusercontent.com)|142.251.33.193|:443... connected.\n",
            "HTTP request sent, awaiting response... 200 OK\n",
            "Length: 4186624 (4.0M) [application/octet-stream]\n",
            "Saving to: ‘original_TwitterRecSys2021_sample.parquet’\n",
            "\n",
            "original_TwitterRec 100%[===================>]   3.99M  --.-KB/s    in 0.06s   \n",
            "\n",
            "2022-01-30 12:17:17 (61.7 MB/s) - ‘original_TwitterRecSys2021_sample.parquet’ saved [4186624/4186624]\n",
            "\n"
          ]
        }
      ]
    },
    {
      "cell_type": "markdown",
      "source": [
        "## **Data Preprocessing**"
      ],
      "metadata": {
        "id": "dPeTtkjwzCNi"
      }
    },
    {
      "cell_type": "markdown",
      "source": [
        "**Define RecDP processor**"
      ],
      "metadata": {
        "id": "yxL_KGFK1F42"
      }
    },
    {
      "cell_type": "code",
      "source": [
        "proc = DataProcessor(spark, path_prefix,current_path=current_path, dicts_path=dicts_folder,shuffle_disk_capacity=\"10GB\",spark_mode='local')"
      ],
      "metadata": {
        "id": "ptBZZOd45lzG",
        "colab": {
          "base_uri": "https://localhost:8080/"
        },
        "outputId": "ad92c52f-74a5-4afe-af70-27b8bc53e85e"
      },
      "execution_count": 8,
      "outputs": [
        {
          "output_type": "stream",
          "name": "stdout",
          "text": [
            "recdp-scala-extension is enabled\n",
            "per core memory size is 2.000 GB and shuffle_disk maximum capacity is 10.000 GB\n"
          ]
        }
      ]
    },
    {
      "cell_type": "markdown",
      "source": [
        "**Read Data with Spark**"
      ],
      "metadata": {
        "id": "aoYIZgEU1K2k"
      }
    },
    {
      "cell_type": "code",
      "source": [
        "df = spark.read.parquet(path_prefix + \"original_TwitterRecSys2021_sample.parquet\")"
      ],
      "metadata": {
        "id": "8EUFxI3_-vV2"
      },
      "execution_count": 9,
      "outputs": []
    },
    {
      "cell_type": "code",
      "source": [
        "df.show(5)"
      ],
      "metadata": {
        "id": "euBdsJ9W51Xm",
        "colab": {
          "base_uri": "https://localhost:8080/"
        },
        "outputId": "01eebfcc-4ad6-40d4-bcab-795ad9200dc9"
      },
      "execution_count": 10,
      "outputs": [
        {
          "output_type": "stream",
          "name": "stdout",
          "text": [
            "+--------------------+--------+--------------------+-----------------+-------------+---------------+----------+--------------------+---------------+--------------------+--------------------------------+---------------------------------+-----------------------------+----------------------------------+--------------------+----------------------------+----------------------------+------------------------+------------------------------+-----------------------+---------------+-----------------+------------------------------+--------------+--------------------+\n",
            "|         text_tokens|hashtags|            tweet_id|    present_media|present_links|present_domains|tweet_type|            language|tweet_timestamp|engaged_with_user_id|engaged_with_user_follower_count|engaged_with_user_following_count|engaged_with_user_is_verified|engaged_with_user_account_creation|    engaging_user_id|engaging_user_follower_count|enaging_user_following_count|enaging_user_is_verified|engaging_user_account_creation|engagee_follows_engager|reply_timestamp|retweet_timestamp|retweet_with_comment_timestamp|like_timestamp|              tokens|\n",
            "+--------------------+--------+--------------------+-----------------+-------------+---------------+----------+--------------------+---------------+--------------------+--------------------------------+---------------------------------+-----------------------------+----------------------------------+--------------------+----------------------------+----------------------------+------------------------+------------------------------+-----------------------+---------------+-----------------+------------------------------+--------------+--------------------+\n",
            "|101\t2187\t4348\t447...|    null|01B819AA5A4820AD3...|            Photo|         null|           null|  TopLevel|E7F038DE3EAD397AE...|     1613203106|2B65E74CA114383F2...|                            1758|                              749|                        false|                        1254495526|9FA99C4AC51E1BFC0...|                        3677|                        5002|                   false|                    1450272107|                   true|           null|             null|                          null| 1.613209753E9|[101, 2187, 4348,...|\n",
            "|101\t56898\t137\t109...|    null|8008C4477E41EB690...|            Photo|         null|           null|   Retweet|488B32D24BD4BB441...|     1613423103|243072593D9E00A75...|                             264|                              307|                        false|                        1586806149|61691E81895651438...|                         326|                         321|                   false|                    1567623610|                   true|           null|    1.613423137E9|                          null|          null|[101, 56898, 137,...|\n",
            "|101\t56898\t137\t400...|    null|4607E1F2952E52780...|             null|         null|           null|   Retweet|488B32D24BD4BB441...|     1613236970|2588039BD99CBE36D...|                          123213|                             1616|                         true|                        1221850202|B783E4CF003E75768...|                          53|                         848|                   false|                    1361430727|                  false|           null|             null|                          null|          null|[101, 56898, 137,...|\n",
            "|101\t16976\t146\t409...|    null|A808D350F3BFBB562...|Photo\tPhoto\tPhoto|         null|           null|  TopLevel|488B32D24BD4BB441...|     1613323167|8D9BD2B942DE8E721...|                        11955340|                            27516|                         true|                        1312386600|D8D04AFC79FAF29C3...|                         839|                        1087|                   false|                    1437449579|                  false|           null|             null|                          null| 1.613330235E9|[101, 16976, 146,...|\n",
            "|101\t14120\t131\t120...|    null|477D0E00F8DEC6849...|              GIF|         null|           null|  TopLevel|313ECD3A1E5BB0740...|     1612872054|77F4BC1F41E55020F...|                           11117|                               74|                        false|                        1527757797|6E08E19C6320727AC...|                         682|                         540|                   false|                    1539424071|                  false|           null|             null|                          null| 1.612882895E9|[101, 14120, 131,...|\n",
            "+--------------------+--------+--------------------+-----------------+-------------+---------------+----------+--------------------+---------------+--------------------+--------------------------------+---------------------------------+-----------------------------+----------------------------------+--------------------+----------------------------+----------------------------+------------------------+------------------------------+-----------------------+---------------+-----------------+------------------------------+--------------+--------------------+\n",
            "only showing top 5 rows\n",
            "\n"
          ]
        }
      ]
    },
    {
      "cell_type": "markdown",
      "source": [
        "**Define Features**\n",
        "\n",
        "target_list: target columns\n",
        "\n",
        "feature_list: The final preprocessed features\n",
        "\n",
        "TE_col_features: The columns used for target encoding"
      ],
      "metadata": {
        "id": "4w5E9FTX1QHr"
      }
    },
    {
      "cell_type": "code",
      "source": [
        "target_list = ['reply_timestamp', 'like_timestamp']\n",
        "features_list = ['engaged_with_user_follower_count', 'enaging_user_is_verified', 'TE_engaged_with_user_id_reply_timestamp', 'TE_engaged_with_user_id_like_timestamp', 'TE_language_engaged_with_user_id_reply_timestamp', 'TE_language_engaged_with_user_id_like_timestamp', \"len_media\",]\n",
        "TE_col_features = [['engaged_with_user_id'], ['language', 'engaged_with_user_id'],]\n"
      ],
      "metadata": {
        "id": "jyekP1d7AR7u"
      },
      "execution_count": 11,
      "outputs": []
    },
    {
      "cell_type": "markdown",
      "source": [
        "**Preprocess some basic features**\n",
        "\n",
        "Add new features: len_media\n",
        "\n",
        "Binarize two target columns"
      ],
      "metadata": {
        "id": "A7S9bzDA1k0b"
      }
    },
    {
      "cell_type": "code",
      "source": [
        "# fill nan features\n",
        "op_fillna = FillNA([\"present_media\"],'')\n",
        "\n",
        "# Use udf function to add new features\n",
        "count_media = f.udf(lambda x: x.count('\\t')+1 if x != '' else 0, t.IntegerType())\n",
        "op_count_media = FeatureAdd(\n",
        "    cols={'len_media': 'present_media'}, udfImpl=count_media)\n",
        "\n",
        "# modify features\n",
        "op_feature_target_classify = FeatureModification(cols={\n",
        "    \"reply_timestamp\": \"f.when(f.col('reply_timestamp') > 0, 1).otherwise(0)\",\n",
        "    \"like_timestamp\": \"f.when(f.col('like_timestamp') > 0, 1).otherwise(0)\"}, op='inline')\n",
        "  \n",
        "# execute\n",
        "proc.reset_ops([op_fillna,\n",
        "                op_count_media,\n",
        "                op_feature_target_classify])\n",
        "df = proc.transform(df, name=\"decode_data\")\n",
        "\n",
        "print(\"data decoded!\")"
      ],
      "metadata": {
        "colab": {
          "base_uri": "https://localhost:8080/"
        },
        "id": "059b_oGD_E2V",
        "outputId": "d5559b1f-7ecc-4e9d-dfd5-24b88fb78c7d"
      },
      "execution_count": 12,
      "outputs": [
        {
          "output_type": "stream",
          "name": "stdout",
          "text": [
            "save data to .//data//decode_data\n",
            "data decoded!\n"
          ]
        }
      ]
    },
    {
      "cell_type": "markdown",
      "source": [
        "**5-fold Target Endcoding**"
      ],
      "metadata": {
        "id": "9R2y-ZnC1zK_"
      }
    },
    {
      "cell_type": "markdown",
      "source": [
        "Add a \"fold\" column"
      ],
      "metadata": {
        "id": "iRxjQC1p17M9"
      }
    },
    {
      "cell_type": "code",
      "source": [
        "df = df.withColumn(\"fold\", f.round(f.rand(seed=42)*(5-1)).cast(\"int\"))"
      ],
      "metadata": {
        "id": "D8VHB5qo1-pr"
      },
      "execution_count": 13,
      "outputs": []
    },
    {
      "cell_type": "markdown",
      "source": [
        "Calculate mean value for each target"
      ],
      "metadata": {
        "id": "xOStHePn2ASU"
      }
    },
    {
      "cell_type": "code",
      "source": [
        "y_mean_all = []  \n",
        "for tgt in target_list:\n",
        "    tmp = df.groupBy().mean(tgt).collect()[0]\n",
        "    y_mean_all.append(tmp[f\"avg({tgt})\"])"
      ],
      "metadata": {
        "id": "fsVl35wi2Edz"
      },
      "execution_count": 14,
      "outputs": []
    },
    {
      "cell_type": "markdown",
      "source": [
        "Calculte target encoding dicts"
      ],
      "metadata": {
        "id": "FetShSBP2HoP"
      }
    },
    {
      "cell_type": "code",
      "source": [
        "te_dfs = []\n",
        "for c in TE_col_features:\n",
        "    out_name = 'TE_'+'_'.join(c)\n",
        "    out_col_list = []\n",
        "    for tgt in target_list:\n",
        "        out_col_list.append('TE_'+'_'.join(c)+'_'+tgt)\n",
        "    encoder = TargetEncoder(proc, c, target_list, out_col_list, out_name, out_dtype=t.FloatType(), y_mean_list=y_mean_all)\n",
        "    te_train_df, _ = encoder.transform(df)\n",
        "    te_dfs.append({'col_name': ['fold'] + (c if isinstance(c, list) else [c]), 'dict': te_train_df})\n",
        "   \n",
        "print(\"data encoded!\")"
      ],
      "metadata": {
        "colab": {
          "base_uri": "https://localhost:8080/"
        },
        "id": "vpuTjEv5AFHp",
        "outputId": "ec5e74e4-932d-4f2c-de14-c3989e064049"
      },
      "execution_count": 16,
      "outputs": [
        {
          "output_type": "stream",
          "name": "stdout",
          "text": [
            "data encoded!\n"
          ]
        }
      ]
    },
    {
      "cell_type": "markdown",
      "source": [
        "Merge data with target encoding dicts "
      ],
      "metadata": {
        "id": "z21IFuKz2MsZ"
      }
    },
    {
      "cell_type": "code",
      "source": [
        "op_merge_to_train = ModelMerge(te_dfs)\n",
        "proc.reset_ops([op_merge_to_train])\n",
        "df = proc.transform(df, name=\"te_data\")"
      ],
      "metadata": {
        "colab": {
          "base_uri": "https://localhost:8080/"
        },
        "id": "nAmryjTC2Vcq",
        "outputId": "8f46c8ac-ee07-4b4a-f3a8-a086e03d9d2d"
      },
      "execution_count": 17,
      "outputs": [
        {
          "output_type": "stream",
          "name": "stdout",
          "text": [
            "save data to .//data//te_data\n"
          ]
        }
      ]
    },
    {
      "cell_type": "markdown",
      "source": [
        "## **Select final feature lists**"
      ],
      "metadata": {
        "id": "aR6k2Uds2Q-k"
      }
    },
    {
      "cell_type": "code",
      "source": [
        "op_select = SelectFeature(target_list + features_list)\n",
        "proc.reset_ops([op_select])\n",
        "df = proc.transform(df, name=\"preprocessed_data\")"
      ],
      "metadata": {
        "colab": {
          "base_uri": "https://localhost:8080/"
        },
        "id": "yB4l4dxp-uTa",
        "outputId": "d77658c0-6dd9-41f4-89ff-0d714806e3b0"
      },
      "execution_count": 18,
      "outputs": [
        {
          "output_type": "stream",
          "name": "stdout",
          "text": [
            "save data to .//data//preprocessed_data\n"
          ]
        }
      ]
    },
    {
      "cell_type": "code",
      "source": [
        "df.show(5)"
      ],
      "metadata": {
        "colab": {
          "base_uri": "https://localhost:8080/"
        },
        "id": "3v6-Qza-3Igh",
        "outputId": "c45f6cdd-a00a-4c0b-d954-55e158f65299"
      },
      "execution_count": 19,
      "outputs": [
        {
          "output_type": "stream",
          "name": "stdout",
          "text": [
            "+---------------+--------------+--------------------------------+------------------------+---------------------------------------+--------------------------------------+------------------------------------------------+-----------------------------------------------+---------+\n",
            "|reply_timestamp|like_timestamp|engaged_with_user_follower_count|enaging_user_is_verified|TE_engaged_with_user_id_reply_timestamp|TE_engaged_with_user_id_like_timestamp|TE_language_engaged_with_user_id_reply_timestamp|TE_language_engaged_with_user_id_like_timestamp|len_media|\n",
            "+---------------+--------------+--------------------------------+------------------------+---------------------------------------+--------------------------------------+------------------------------------------------+-----------------------------------------------+---------+\n",
            "|              0|             1|                            1758|                   false|                                 0.0267|                                0.3943|                                          0.0267|                                         0.3943|        1|\n",
            "|              0|             0|                             264|                   false|                                 0.0267|                                0.3943|                                          0.0267|                                         0.3943|        1|\n",
            "|              0|             0|                          123213|                   false|                                 0.0267|                                0.3943|                                          0.0267|                                         0.3943|        0|\n",
            "|              0|             1|                        11955340|                   false|                                 0.0267|                                0.3943|                                          0.0267|                                         0.3943|        3|\n",
            "|              0|             1|                           11117|                   false|                                 0.0267|                                0.3943|                                          0.0267|                                         0.3943|        1|\n",
            "+---------------+--------------+--------------------------------+------------------------+---------------------------------------+--------------------------------------+------------------------------------------------+-----------------------------------------------+---------+\n",
            "only showing top 5 rows\n",
            "\n"
          ]
        }
      ]
    }
  ]
}