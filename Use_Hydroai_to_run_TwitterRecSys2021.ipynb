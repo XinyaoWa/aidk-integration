{
  "nbformat": 4,
  "nbformat_minor": 0,
  "metadata": {
    "colab": {
      "name": "Use Hydroai to run TwitterRecSys2021.ipynb",
      "provenance": [],
      "collapsed_sections": [],
      "authorship_tag": "ABX9TyPvErzejV5LY8oGsoatgOf4",
      "include_colab_link": true
    },
    "kernelspec": {
      "name": "python3",
      "display_name": "Python 3"
    },
    "language_info": {
      "name": "python"
    }
  },
  "cells": [
    {
      "cell_type": "markdown",
      "metadata": {
        "id": "view-in-github",
        "colab_type": "text"
      },
      "source": [
        "<a href=\"https://colab.research.google.com/github/XinyaoWa/hydroai-colab/blob/main/Use_Hydroai_to_run_TwitterRecSys2021.ipynb\" target=\"_parent\"><img src=\"https://colab.research.google.com/assets/colab-badge.svg\" alt=\"Open In Colab\"/></a>"
      ]
    },
    {
      "cell_type": "markdown",
      "source": [
        "The below will be deleted when hydro.ai can be installed with pip"
      ],
      "metadata": {
        "id": "h9tasNqTmNyc"
      }
    },
    {
      "cell_type": "code",
      "execution_count": 1,
      "metadata": {
        "id": "Z3vJSyZV7EJZ",
        "colab": {
          "base_uri": "https://localhost:8080/"
        },
        "outputId": "bc4e95d8-3a07-4278-b427-87bef77f7a5a"
      },
      "outputs": [
        {
          "output_type": "stream",
          "name": "stdout",
          "text": [
            "Drive already mounted at /content/drive/; to attempt to forcibly remount, call drive.mount(\"/content/drive/\", force_remount=True).\n"
          ]
        }
      ],
      "source": [
        "## to be deleted\n",
        "from google.colab import drive\n",
        "import os\n",
        "drive.mount('/content/drive/')\n",
        "os.chdir('/content/drive/My Drive/integration/frameworks.bigdata.bluewhale-main')"
      ]
    },
    {
      "cell_type": "markdown",
      "source": [
        "## **Environment Preparation**"
      ],
      "metadata": {
        "id": "8jEEcwBbmZu6"
      }
    },
    {
      "cell_type": "markdown",
      "source": [
        "**Install hydro.ai**"
      ],
      "metadata": {
        "id": "0CxJhGk-m6JX"
      }
    },
    {
      "cell_type": "code",
      "source": [
        "# pip install hydroailib\n",
        "# import hydroailib\n",
        "# import hydroailib.hydroai as hydroai\n",
        "# import hydroailib.SDA as SDA\n",
        "# import hydroailib.dataloader as dataloader\n",
        "# hydroailib_path = hydroailib.__path__[0]\n",
        "hydroailib_path = './'\n",
        "hydroailib_path"
      ],
      "metadata": {
        "colab": {
          "base_uri": "https://localhost:8080/",
          "height": 35
        },
        "id": "2-4POVvs8ss4",
        "outputId": "48eacc3e-0245-4613-9aa1-46a4af382182"
      },
      "execution_count": 2,
      "outputs": [
        {
          "output_type": "execute_result",
          "data": {
            "application/vnd.google.colaboratory.intrinsic+json": {
              "type": "string"
            },
            "text/plain": [
              "'./'"
            ]
          },
          "metadata": {},
          "execution_count": 2
        }
      ]
    },
    {
      "cell_type": "markdown",
      "source": [
        "**Install sigopt**\n",
        "\n",
        "Set up sigopt API token"
      ],
      "metadata": {
        "id": "waE7DYTLnKkj"
      }
    },
    {
      "cell_type": "code",
      "source": [
        "! pip install sigopt==7.5.0\n",
        "%env SIGOPT_API_TOKEN=$SIGOPT_API_TOKEN"
      ],
      "metadata": {
        "colab": {
          "base_uri": "https://localhost:8080/"
        },
        "id": "3hq4AkjoWCo6",
        "outputId": "263ae2b1-d634-48db-f0ca-fab65626bc8e"
      },
      "execution_count": 3,
      "outputs": [
        {
          "output_type": "stream",
          "name": "stdout",
          "text": [
            "Requirement already satisfied: sigopt==7.5.0 in /usr/local/lib/python3.7/dist-packages (7.5.0)\n",
            "Requirement already satisfied: GitPython>=2.0.0 in /usr/local/lib/python3.7/dist-packages (from sigopt==7.5.0) (3.1.26)\n",
            "Requirement already satisfied: pypng>=0.0.20 in /usr/local/lib/python3.7/dist-packages (from sigopt==7.5.0) (0.0.21)\n",
            "Requirement already satisfied: requests>=2.11.1 in /usr/local/lib/python3.7/dist-packages (from sigopt==7.5.0) (2.23.0)\n",
            "Requirement already satisfied: click>=7.0.0 in /usr/local/lib/python3.7/dist-packages (from sigopt==7.5.0) (7.1.2)\n",
            "Requirement already satisfied: PyYAML>=5.4.1 in /usr/local/lib/python3.7/dist-packages (from sigopt==7.5.0) (6.0)\n",
            "Requirement already satisfied: ipython>=5.0.0 in /usr/local/lib/python3.7/dist-packages (from sigopt==7.5.0) (5.5.0)\n",
            "Requirement already satisfied: typing-extensions>=3.7.4.3 in /usr/local/lib/python3.7/dist-packages (from GitPython>=2.0.0->sigopt==7.5.0) (3.10.0.2)\n",
            "Requirement already satisfied: gitdb<5,>=4.0.1 in /usr/local/lib/python3.7/dist-packages (from GitPython>=2.0.0->sigopt==7.5.0) (4.0.9)\n",
            "Requirement already satisfied: smmap<6,>=3.0.1 in /usr/local/lib/python3.7/dist-packages (from gitdb<5,>=4.0.1->GitPython>=2.0.0->sigopt==7.5.0) (5.0.0)\n",
            "Requirement already satisfied: prompt-toolkit<2.0.0,>=1.0.4 in /usr/local/lib/python3.7/dist-packages (from ipython>=5.0.0->sigopt==7.5.0) (1.0.18)\n",
            "Requirement already satisfied: decorator in /usr/local/lib/python3.7/dist-packages (from ipython>=5.0.0->sigopt==7.5.0) (4.4.2)\n",
            "Requirement already satisfied: pickleshare in /usr/local/lib/python3.7/dist-packages (from ipython>=5.0.0->sigopt==7.5.0) (0.7.5)\n",
            "Requirement already satisfied: pygments in /usr/local/lib/python3.7/dist-packages (from ipython>=5.0.0->sigopt==7.5.0) (2.6.1)\n",
            "Requirement already satisfied: simplegeneric>0.8 in /usr/local/lib/python3.7/dist-packages (from ipython>=5.0.0->sigopt==7.5.0) (0.8.1)\n",
            "Requirement already satisfied: traitlets>=4.2 in /usr/local/lib/python3.7/dist-packages (from ipython>=5.0.0->sigopt==7.5.0) (5.1.1)\n",
            "Requirement already satisfied: pexpect in /usr/local/lib/python3.7/dist-packages (from ipython>=5.0.0->sigopt==7.5.0) (4.8.0)\n",
            "Requirement already satisfied: setuptools>=18.5 in /usr/local/lib/python3.7/dist-packages (from ipython>=5.0.0->sigopt==7.5.0) (57.4.0)\n",
            "Requirement already satisfied: six>=1.9.0 in /usr/local/lib/python3.7/dist-packages (from prompt-toolkit<2.0.0,>=1.0.4->ipython>=5.0.0->sigopt==7.5.0) (1.15.0)\n",
            "Requirement already satisfied: wcwidth in /usr/local/lib/python3.7/dist-packages (from prompt-toolkit<2.0.0,>=1.0.4->ipython>=5.0.0->sigopt==7.5.0) (0.2.5)\n",
            "Requirement already satisfied: idna<3,>=2.5 in /usr/local/lib/python3.7/dist-packages (from requests>=2.11.1->sigopt==7.5.0) (2.10)\n",
            "Requirement already satisfied: chardet<4,>=3.0.2 in /usr/local/lib/python3.7/dist-packages (from requests>=2.11.1->sigopt==7.5.0) (3.0.4)\n",
            "Requirement already satisfied: certifi>=2017.4.17 in /usr/local/lib/python3.7/dist-packages (from requests>=2.11.1->sigopt==7.5.0) (2021.10.8)\n",
            "Requirement already satisfied: urllib3!=1.25.0,!=1.25.1,<1.26,>=1.21.1 in /usr/local/lib/python3.7/dist-packages (from requests>=2.11.1->sigopt==7.5.0) (1.24.3)\n",
            "Requirement already satisfied: ptyprocess>=0.5 in /usr/local/lib/python3.7/dist-packages (from pexpect->ipython>=5.0.0->sigopt==7.5.0) (0.7.0)\n",
            "env: SIGOPT_API_TOKEN=SHJAKPKQIQOESRBQDHLAGYVEZVULHJVJTNAVVQUHFRHLXZVZ\n"
          ]
        }
      ]
    },
    {
      "cell_type": "markdown",
      "source": [
        "**Import relative libs**"
      ],
      "metadata": {
        "id": "afT68xxindDb"
      }
    },
    {
      "cell_type": "code",
      "source": [
        "import os\n",
        "import sys\n",
        "from hydroai.hydroautolearner import HydroAutoLearner"
      ],
      "metadata": {
        "id": "mmYUkpgOVrKr"
      },
      "execution_count": 4,
      "outputs": []
    },
    {
      "cell_type": "markdown",
      "source": [
        "## **Use Hydro.ai to run TwitterRecSys2021 example**"
      ],
      "metadata": {
        "id": "BAeO7uuhnriE"
      }
    },
    {
      "cell_type": "markdown",
      "source": [
        "### **Prepare TwitterRecSys2021 dataset**"
      ],
      "metadata": {
        "id": "fqqpZdUjn2bR"
      }
    },
    {
      "cell_type": "code",
      "source": [
        "! wget --no-check-certificate 'https://docs.google.com/uc?export=download&id=14Lkvye3Wat3bjZelGuQJ4y_vXbHBUAFF' -O TwitterRecSys2021Dataset_sampledata.zip\n",
        "! unzip TwitterRecSys2021Dataset_sampledata.zip"
      ],
      "metadata": {
        "colab": {
          "base_uri": "https://localhost:8080/"
        },
        "id": "WEB0lKm-SnKT",
        "outputId": "aae0caf4-590c-4c60-c750-0cf6b149f44d"
      },
      "execution_count": null,
      "outputs": [
        {
          "output_type": "stream",
          "name": "stdout",
          "text": [
            "--2022-01-28 12:30:02--  https://docs.google.com/uc?export=download&id=14Lkvye3Wat3bjZelGuQJ4y_vXbHBUAFF\n",
            "Resolving docs.google.com (docs.google.com)... 74.125.141.101, 74.125.141.138, 74.125.141.139, ...\n",
            "Connecting to docs.google.com (docs.google.com)|74.125.141.101|:443... connected.\n",
            "HTTP request sent, awaiting response... 302 Moved Temporarily\n",
            "Location: https://doc-14-1s-docs.googleusercontent.com/docs/securesc/ha0ro937gcuc7l7deffksulhg5h7mbp1/nk1ulpeh3fadmuml677r1qcchrrv1g46/1643373000000/18016102022855825607/*/14Lkvye3Wat3bjZelGuQJ4y_vXbHBUAFF?e=download [following]\n",
            "Warning: wildcards not supported in HTTP.\n",
            "--2022-01-28 12:30:04--  https://doc-14-1s-docs.googleusercontent.com/docs/securesc/ha0ro937gcuc7l7deffksulhg5h7mbp1/nk1ulpeh3fadmuml677r1qcchrrv1g46/1643373000000/18016102022855825607/*/14Lkvye3Wat3bjZelGuQJ4y_vXbHBUAFF?e=download\n",
            "Resolving doc-14-1s-docs.googleusercontent.com (doc-14-1s-docs.googleusercontent.com)... 172.217.203.132, 2607:f8b0:400c:c07::84\n",
            "Connecting to doc-14-1s-docs.googleusercontent.com (doc-14-1s-docs.googleusercontent.com)|172.217.203.132|:443... connected.\n",
            "HTTP request sent, awaiting response... 200 OK\n",
            "Length: 5439940 (5.2M) [application/x-zip-compressed]\n",
            "Saving to: ‘TwitterRecSys2021Dataset_sampledata.zip’\n",
            "\n",
            "TwitterRecSys2021Da 100%[===================>]   5.19M  27.8MB/s    in 0.2s    \n",
            "\n",
            "2022-01-28 12:30:04 (27.8 MB/s) - ‘TwitterRecSys2021Dataset_sampledata.zip’ saved [5439940/5439940]\n",
            "\n",
            "Archive:  TwitterRecSys2021Dataset_sampledata.zip\n",
            "replace TwitterRecSys2021Dataset_sample/valid/valid.parquet? [y]es, [n]o, [A]ll, [N]one, [r]ename: "
          ]
        }
      ]
    },
    {
      "cell_type": "markdown",
      "source": [
        "### **Parameter setting**\n",
        "\n",
        "\"data_path\": can change to you own data set path\n",
        "\n",
        "\"observation_budget\": set sigopt experiment budget\n",
        "\n",
        "\"enable_sigopt\": disable this if you just want to train with default parameters\n",
        "\n",
        "\"train_script\": change the path if you have a customized script"
      ],
      "metadata": {
        "id": "h4JFnDmbn__E"
      }
    },
    {
      "cell_type": "code",
      "source": [
        "parameters = {\n",
        "    'model_name' : 'twitter_recsys',\n",
        "    'data_path' : './TwitterRecSys2021Dataset_sample',\n",
        "    'save_path': './result',\n",
        "    'observation_budget': 5,\n",
        "    'stage' : 'stage1',\n",
        "    'target' : 'like',\n",
        "    'conf': '',\n",
        "    'enable_sigopt' : True,\n",
        "    'enable_model_cache' : False,\n",
        "    'executable_python': 'python',\n",
        "    'train_script': hydroailib_path+'/modelzoo/TwitterRecSys/TwitterRecSys2021-intel-opt/model_hydroai/xgboost/train.py',  \n",
        "}"
      ],
      "metadata": {
        "id": "fY1Q6DzAcMMx"
      },
      "execution_count": 8,
      "outputs": []
    },
    {
      "cell_type": "markdown",
      "source": [
        "### **Run Hydro.ai experiments**"
      ],
      "metadata": {
        "id": "eIaSITfAp48A"
      }
    },
    {
      "cell_type": "code",
      "source": [
        "learner = HydroAutoLearner(parameters)\n",
        "learner.submit()\n",
        "\n",
        "model = learner.get_best_model()\n",
        "print(\"\\nWe found the best model! Here is the model explaination\")\n",
        "model.explain()"
      ],
      "metadata": {
        "colab": {
          "base_uri": "https://localhost:8080/"
        },
        "id": "hhjmea9VUPS6",
        "outputId": "e5da7a5c-f25e-4f34-8934-89430a0d5011"
      },
      "execution_count": 9,
      "outputs": [
        {
          "output_type": "stream",
          "name": "stderr",
          "text": [
            "2022-01-28 13:09:20,730 - HYDRO.AI.SDA - INFO - Model Advisor created\n",
            "2022-01-28 13:09:20,732 - HYDRO.AI.SDA - INFO - Start to init sigopt\n"
          ]
        },
        {
          "name": "stdout",
          "output_type": "stream",
          "text": [
            "experiment: RecSys\n",
            "metrics:\n",
            "- name: AP\n",
            "  objective: maximize\n",
            "  strategy: optimize\n",
            "- name: RCE\n",
            "  objective: maximize\n",
            "observation_budget: 5\n",
            "parameters:\n",
            "- bounds:\n",
            "    max: 20\n",
            "    min: 5\n",
            "  name: max_depth\n",
            "  type: int\n",
            "- bounds:\n",
            "    max: 1.0\n",
            "    min: 0.0\n",
            "  name: learning_rate\n",
            "  type: double\n",
            "- bounds:\n",
            "    max: 1\n",
            "    min: 0.5\n",
            "  name: subsample\n",
            "  type: double\n",
            "- bounds:\n",
            "    max: 1.0\n",
            "    min: 0.5\n",
            "  name: colsample_bytree\n",
            "  type: double\n",
            "- bounds:\n",
            "    max: 1000\n",
            "    min: 100\n",
            "  name: num_boost_round\n",
            "  type: int\n",
            "project: hydro.ai\n",
            "Please confirm with sigopt parameters?(n for exit)y\n"
          ]
        },
        {
          "output_type": "stream",
          "name": "stderr",
          "text": [
            "2022-01-28 13:09:27,779 - HYDRO.AI.SDA - INFO - model parameter initialized\n",
            "2022-01-28 13:09:27,781 - HYDRO.AI.SDA - INFO - start to launch training\n",
            "2022-01-28 13:09:27,784 - sigopt - INFO - Experiment budget: 5\n",
            "2022-01-28 13:09:28,304 - sigopt - INFO - training launch command: python -u .//modelzoo/TwitterRecSys/TwitterRecSys2021-intel-opt/model_hydroai/xgboost/train.py --stage stage1 --target like --train_data_path ./TwitterRecSys2021Dataset_sample/train/train.parquet --valid_data_path ./TwitterRecSys2021Dataset_sample/valid/valid.parquet --model_save_path ./result/421679a5bd77bc2f7e22e00bf43f6c62 --max_depth 16 --learning_rate 0.8172965216905729 --subsample 0.9597250204232545 --colsample_bytree 0.6896275194179705 --num_boost_round 496 \n",
            "2022-01-28 13:09:35,971 - sigopt - INFO - Received sigopt suggestion, assignment is                     OrderedDict([('colsample_bytree', 0.6896275194179705), ('learning_rate', 0.8172965216905729), ('max_depth', 16), ('num_boost_round', 496), ('subsample', 0.9597250204232545)])\n",
            "2022-01-28 13:09:35,973 - sigopt - INFO - Training completed with sigopt suggestion,                     metrics is [{'name': 'AP', 'value': 0.6019145649124003}, {'name': 'RCE', 'value': -60.7416848377081}]\n",
            "2022-01-28 13:09:37,712 - sigopt - INFO - training launch command: python -u .//modelzoo/TwitterRecSys/TwitterRecSys2021-intel-opt/model_hydroai/xgboost/train.py --stage stage1 --target like --train_data_path ./TwitterRecSys2021Dataset_sample/train/train.parquet --valid_data_path ./TwitterRecSys2021Dataset_sample/valid/valid.parquet --model_save_path ./result/27d3db30dba058e64c71f905b3c3dddf --max_depth 18 --learning_rate 0.7446747903846227 --subsample 0.8591363790739647 --colsample_bytree 0.7544191370545819 --num_boost_round 847 \n",
            "2022-01-28 13:09:42,574 - sigopt - INFO - Received sigopt suggestion, assignment is                     OrderedDict([('colsample_bytree', 0.7544191370545819), ('learning_rate', 0.7446747903846227), ('max_depth', 18), ('num_boost_round', 847), ('subsample', 0.8591363790739647)])\n",
            "2022-01-28 13:09:42,576 - sigopt - INFO - Training completed with sigopt suggestion,                     metrics is [{'name': 'AP', 'value': 0.6008161705046537}, {'name': 'RCE', 'value': -58.86700459578793}]\n",
            "2022-01-28 13:09:44,135 - sigopt - INFO - training launch command: python -u .//modelzoo/TwitterRecSys/TwitterRecSys2021-intel-opt/model_hydroai/xgboost/train.py --stage stage1 --target like --train_data_path ./TwitterRecSys2021Dataset_sample/train/train.parquet --valid_data_path ./TwitterRecSys2021Dataset_sample/valid/valid.parquet --model_save_path ./result/53639e5bb14eebb1d25c434466444c74 --max_depth 12 --learning_rate 0.24232874765830958 --subsample 0.6950780648071941 --colsample_bytree 0.9826626834544946 --num_boost_round 657 \n",
            "2022-01-28 13:09:49,850 - sigopt - INFO - Received sigopt suggestion, assignment is                     OrderedDict([('colsample_bytree', 0.9826626834544946), ('learning_rate', 0.24232874765830958), ('max_depth', 12), ('num_boost_round', 657), ('subsample', 0.6950780648071941)])\n",
            "2022-01-28 13:09:49,852 - sigopt - INFO - Training completed with sigopt suggestion,                     metrics is [{'name': 'AP', 'value': 0.6181402137078815}, {'name': 'RCE', 'value': -7.871794945452937}]\n",
            "2022-01-28 13:09:51,422 - sigopt - INFO - training launch command: python -u .//modelzoo/TwitterRecSys/TwitterRecSys2021-intel-opt/model_hydroai/xgboost/train.py --stage stage1 --target like --train_data_path ./TwitterRecSys2021Dataset_sample/train/train.parquet --valid_data_path ./TwitterRecSys2021Dataset_sample/valid/valid.parquet --model_save_path ./result/aba6d9cba47accc9227b6b8b659132ba --max_depth 6 --learning_rate 0.11494849294483711 --subsample 0.7994927734796262 --colsample_bytree 0.8386689527618147 --num_boost_round 188 \n",
            "2022-01-28 13:09:54,701 - sigopt - INFO - Received sigopt suggestion, assignment is                     OrderedDict([('colsample_bytree', 0.8386689527618147), ('learning_rate', 0.11494849294483711), ('max_depth', 6), ('num_boost_round', 188), ('subsample', 0.7994927734796262)])\n",
            "2022-01-28 13:09:54,703 - sigopt - INFO - Training completed with sigopt suggestion,                     metrics is [{'name': 'AP', 'value': 0.632465887610479}, {'name': 'RCE', 'value': 7.362426266367283}]\n",
            "2022-01-28 13:09:56,017 - sigopt - INFO - training launch command: python -u .//modelzoo/TwitterRecSys/TwitterRecSys2021-intel-opt/model_hydroai/xgboost/train.py --stage stage1 --target like --train_data_path ./TwitterRecSys2021Dataset_sample/train/train.parquet --valid_data_path ./TwitterRecSys2021Dataset_sample/valid/valid.parquet --model_save_path ./result/d94e55aebf5f050c4f62cef63ac714ad --max_depth 9 --learning_rate 0.5000909124512817 --subsample 0.5040851034761192 --colsample_bytree 0.5998814359878131 --num_boost_round 282 \n",
            "2022-01-28 13:09:59,191 - sigopt - INFO - Received sigopt suggestion, assignment is                     OrderedDict([('colsample_bytree', 0.5998814359878131), ('learning_rate', 0.5000909124512817), ('max_depth', 9), ('num_boost_round', 282), ('subsample', 0.5040851034761192)])\n",
            "2022-01-28 13:09:59,193 - sigopt - INFO - Training completed with sigopt suggestion,                     metrics is [{'name': 'AP', 'value': 0.5979473092864893}, {'name': 'RCE', 'value': -27.775463532386002}]\n",
            "2022-01-28 13:10:00,255 - sigopt - INFO - Training with sigopt is completed!                 https://app.sigopt.com/experiment/479515 \n",
            "/usr/local/lib/python3.7/dist-packages/sigopt/objects.py:327: RuntimeWarning: The .data field only contains a single page of results, which may be incomplete for large responses. Prefer to use the `.iterate_pages() to ensure that you iterate through all elements in the response.\n",
            "  RuntimeWarning,\n",
            "2022-01-28 13:10:00,873 - HYDRO.AI.SDA - INFO - training script completed\n"
          ]
        },
        {
          "output_type": "stream",
          "name": "stdout",
          "text": [
            "\n",
            "We found the best model! Here is the model explaination\n",
            "\n",
            "===============================================\n",
            "***    Best Trained Model    ***\n",
            "===============================================\n",
            "  Model Type: twitter_recsys\n",
            "  Model Saved Path: ./result/aba6d9cba47accc9227b6b8b659132ba\n",
            "  Sigopt Experiment id is 479515\n",
            "  === Result Metrics ===\n",
            "    AP: 0.632465887610479\n",
            "    RCE: 7.362426266367283\n",
            "===============================================\n"
          ]
        }
      ]
    }
  ]
}
