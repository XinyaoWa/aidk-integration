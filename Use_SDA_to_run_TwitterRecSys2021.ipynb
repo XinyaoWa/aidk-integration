{
  "nbformat": 4,
  "nbformat_minor": 0,
  "metadata": {
    "colab": {
      "name": "Use SDA to run TwitterRecSys2021.ipynb",
      "provenance": [],
      "collapsed_sections": [],
      "authorship_tag": "ABX9TyMA7b6y1EXxHe4phHg1JM4F",
      "include_colab_link": true
    },
    "kernelspec": {
      "name": "python3",
      "display_name": "Python 3"
    },
    "language_info": {
      "name": "python"
    }
  },
  "cells": [
    {
      "cell_type": "markdown",
      "metadata": {
        "id": "view-in-github",
        "colab_type": "text"
      },
      "source": [
        "<a href=\"https://colab.research.google.com/github/XinyaoWa/hydroai-colab/blob/main/Use_SDA_to_run_TwitterRecSys2021.ipynb\" target=\"_parent\"><img src=\"https://colab.research.google.com/assets/colab-badge.svg\" alt=\"Open In Colab\"/></a>"
      ]
    },
    {
      "cell_type": "markdown",
      "source": [
        "The below will be deleted when hydro.ai can be installed with pip"
      ],
      "metadata": {
        "id": "h9tasNqTmNyc"
      }
    },
    {
      "cell_type": "code",
      "execution_count": null,
      "metadata": {
        "colab": {
          "base_uri": "https://localhost:8080/"
        },
        "id": "Z3vJSyZV7EJZ",
        "outputId": "2950246e-2512-4dac-e742-733b744633ba"
      },
      "outputs": [
        {
          "output_type": "stream",
          "name": "stdout",
          "text": [
            "Drive already mounted at /content/drive/; to attempt to forcibly remount, call drive.mount(\"/content/drive/\", force_remount=True).\n"
          ]
        }
      ],
      "source": [
        "## to be deleted\n",
        "from google.colab import drive\n",
        "import os\n",
        "drive.mount('/content/drive/')\n",
        "os.chdir('/content/drive/My Drive/integration/frameworks.bigdata.bluewhale-main')"
      ]
    },
    {
      "cell_type": "markdown",
      "source": [
        "## **Environment Preparation**"
      ],
      "metadata": {
        "id": "8jEEcwBbmZu6"
      }
    },
    {
      "cell_type": "markdown",
      "source": [
        "**Install hydro.ai**"
      ],
      "metadata": {
        "id": "0CxJhGk-m6JX"
      }
    },
    {
      "cell_type": "code",
      "source": [
        "# pip install hydroailib\n",
        "# import hydroailib\n",
        "# import hydroailib.hydroai as hydroai\n",
        "# import hydroailib.SDA as SDA\n",
        "# import hydroailib.dataloader as dataloader\n",
        "# hydroailib_path = hydroailib.__path__[0]\n",
        "hydroailib_path = './'\n",
        "hydroailib_path"
      ],
      "metadata": {
        "colab": {
          "base_uri": "https://localhost:8080/",
          "height": 35
        },
        "id": "2-4POVvs8ss4",
        "outputId": "c6937b05-073e-4147-edb2-5fa1e03413c4"
      },
      "execution_count": null,
      "outputs": [
        {
          "output_type": "execute_result",
          "data": {
            "application/vnd.google.colaboratory.intrinsic+json": {
              "type": "string"
            },
            "text/plain": [
              "'./'"
            ]
          },
          "metadata": {},
          "execution_count": 19
        }
      ]
    },
    {
      "cell_type": "markdown",
      "source": [
        "**Install sigopt**\n",
        "\n",
        "Set up sigopt API token"
      ],
      "metadata": {
        "id": "waE7DYTLnKkj"
      }
    },
    {
      "cell_type": "code",
      "source": [
        "! pip install sigopt==7.5.0\n",
        "%env SIGOPT_API_TOKEN=SHJAKPKQIQOESRBQDHLAGYVEZVULHJVJTNAVVQUHFRHLXZVZ"
      ],
      "metadata": {
        "colab": {
          "base_uri": "https://localhost:8080/"
        },
        "id": "3hq4AkjoWCo6",
        "outputId": "0b834a1e-18c7-4704-e9f6-63a8abb2cabf"
      },
      "execution_count": null,
      "outputs": [
        {
          "output_type": "stream",
          "name": "stdout",
          "text": [
            "Requirement already satisfied: sigopt==7.5.0 in /usr/local/lib/python3.7/dist-packages (7.5.0)\n",
            "Requirement already satisfied: requests>=2.11.1 in /usr/local/lib/python3.7/dist-packages (from sigopt==7.5.0) (2.23.0)\n",
            "Requirement already satisfied: PyYAML>=5.4.1 in /usr/local/lib/python3.7/dist-packages (from sigopt==7.5.0) (6.0)\n",
            "Requirement already satisfied: ipython>=5.0.0 in /usr/local/lib/python3.7/dist-packages (from sigopt==7.5.0) (5.5.0)\n",
            "Requirement already satisfied: click>=7.0.0 in /usr/local/lib/python3.7/dist-packages (from sigopt==7.5.0) (7.1.2)\n",
            "Requirement already satisfied: pypng>=0.0.20 in /usr/local/lib/python3.7/dist-packages (from sigopt==7.5.0) (0.0.21)\n",
            "Requirement already satisfied: GitPython>=2.0.0 in /usr/local/lib/python3.7/dist-packages (from sigopt==7.5.0) (3.1.26)\n",
            "Requirement already satisfied: gitdb<5,>=4.0.1 in /usr/local/lib/python3.7/dist-packages (from GitPython>=2.0.0->sigopt==7.5.0) (4.0.9)\n",
            "Requirement already satisfied: typing-extensions>=3.7.4.3 in /usr/local/lib/python3.7/dist-packages (from GitPython>=2.0.0->sigopt==7.5.0) (3.10.0.2)\n",
            "Requirement already satisfied: smmap<6,>=3.0.1 in /usr/local/lib/python3.7/dist-packages (from gitdb<5,>=4.0.1->GitPython>=2.0.0->sigopt==7.5.0) (5.0.0)\n",
            "Requirement already satisfied: setuptools>=18.5 in /usr/local/lib/python3.7/dist-packages (from ipython>=5.0.0->sigopt==7.5.0) (57.4.0)\n",
            "Requirement already satisfied: pygments in /usr/local/lib/python3.7/dist-packages (from ipython>=5.0.0->sigopt==7.5.0) (2.6.1)\n",
            "Requirement already satisfied: pickleshare in /usr/local/lib/python3.7/dist-packages (from ipython>=5.0.0->sigopt==7.5.0) (0.7.5)\n",
            "Requirement already satisfied: decorator in /usr/local/lib/python3.7/dist-packages (from ipython>=5.0.0->sigopt==7.5.0) (4.4.2)\n",
            "Requirement already satisfied: traitlets>=4.2 in /usr/local/lib/python3.7/dist-packages (from ipython>=5.0.0->sigopt==7.5.0) (5.1.1)\n",
            "Requirement already satisfied: pexpect in /usr/local/lib/python3.7/dist-packages (from ipython>=5.0.0->sigopt==7.5.0) (4.8.0)\n",
            "Requirement already satisfied: prompt-toolkit<2.0.0,>=1.0.4 in /usr/local/lib/python3.7/dist-packages (from ipython>=5.0.0->sigopt==7.5.0) (1.0.18)\n",
            "Requirement already satisfied: simplegeneric>0.8 in /usr/local/lib/python3.7/dist-packages (from ipython>=5.0.0->sigopt==7.5.0) (0.8.1)\n",
            "Requirement already satisfied: wcwidth in /usr/local/lib/python3.7/dist-packages (from prompt-toolkit<2.0.0,>=1.0.4->ipython>=5.0.0->sigopt==7.5.0) (0.2.5)\n",
            "Requirement already satisfied: six>=1.9.0 in /usr/local/lib/python3.7/dist-packages (from prompt-toolkit<2.0.0,>=1.0.4->ipython>=5.0.0->sigopt==7.5.0) (1.15.0)\n",
            "Requirement already satisfied: urllib3!=1.25.0,!=1.25.1,<1.26,>=1.21.1 in /usr/local/lib/python3.7/dist-packages (from requests>=2.11.1->sigopt==7.5.0) (1.24.3)\n",
            "Requirement already satisfied: idna<3,>=2.5 in /usr/local/lib/python3.7/dist-packages (from requests>=2.11.1->sigopt==7.5.0) (2.10)\n",
            "Requirement already satisfied: certifi>=2017.4.17 in /usr/local/lib/python3.7/dist-packages (from requests>=2.11.1->sigopt==7.5.0) (2021.10.8)\n",
            "Requirement already satisfied: chardet<4,>=3.0.2 in /usr/local/lib/python3.7/dist-packages (from requests>=2.11.1->sigopt==7.5.0) (3.0.4)\n",
            "Requirement already satisfied: ptyprocess>=0.5 in /usr/local/lib/python3.7/dist-packages (from pexpect->ipython>=5.0.0->sigopt==7.5.0) (0.7.0)\n",
            "env: SIGOPT_API_TOKEN=SHJAKPKQIQOESRBQDHLAGYVEZVULHJVJTNAVVQUHFRHLXZVZ\n"
          ]
        }
      ]
    },
    {
      "cell_type": "markdown",
      "source": [
        "**Import SDA and relative libs**"
      ],
      "metadata": {
        "id": "afT68xxindDb"
      }
    },
    {
      "cell_type": "code",
      "source": [
        "import os\n",
        "import pathlib\n",
        "import yaml\n",
        "from dataloader.hydrodataloader import *\n",
        "from hydroai.hydroconfig import *\n",
        "from hydroai.hydromodel import *\n",
        "from SDA.modeladvisor.TwitterRecSysAdvisor import *"
      ],
      "metadata": {
        "id": "mmYUkpgOVrKr"
      },
      "execution_count": null,
      "outputs": []
    },
    {
      "cell_type": "markdown",
      "source": [
        "## **Use SDA to run TwitterRecSys2021 example**"
      ],
      "metadata": {
        "id": "BAeO7uuhnriE"
      }
    },
    {
      "cell_type": "markdown",
      "source": [
        "### **Prepare TwitterRecSys2021 dataset**"
      ],
      "metadata": {
        "id": "fqqpZdUjn2bR"
      }
    },
    {
      "cell_type": "code",
      "source": [
        "! wget --no-check-certificate 'https://docs.google.com/uc?export=download&id=14Lkvye3Wat3bjZelGuQJ4y_vXbHBUAFF' -O TwitterRecSys2021Dataset_sampledata.zip\n",
        "! unzip TwitterRecSys2021Dataset_sampledata.zip"
      ],
      "metadata": {
        "colab": {
          "base_uri": "https://localhost:8080/"
        },
        "id": "WEB0lKm-SnKT",
        "outputId": "aae0caf4-590c-4c60-c750-0cf6b149f44d"
      },
      "execution_count": null,
      "outputs": [
        {
          "output_type": "stream",
          "name": "stdout",
          "text": [
            "--2022-01-28 12:30:02--  https://docs.google.com/uc?export=download&id=14Lkvye3Wat3bjZelGuQJ4y_vXbHBUAFF\n",
            "Resolving docs.google.com (docs.google.com)... 74.125.141.101, 74.125.141.138, 74.125.141.139, ...\n",
            "Connecting to docs.google.com (docs.google.com)|74.125.141.101|:443... connected.\n",
            "HTTP request sent, awaiting response... 302 Moved Temporarily\n",
            "Location: https://doc-14-1s-docs.googleusercontent.com/docs/securesc/ha0ro937gcuc7l7deffksulhg5h7mbp1/nk1ulpeh3fadmuml677r1qcchrrv1g46/1643373000000/18016102022855825607/*/14Lkvye3Wat3bjZelGuQJ4y_vXbHBUAFF?e=download [following]\n",
            "Warning: wildcards not supported in HTTP.\n",
            "--2022-01-28 12:30:04--  https://doc-14-1s-docs.googleusercontent.com/docs/securesc/ha0ro937gcuc7l7deffksulhg5h7mbp1/nk1ulpeh3fadmuml677r1qcchrrv1g46/1643373000000/18016102022855825607/*/14Lkvye3Wat3bjZelGuQJ4y_vXbHBUAFF?e=download\n",
            "Resolving doc-14-1s-docs.googleusercontent.com (doc-14-1s-docs.googleusercontent.com)... 172.217.203.132, 2607:f8b0:400c:c07::84\n",
            "Connecting to doc-14-1s-docs.googleusercontent.com (doc-14-1s-docs.googleusercontent.com)|172.217.203.132|:443... connected.\n",
            "HTTP request sent, awaiting response... 200 OK\n",
            "Length: 5439940 (5.2M) [application/x-zip-compressed]\n",
            "Saving to: ‘TwitterRecSys2021Dataset_sampledata.zip’\n",
            "\n",
            "TwitterRecSys2021Da 100%[===================>]   5.19M  27.8MB/s    in 0.2s    \n",
            "\n",
            "2022-01-28 12:30:04 (27.8 MB/s) - ‘TwitterRecSys2021Dataset_sampledata.zip’ saved [5439940/5439940]\n",
            "\n",
            "Archive:  TwitterRecSys2021Dataset_sampledata.zip\n",
            "replace TwitterRecSys2021Dataset_sample/valid/valid.parquet? [y]es, [n]o, [A]ll, [N]one, [r]ename: "
          ]
        }
      ]
    },
    {
      "cell_type": "markdown",
      "source": [
        "### **Parameter setting**\n",
        "\n",
        "\"data_path\": can change to you own data set path\n",
        "\n",
        "\"observation_budget\": set sigopt experiment budget\n",
        "\n",
        "\"enable_sigopt\": disable this if you just want to train with default parameters\n",
        "\n",
        "\"train_script\": change the path if you have a customized script"
      ],
      "metadata": {
        "id": "h4JFnDmbn__E"
      }
    },
    {
      "cell_type": "code",
      "source": [
        "parameters = {\n",
        "    'model_name' : 'twitter_recsys',\n",
        "    'data_path' : './TwitterRecSys2021Dataset_sample',\n",
        "    'save_path': './result',\n",
        "    'observation_budget': 5,\n",
        "    'stage' : 'stage1',\n",
        "    'target' : 'like',\n",
        "    'enable_sigopt' : True,\n",
        "    'enable_model_cache' : False,\n",
        "    'train_python': 'python',\n",
        "    'train_script': hydroailib_path+'/modelzoo/TwitterRecSys/TwitterRecSys2021-intel-opt/model_hydroai/xgboost/train.py',  \n",
        "}"
      ],
      "metadata": {
        "id": "fY1Q6DzAcMMx"
      },
      "execution_count": null,
      "outputs": []
    },
    {
      "cell_type": "markdown",
      "source": [
        "### **Run SDA experiments**"
      ],
      "metadata": {
        "id": "eIaSITfAp48A"
      }
    },
    {
      "cell_type": "markdown",
      "source": [
        "**Define SDA class**\n",
        "\n",
        "keep this unchanged"
      ],
      "metadata": {
        "id": "SqyZ2vjzpAIV"
      }
    },
    {
      "cell_type": "code",
      "source": [
        "class SDA:\n",
        "    def __init__(self, model, data_loader, settings, hydro_model=None):\n",
        "        self.model = model\n",
        "        self.data_loader = data_loader\n",
        "        self.dataset_meta = self.data_loader.get_meta()\n",
        "        self.dataset_train = self.data_loader.get_train()\n",
        "        self.dataset_valid = self.data_loader.get_valid()\n",
        "        self.settings = settings\n",
        "        self.hydro_model = hydro_model\n",
        "        logging.basicConfig(\n",
        "            level=logging.INFO,\n",
        "            format='%(asctime)s - %(name)s - %(levelname)s - %(message)s')\n",
        "        self.logger = logging.getLogger('HYDRO.AI.SDA')\n",
        "\n",
        "    def __create_model_advisor(self):\n",
        "        if self.model.lower() == 'twitter_recsys':\n",
        "            return TwitterRecSysAdvisor(self.dataset_meta, self.dataset_train,\n",
        "                               self.dataset_valid, self.settings)\n",
        "  \n",
        "    def launch(self):\n",
        "        # 1. get model advisor\n",
        "        # sigopt yaml will be created and sigopt connection will be setup\n",
        "        self.model_advisor = self.__create_model_advisor()\n",
        "        self.logger.info(\"Model Advisor created\")\n",
        "\n",
        "        # 2. initialize_sigopt\n",
        "        if self.settings[\"enable_sigopt\"]:\n",
        "            self.logger.info(\"Start to init sigopt\")\n",
        "            experiment_id = self.hydro_model.sigopt_experiment_id if self.hydro_model else None\n",
        "            experiment_id = self.model_advisor.initialize_sigopt(\n",
        "                experiment_id=experiment_id)\n",
        "            if self.hydro_model:\n",
        "                self.hydro_model.update(\n",
        "                    {'sigopt_experiment_id': experiment_id})\n",
        "                self.model_advisor.record_assignmet(\n",
        "                    self.hydro_model.model_parameters, self.hydro_model.model)\n",
        "        else:\n",
        "            best_model_parameters = self.hydro_model.model_parameters if self.hydro_model else None\n",
        "            self.model_advisor.initialize_model_parameter(\n",
        "                assignments=best_model_parameters)\n",
        "        self.logger.info(\"model parameter initialized\")\n",
        "\n",
        "        # 3. launch train, w/wo sigopt to iterate train multiple times until we\n",
        "        # reached numIter or target score\n",
        "        self.logger.info(\"start to launch training\")\n",
        "        model_path, metrics, parameters = self.model_advisor.launch_train()\n",
        "        if self.hydro_model:\n",
        "            self.hydro_model.update({\n",
        "                'model': model_path,\n",
        "                'metrics': metrics,\n",
        "                'model_parameters': parameters\n",
        "            })\n",
        "        self.logger.info(\"training script completed\")\n",
        "        return model_path, metrics"
      ],
      "metadata": {
        "id": "pOE3k5BIWtPb"
      },
      "execution_count": null,
      "outputs": []
    },
    {
      "cell_type": "markdown",
      "source": [
        "**define the setting with parameters**"
      ],
      "metadata": {
        "id": "n-ECKUsppKfl"
      }
    },
    {
      "cell_type": "code",
      "source": [
        "settings = init_settings()\n",
        "settings.update(parameters)"
      ],
      "metadata": {
        "id": "4RX6WnWPqDT2"
      },
      "execution_count": null,
      "outputs": []
    },
    {
      "cell_type": "markdown",
      "source": [
        "**define the data loader**"
      ],
      "metadata": {
        "id": "ltoiBIhTqFOI"
      }
    },
    {
      "cell_type": "code",
      "source": [
        "data_loader = HydroDataLoaderAdvisor.create_data_loader(settings['data_path'], settings['model_name'])"
      ],
      "metadata": {
        "id": "1j5x1wJPqH3L"
      },
      "execution_count": null,
      "outputs": []
    },
    {
      "cell_type": "markdown",
      "source": [
        "**Initialize hydro model**\n",
        "load existing model if enable_model_cache is set True, else initialize with default setting"
      ],
      "metadata": {
        "id": "ULX8PFgUqJhJ"
      }
    },
    {
      "cell_type": "code",
      "source": [
        "if settings[\"enable_model_cache\"] and os.path.exists(f\"latest_hydro_model\"):\n",
        "    with open(f\"latest_hydro_model\", 'r') as f:\n",
        "        jdata = f.read()\n",
        "    hydro_model = HydroModel(None, serialized_text=[jdata])\n",
        "    if hydro_model.model_params['model_name'] == settings['model_name']:\n",
        "        hydro_model.explain()\n",
        "    else:\n",
        "        print(\"Detected history hydro model, but skip since model type is not the same\")\n",
        "        hydro_model = HydroModel(settings)\n",
        "else:\n",
        "    hydro_model = HydroModel(settings)"
      ],
      "metadata": {
        "id": "ipiqLeilqSC7"
      },
      "execution_count": null,
      "outputs": []
    },
    {
      "cell_type": "markdown",
      "source": [
        "**Launch SDA experiment**"
      ],
      "metadata": {
        "id": "MSNFBGVMqS2u"
      }
    },
    {
      "cell_type": "code",
      "source": [
        "sda = SDA(settings['model_name'], data_loader, settings, hydro_model)\n",
        "sda.launch()"
      ],
      "metadata": {
        "colab": {
          "base_uri": "https://localhost:8080/"
        },
        "id": "0lZPGUzmqWjC",
        "outputId": "7df9d402-2cbd-4bb8-e0ee-498a4cd0bf23"
      },
      "execution_count": null,
      "outputs": [
        {
          "output_type": "stream",
          "name": "stderr",
          "text": [
            "2022-01-28 12:30:39,270 - HYDRO.AI.SDA - INFO - Model Advisor created\n",
            "2022-01-28 12:30:39,273 - HYDRO.AI.SDA - INFO - Start to init sigopt\n"
          ]
        },
        {
          "name": "stdout",
          "output_type": "stream",
          "text": [
            "experiment: RecSys\n",
            "metrics:\n",
            "- name: AP\n",
            "  objective: maximize\n",
            "  strategy: optimize\n",
            "- name: RCE\n",
            "  objective: maximize\n",
            "observation_budget: 5\n",
            "parameters:\n",
            "- bounds:\n",
            "    max: 20\n",
            "    min: 5\n",
            "  name: max_depth\n",
            "  type: int\n",
            "- bounds:\n",
            "    max: 1.0\n",
            "    min: 0.0\n",
            "  name: learning_rate\n",
            "  type: double\n",
            "- bounds:\n",
            "    max: 1\n",
            "    min: 0.5\n",
            "  name: subsample\n",
            "  type: double\n",
            "- bounds:\n",
            "    max: 1.0\n",
            "    min: 0.5\n",
            "  name: colsample_bytree\n",
            "  type: double\n",
            "- bounds:\n",
            "    max: 1000\n",
            "    min: 100\n",
            "  name: num_boost_round\n",
            "  type: int\n",
            "project: hydro.ai\n",
            "Please confirm with sigopt parameters?(n for exit)y\n"
          ]
        },
        {
          "output_type": "stream",
          "name": "stderr",
          "text": [
            "2022-01-28 12:31:01,799 - HYDRO.AI.SDA - INFO - model parameter initialized\n",
            "2022-01-28 12:31:01,801 - HYDRO.AI.SDA - INFO - start to launch training\n",
            "2022-01-28 12:31:01,804 - sigopt - INFO - Experiment budget: 5\n",
            "2022-01-28 12:31:02,368 - sigopt - INFO - training launch command: python -u .//modelzoo/TwitterRecSys/TwitterRecSys2021-intel-opt/model_hydroai/xgboost/train.py --stage stage1 --target like --train_data_path ./TwitterRecSys2021Dataset_sample/train/train.parquet --valid_data_path ./TwitterRecSys2021Dataset_sample/valid/valid.parquet --model_save_path ./result/a044a2bbf1156593d2f2d5f83812138f --max_depth 18 --learning_rate 0.8817390886389768 --subsample 0.5355803786103582 --colsample_bytree 0.7859300426422364 --num_boost_round 494 \n",
            "2022-01-28 12:31:06,623 - sigopt - INFO - Received sigopt suggestion, assignment is                     OrderedDict([('colsample_bytree', 0.7859300426422364), ('learning_rate', 0.8817390886389768), ('max_depth', 18), ('num_boost_round', 494), ('subsample', 0.5355803786103582)])\n",
            "2022-01-28 12:31:06,625 - sigopt - INFO - Training completed with sigopt suggestion,                     metrics is [{'name': 'AP', 'value': 0.5697544198694291}, {'name': 'RCE', 'value': -113.1708405084467}]\n",
            "2022-01-28 12:31:08,211 - sigopt - INFO - training launch command: python -u .//modelzoo/TwitterRecSys/TwitterRecSys2021-intel-opt/model_hydroai/xgboost/train.py --stage stage1 --target like --train_data_path ./TwitterRecSys2021Dataset_sample/train/train.parquet --valid_data_path ./TwitterRecSys2021Dataset_sample/valid/valid.parquet --model_save_path ./result/61c05e226e091eca6ea8bf65dac253ea --max_depth 16 --learning_rate 0.5760135075095181 --subsample 0.6564832926417633 --colsample_bytree 0.5586818970697665 --num_boost_round 295 \n",
            "2022-01-28 12:31:12,549 - sigopt - INFO - Received sigopt suggestion, assignment is                     OrderedDict([('colsample_bytree', 0.5586818970697665), ('learning_rate', 0.5760135075095181), ('max_depth', 16), ('num_boost_round', 295), ('subsample', 0.6564832926417633)])\n",
            "2022-01-28 12:31:12,552 - sigopt - INFO - Training completed with sigopt suggestion,                     metrics is [{'name': 'AP', 'value': 0.5859875841172242}, {'name': 'RCE', 'value': -54.82351593216394}]\n",
            "2022-01-28 12:31:14,266 - sigopt - INFO - training launch command: python -u .//modelzoo/TwitterRecSys/TwitterRecSys2021-intel-opt/model_hydroai/xgboost/train.py --stage stage1 --target like --train_data_path ./TwitterRecSys2021Dataset_sample/train/train.parquet --valid_data_path ./TwitterRecSys2021Dataset_sample/valid/valid.parquet --model_save_path ./result/46a445585cf83ba87f508a9152e5656f --max_depth 5 --learning_rate 0.6453342527372863 --subsample 0.778737762394381 --colsample_bytree 0.6403020022534239 --num_boost_round 747 \n",
            "2022-01-28 12:31:16,444 - sigopt - INFO - Received sigopt suggestion, assignment is                     OrderedDict([('colsample_bytree', 0.6403020022534239), ('learning_rate', 0.6453342527372863), ('max_depth', 5), ('num_boost_round', 747), ('subsample', 0.778737762394381)])\n",
            "2022-01-28 12:31:16,447 - sigopt - INFO - Training completed with sigopt suggestion,                     metrics is [{'name': 'AP', 'value': 0.6062557728267153}, {'name': 'RCE', 'value': -5.6049720167623995}]\n",
            "2022-01-28 12:31:17,863 - sigopt - INFO - training launch command: python -u .//modelzoo/TwitterRecSys/TwitterRecSys2021-intel-opt/model_hydroai/xgboost/train.py --stage stage1 --target like --train_data_path ./TwitterRecSys2021Dataset_sample/train/train.parquet --valid_data_path ./TwitterRecSys2021Dataset_sample/valid/valid.parquet --model_save_path ./result/2091c0a1a39845d9aba4959c75749b19 --max_depth 8 --learning_rate 0.22729940968380263 --subsample 0.8551355476163943 --colsample_bytree 0.8734683022600558 --num_boost_round 278 \n",
            "2022-01-28 12:31:21,569 - sigopt - INFO - Received sigopt suggestion, assignment is                     OrderedDict([('colsample_bytree', 0.8734683022600558), ('learning_rate', 0.22729940968380263), ('max_depth', 8), ('num_boost_round', 278), ('subsample', 0.8551355476163943)])\n",
            "2022-01-28 12:31:21,571 - sigopt - INFO - Training completed with sigopt suggestion,                     metrics is [{'name': 'AP', 'value': 0.6249642800760695}, {'name': 'RCE', 'value': 1.6800228503549453}]\n",
            "2022-01-28 12:31:23,212 - sigopt - INFO - training launch command: python -u .//modelzoo/TwitterRecSys/TwitterRecSys2021-intel-opt/model_hydroai/xgboost/train.py --stage stage1 --target like --train_data_path ./TwitterRecSys2021Dataset_sample/train/train.parquet --valid_data_path ./TwitterRecSys2021Dataset_sample/valid/valid.parquet --model_save_path ./result/da4e31d8c670a578c6a5bd891abdde32 --max_depth 12 --learning_rate 0.08217202628803172 --subsample 0.9787088461613356 --colsample_bytree 0.9208642965461861 --num_boost_round 852 \n",
            "2022-01-28 12:31:33,280 - sigopt - INFO - Received sigopt suggestion, assignment is                     OrderedDict([('colsample_bytree', 0.9208642965461861), ('learning_rate', 0.08217202628803172), ('max_depth', 12), ('num_boost_round', 852), ('subsample', 0.9787088461613356)])\n",
            "2022-01-28 12:31:33,286 - sigopt - INFO - Training completed with sigopt suggestion,                     metrics is [{'name': 'AP', 'value': 0.6217781292223032}, {'name': 'RCE', 'value': 2.9567500139134117}]\n",
            "2022-01-28 12:31:34,311 - sigopt - INFO - Training with sigopt is completed!                 https://app.sigopt.com/experiment/479510 \n",
            "/usr/local/lib/python3.7/dist-packages/sigopt/objects.py:327: RuntimeWarning: The .data field only contains a single page of results, which may be incomplete for large responses. Prefer to use the `.iterate_pages() to ensure that you iterate through all elements in the response.\n",
            "  RuntimeWarning,\n",
            "2022-01-28 12:31:34,787 - HYDRO.AI.SDA - INFO - training script completed\n"
          ]
        },
        {
          "output_type": "execute_result",
          "data": {
            "text/plain": [
              "('./result/2091c0a1a39845d9aba4959c75749b19',\n",
              " [{'name': 'AP', 'value': 0.6249642800760695},\n",
              "  {'name': 'RCE', 'value': 1.6800228503549453}])"
            ]
          },
          "metadata": {},
          "execution_count": 28
        }
      ]
    },
    {
      "cell_type": "markdown",
      "source": [
        "**Save model and explain**"
      ],
      "metadata": {
        "id": "FDjTm12BqZkv"
      }
    },
    {
      "cell_type": "code",
      "source": [
        "with open(f\"latest_hydro_model\", 'w') as f:\n",
        "    f.write(hydro_model.to_json())\n",
        "hydro_model.explain()"
      ],
      "metadata": {
        "colab": {
          "base_uri": "https://localhost:8080/"
        },
        "id": "hhjmea9VUPS6",
        "outputId": "ca9fe5ab-10fe-4de1-ac64-28019d8356b3"
      },
      "execution_count": null,
      "outputs": [
        {
          "output_type": "stream",
          "name": "stdout",
          "text": [
            "\n",
            "===============================================\n",
            "***    Best Trained Model    ***\n",
            "===============================================\n",
            "  Model Type: twitter_recsys\n",
            "  Model Saved Path: ./result/2091c0a1a39845d9aba4959c75749b19\n",
            "  Sigopt Experiment id is 479510\n",
            "  === Result Metrics ===\n",
            "    AP: 0.6249642800760695\n",
            "    RCE: 1.6800228503549453\n",
            "===============================================\n"
          ]
        }
      ]
    },
    {
      "cell_type": "markdown",
      "source": [
        "### **Democratized models performance**"
      ],
      "metadata": {
        "id": "YAW_thg7TCp4"
      }
    },
    {
      "cell_type": "markdown",
      "source": [
        "**Twitter RecSys**\n",
        "For Twitter RecSys 2021 workload, compared with NVIDIA 1st solution, Intel democratized model can significantly reduce training time (>215h vs 9.8h), 21.9x faster than GPU. For inference time, the democratized solutions can reduce the GPU/CPU gap from 92x to 2x while keep less than 5% performmance gap.\n",
        "![Picture1.png](data:image/png;base64,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)"
      ],
      "metadata": {
        "id": "chdCDRVXTL-v"
      }
    }
  ]
}