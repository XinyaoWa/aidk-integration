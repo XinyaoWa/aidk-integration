{
  "nbformat": 4,
  "nbformat_minor": 0,
  "metadata": {
    "colab": {
      "name": "Use SDA to run TwitterRecSys2021.ipynb",
      "provenance": [],
      "collapsed_sections": [],
      "authorship_tag": "ABX9TyNpC4CVsDE7Qjxd/uNK4JlD",
      "include_colab_link": true
    },
    "kernelspec": {
      "name": "python3",
      "display_name": "Python 3"
    },
    "language_info": {
      "name": "python"
    }
  },
  "cells": [
    {
      "cell_type": "markdown",
      "metadata": {
        "id": "view-in-github",
        "colab_type": "text"
      },
      "source": [
        "<a href=\"https://colab.research.google.com/github/XinyaoWa/hydroai-colab/blob/main/Use_SDA_to_run_TwitterRecSys2021.ipynb\" target=\"_parent\"><img src=\"https://colab.research.google.com/assets/colab-badge.svg\" alt=\"Open In Colab\"/></a>"
      ]
    },
    {
      "cell_type": "markdown",
      "source": [
        "The below will be deleted when hydro.ai can be installed with pip"
      ],
      "metadata": {
        "id": "h9tasNqTmNyc"
      }
    },
    {
      "cell_type": "code",
      "execution_count": 18,
      "metadata": {
        "colab": {
          "base_uri": "https://localhost:8080/"
        },
        "id": "Z3vJSyZV7EJZ",
        "outputId": "2950246e-2512-4dac-e742-733b744633ba"
      },
      "outputs": [
        {
          "output_type": "stream",
          "name": "stdout",
          "text": [
            "Drive already mounted at /content/drive/; to attempt to forcibly remount, call drive.mount(\"/content/drive/\", force_remount=True).\n"
          ]
        }
      ],
      "source": [
        "## to be deleted\n",
        "from google.colab import drive\n",
        "import os\n",
        "drive.mount('/content/drive/')\n",
        "os.chdir('/content/drive/My Drive/integration/frameworks.bigdata.bluewhale-main')"
      ]
    },
    {
      "cell_type": "markdown",
      "source": [
        "## **Environment Preparation**"
      ],
      "metadata": {
        "id": "8jEEcwBbmZu6"
      }
    },
    {
      "cell_type": "markdown",
      "source": [
        "**Install hydro.ai**"
      ],
      "metadata": {
        "id": "0CxJhGk-m6JX"
      }
    },
    {
      "cell_type": "code",
      "source": [
        "# pip install hydroailib\n",
        "# import hydroailib\n",
        "# import hydroailib.hydroai as hydroai\n",
        "# import hydroailib.SDA as SDA\n",
        "# import hydroailib.dataloader as dataloader\n",
        "# hydroailib_path = hydroailib.__path__[0]\n",
        "hydroailib_path = './'\n",
        "hydroailib_path"
      ],
      "metadata": {
        "colab": {
          "base_uri": "https://localhost:8080/",
          "height": 35
        },
        "id": "2-4POVvs8ss4",
        "outputId": "c6937b05-073e-4147-edb2-5fa1e03413c4"
      },
      "execution_count": 19,
      "outputs": [
        {
          "output_type": "execute_result",
          "data": {
            "application/vnd.google.colaboratory.intrinsic+json": {
              "type": "string"
            },
            "text/plain": [
              "'./'"
            ]
          },
          "metadata": {},
          "execution_count": 19
        }
      ]
    },
    {
      "cell_type": "markdown",
      "source": [
        "**Install sigopt**\n",
        "\n",
        "Set up sigopt API token"
      ],
      "metadata": {
        "id": "waE7DYTLnKkj"
      }
    },
    {
      "cell_type": "code",
      "source": [
        "! pip install sigopt==7.5.0\n",
        "%env SIGOPT_API_TOKEN=$SIGOPT_API_TOKEN"
      ],
      "metadata": {
        "colab": {
          "base_uri": "https://localhost:8080/"
        },
        "id": "3hq4AkjoWCo6",
        "outputId": "0b834a1e-18c7-4704-e9f6-63a8abb2cabf"
      },
      "execution_count": 20,
      "outputs": [
        {
          "output_type": "stream",
          "name": "stdout",
          "text": [
           
          ]
        }
      ]
    },
    {
      "cell_type": "markdown",
      "source": [
        "**Import SDA and relative libs**"
      ],
      "metadata": {
        "id": "afT68xxindDb"
      }
    },
    {
      "cell_type": "code",
      "source": [
        "import os\n",
        "import pathlib\n",
        "import yaml\n",
        "from dataloader.hydrodataloader import *\n",
        "from hydroai.hydroconfig import *\n",
        "from hydroai.hydromodel import *\n",
        "from SDA.modeladvisor.TwitterRecSysAdvisor import *"
      ],
      "metadata": {
        "id": "mmYUkpgOVrKr"
      },
      "execution_count": 21,
      "outputs": []
    },
    {
      "cell_type": "markdown",
      "source": [
        "## **Use SDA to run TwitterRecSys2021 example**"
      ],
      "metadata": {
        "id": "BAeO7uuhnriE"
      }
    },
    {
      "cell_type": "markdown",
      "source": [
        "### **Prepare TwitterRecSys2021 dataset**"
      ],
      "metadata": {
        "id": "fqqpZdUjn2bR"
      }
    },
    {
      "cell_type": "code",
      "source": [
        "! wget --no-check-certificate 'https://docs.google.com/uc?export=download&id=14Lkvye3Wat3bjZelGuQJ4y_vXbHBUAFF' -O TwitterRecSys2021Dataset_sampledata.zip\n",
        "! unzip TwitterRecSys2021Dataset_sampledata.zip"
      ],
      "metadata": {
        "colab": {
          "base_uri": "https://localhost:8080/"
        },
        "id": "WEB0lKm-SnKT",
        "outputId": "aae0caf4-590c-4c60-c750-0cf6b149f44d"
      },
      "execution_count": 22,
      "outputs": [
        {
          "output_type": "stream",
          "name": "stdout",
          "text": [
            "--2022-01-28 12:30:02--  https://docs.google.com/uc?export=download&id=14Lkvye3Wat3bjZelGuQJ4y_vXbHBUAFF\n",
            "Resolving docs.google.com (docs.google.com)... 74.125.141.101, 74.125.141.138, 74.125.141.139, ...\n",
            "Connecting to docs.google.com (docs.google.com)|74.125.141.101|:443... connected.\n",
            "HTTP request sent, awaiting response... 302 Moved Temporarily\n",
            "Location: https://doc-14-1s-docs.googleusercontent.com/docs/securesc/ha0ro937gcuc7l7deffksulhg5h7mbp1/nk1ulpeh3fadmuml677r1qcchrrv1g46/1643373000000/18016102022855825607/*/14Lkvye3Wat3bjZelGuQJ4y_vXbHBUAFF?e=download [following]\n",
            "Warning: wildcards not supported in HTTP.\n",
            "--2022-01-28 12:30:04--  https://doc-14-1s-docs.googleusercontent.com/docs/securesc/ha0ro937gcuc7l7deffksulhg5h7mbp1/nk1ulpeh3fadmuml677r1qcchrrv1g46/1643373000000/18016102022855825607/*/14Lkvye3Wat3bjZelGuQJ4y_vXbHBUAFF?e=download\n",
            "Resolving doc-14-1s-docs.googleusercontent.com (doc-14-1s-docs.googleusercontent.com)... 172.217.203.132, 2607:f8b0:400c:c07::84\n",
            "Connecting to doc-14-1s-docs.googleusercontent.com (doc-14-1s-docs.googleusercontent.com)|172.217.203.132|:443... connected.\n",
            "HTTP request sent, awaiting response... 200 OK\n",
            "Length: 5439940 (5.2M) [application/x-zip-compressed]\n",
            "Saving to: ‘TwitterRecSys2021Dataset_sampledata.zip’\n",
            "\n",
            "TwitterRecSys2021Da 100%[===================>]   5.19M  27.8MB/s    in 0.2s    \n",
            "\n",
            "2022-01-28 12:30:04 (27.8 MB/s) - ‘TwitterRecSys2021Dataset_sampledata.zip’ saved [5439940/5439940]\n",
            "\n",
            "Archive:  TwitterRecSys2021Dataset_sampledata.zip\n",
            "replace TwitterRecSys2021Dataset_sample/valid/valid.parquet? [y]es, [n]o, [A]ll, [N]one, [r]ename: "
          ]
        }
      ]
    },
    {
      "cell_type": "markdown",
      "source": [
        "### **Parameter setting**\n",
        "\n",
        "\"data_path\": can change to you own data set path\n",
        "\n",
        "\"observation_budget\": set sigopt experiment budget\n",
        "\n",
        "\"enable_sigopt\": disable this if you just want to train with default parameters\n",
        "\n",
        "\"train_script\": change the path if you have a customized script"
      ],
      "metadata": {
        "id": "h4JFnDmbn__E"
      }
    },
    {
      "cell_type": "code",
      "source": [
        "parameters = {\n",
        "    'model_name' : 'twitter_recsys',\n",
        "    'data_path' : './TwitterRecSys2021Dataset_sample',\n",
        "    'save_path': './result',\n",
        "    'observation_budget': 5,\n",
        "    'stage' : 'stage1',\n",
        "    'target' : 'like',\n",
        "    'enable_sigopt' : True,\n",
        "    'enable_model_cache' : False,\n",
        "    'train_python': 'python',\n",
        "    'train_script': hydroailib_path+'/modelzoo/TwitterRecSys/TwitterRecSys2021-intel-opt/model_hydroai/xgboost/train.py',  \n",
        "}"
      ],
      "metadata": {
        "id": "fY1Q6DzAcMMx"
      },
      "execution_count": 23,
      "outputs": []
    },
    {
      "cell_type": "markdown",
      "source": [
        "### **Run SDA experiments**"
      ],
      "metadata": {
        "id": "eIaSITfAp48A"
      }
    },
    {
      "cell_type": "markdown",
      "source": [
        "**Define SDA class**\n",
        "\n",
        "keep this unchanged"
      ],
      "metadata": {
        "id": "SqyZ2vjzpAIV"
      }
    },
    {
      "cell_type": "code",
      "source": [
        "class SDA:\n",
        "    def __init__(self, model, data_loader, settings, hydro_model=None):\n",
        "        self.model = model\n",
        "        self.data_loader = data_loader\n",
        "        self.dataset_meta = self.data_loader.get_meta()\n",
        "        self.dataset_train = self.data_loader.get_train()\n",
        "        self.dataset_valid = self.data_loader.get_valid()\n",
        "        self.settings = settings\n",
        "        self.hydro_model = hydro_model\n",
        "        logging.basicConfig(\n",
        "            level=logging.INFO,\n",
        "            format='%(asctime)s - %(name)s - %(levelname)s - %(message)s')\n",
        "        self.logger = logging.getLogger('HYDRO.AI.SDA')\n",
        "\n",
        "    def __create_model_advisor(self):\n",
        "        if self.model.lower() == 'twitter_recsys':\n",
        "            return TwitterRecSysAdvisor(self.dataset_meta, self.dataset_train,\n",
        "                               self.dataset_valid, self.settings)\n",
        "  \n",
        "    def launch(self):\n",
        "        # 1. get model advisor\n",
        "        # sigopt yaml will be created and sigopt connection will be setup\n",
        "        self.model_advisor = self.__create_model_advisor()\n",
        "        self.logger.info(\"Model Advisor created\")\n",
        "\n",
        "        # 2. initialize_sigopt\n",
        "        if self.settings[\"enable_sigopt\"]:\n",
        "            self.logger.info(\"Start to init sigopt\")\n",
        "            experiment_id = self.hydro_model.sigopt_experiment_id if self.hydro_model else None\n",
        "            experiment_id = self.model_advisor.initialize_sigopt(\n",
        "                experiment_id=experiment_id)\n",
        "            if self.hydro_model:\n",
        "                self.hydro_model.update(\n",
        "                    {'sigopt_experiment_id': experiment_id})\n",
        "                self.model_advisor.record_assignmet(\n",
        "                    self.hydro_model.model_parameters, self.hydro_model.model)\n",
        "        else:\n",
        "            best_model_parameters = self.hydro_model.model_parameters if self.hydro_model else None\n",
        "            self.model_advisor.initialize_model_parameter(\n",
        "                assignments=best_model_parameters)\n",
        "        self.logger.info(\"model parameter initialized\")\n",
        "\n",
        "        # 3. launch train, w/wo sigopt to iterate train multiple times until we\n",
        "        # reached numIter or target score\n",
        "        self.logger.info(\"start to launch training\")\n",
        "        model_path, metrics, parameters = self.model_advisor.launch_train()\n",
        "        if self.hydro_model:\n",
        "            self.hydro_model.update({\n",
        "                'model': model_path,\n",
        "                'metrics': metrics,\n",
        "                'model_parameters': parameters\n",
        "            })\n",
        "        self.logger.info(\"training script completed\")\n",
        "        return model_path, metrics"
      ],
      "metadata": {
        "id": "pOE3k5BIWtPb"
      },
      "execution_count": 24,
      "outputs": []
    },
    {
      "cell_type": "markdown",
      "source": [
        "**define the setting with parameters**"
      ],
      "metadata": {
        "id": "n-ECKUsppKfl"
      }
    },
    {
      "cell_type": "code",
      "source": [
        "settings = init_settings()\n",
        "settings.update(parameters)"
      ],
      "metadata": {
        "id": "4RX6WnWPqDT2"
      },
      "execution_count": 25,
      "outputs": []
    },
    {
      "cell_type": "markdown",
      "source": [
        "**define the data loader**"
      ],
      "metadata": {
        "id": "ltoiBIhTqFOI"
      }
    },
    {
      "cell_type": "code",
      "source": [
        "data_loader = HydroDataLoaderAdvisor.create_data_loader(settings['data_path'], settings['model_name'])"
      ],
      "metadata": {
        "id": "1j5x1wJPqH3L"
      },
      "execution_count": 26,
      "outputs": []
    },
    {
      "cell_type": "markdown",
      "source": [
        "**Initialize hydro model**\n",
        "load existing model if enable_model_cache is set True, else initialize with default setting"
      ],
      "metadata": {
        "id": "ULX8PFgUqJhJ"
      }
    },
    {
      "cell_type": "code",
      "source": [
        "if settings[\"enable_model_cache\"] and os.path.exists(f\"latest_hydro_model\"):\n",
        "    with open(f\"latest_hydro_model\", 'r') as f:\n",
        "        jdata = f.read()\n",
        "    hydro_model = HydroModel(None, serialized_text=[jdata])\n",
        "    if hydro_model.model_params['model_name'] == settings['model_name']:\n",
        "        hydro_model.explain()\n",
        "    else:\n",
        "        print(\"Detected history hydro model, but skip since model type is not the same\")\n",
        "        hydro_model = HydroModel(settings)\n",
        "else:\n",
        "    hydro_model = HydroModel(settings)"
      ],
      "metadata": {
        "id": "ipiqLeilqSC7"
      },
      "execution_count": 27,
      "outputs": []
    },
    {
      "cell_type": "markdown",
      "source": [
        "**Launch SDA experiment**"
      ],
      "metadata": {
        "id": "MSNFBGVMqS2u"
      }
    },
    {
      "cell_type": "code",
      "source": [
        "sda = SDA(settings['model_name'], data_loader, settings, hydro_model)\n",
        "sda.launch()"
      ],
      "metadata": {
        "colab": {
          "base_uri": "https://localhost:8080/"
        },
        "id": "0lZPGUzmqWjC",
        "outputId": "7df9d402-2cbd-4bb8-e0ee-498a4cd0bf23"
      },
      "execution_count": 28,
      "outputs": [
        {
          "output_type": "stream",
          "name": "stderr",
          "text": [
            "2022-01-28 12:30:39,270 - HYDRO.AI.SDA - INFO - Model Advisor created\n",
            "2022-01-28 12:30:39,273 - HYDRO.AI.SDA - INFO - Start to init sigopt\n"
          ]
        },
        {
          "name": "stdout",
          "output_type": "stream",
          "text": [
            "experiment: RecSys\n",
            "metrics:\n",
            "- name: AP\n",
            "  objective: maximize\n",
            "  strategy: optimize\n",
            "- name: RCE\n",
            "  objective: maximize\n",
            "observation_budget: 5\n",
            "parameters:\n",
            "- bounds:\n",
            "    max: 20\n",
            "    min: 5\n",
            "  name: max_depth\n",
            "  type: int\n",
            "- bounds:\n",
            "    max: 1.0\n",
            "    min: 0.0\n",
            "  name: learning_rate\n",
            "  type: double\n",
            "- bounds:\n",
            "    max: 1\n",
            "    min: 0.5\n",
            "  name: subsample\n",
            "  type: double\n",
            "- bounds:\n",
            "    max: 1.0\n",
            "    min: 0.5\n",
            "  name: colsample_bytree\n",
            "  type: double\n",
            "- bounds:\n",
            "    max: 1000\n",
            "    min: 100\n",
            "  name: num_boost_round\n",
            "  type: int\n",
            "project: hydro.ai\n",
            "Please confirm with sigopt parameters?(n for exit)y\n"
          ]
        },
        {
          "output_type": "stream",
          "name": "stderr",
          "text": [
            "2022-01-28 12:31:01,799 - HYDRO.AI.SDA - INFO - model parameter initialized\n",
            "2022-01-28 12:31:01,801 - HYDRO.AI.SDA - INFO - start to launch training\n",
            "2022-01-28 12:31:01,804 - sigopt - INFO - Experiment budget: 5\n",
            "2022-01-28 12:31:02,368 - sigopt - INFO - training launch command: python -u .//modelzoo/TwitterRecSys/TwitterRecSys2021-intel-opt/model_hydroai/xgboost/train.py --stage stage1 --target like --train_data_path ./TwitterRecSys2021Dataset_sample/train/train.parquet --valid_data_path ./TwitterRecSys2021Dataset_sample/valid/valid.parquet --model_save_path ./result/a044a2bbf1156593d2f2d5f83812138f --max_depth 18 --learning_rate 0.8817390886389768 --subsample 0.5355803786103582 --colsample_bytree 0.7859300426422364 --num_boost_round 494 \n",
            "2022-01-28 12:31:06,623 - sigopt - INFO - Received sigopt suggestion, assignment is                     OrderedDict([('colsample_bytree', 0.7859300426422364), ('learning_rate', 0.8817390886389768), ('max_depth', 18), ('num_boost_round', 494), ('subsample', 0.5355803786103582)])\n",
            "2022-01-28 12:31:06,625 - sigopt - INFO - Training completed with sigopt suggestion,                     metrics is [{'name': 'AP', 'value': 0.5697544198694291}, {'name': 'RCE', 'value': -113.1708405084467}]\n",
            "2022-01-28 12:31:08,211 - sigopt - INFO - training launch command: python -u .//modelzoo/TwitterRecSys/TwitterRecSys2021-intel-opt/model_hydroai/xgboost/train.py --stage stage1 --target like --train_data_path ./TwitterRecSys2021Dataset_sample/train/train.parquet --valid_data_path ./TwitterRecSys2021Dataset_sample/valid/valid.parquet --model_save_path ./result/61c05e226e091eca6ea8bf65dac253ea --max_depth 16 --learning_rate 0.5760135075095181 --subsample 0.6564832926417633 --colsample_bytree 0.5586818970697665 --num_boost_round 295 \n",
            "2022-01-28 12:31:12,549 - sigopt - INFO - Received sigopt suggestion, assignment is                     OrderedDict([('colsample_bytree', 0.5586818970697665), ('learning_rate', 0.5760135075095181), ('max_depth', 16), ('num_boost_round', 295), ('subsample', 0.6564832926417633)])\n",
            "2022-01-28 12:31:12,552 - sigopt - INFO - Training completed with sigopt suggestion,                     metrics is [{'name': 'AP', 'value': 0.5859875841172242}, {'name': 'RCE', 'value': -54.82351593216394}]\n",
            "2022-01-28 12:31:14,266 - sigopt - INFO - training launch command: python -u .//modelzoo/TwitterRecSys/TwitterRecSys2021-intel-opt/model_hydroai/xgboost/train.py --stage stage1 --target like --train_data_path ./TwitterRecSys2021Dataset_sample/train/train.parquet --valid_data_path ./TwitterRecSys2021Dataset_sample/valid/valid.parquet --model_save_path ./result/46a445585cf83ba87f508a9152e5656f --max_depth 5 --learning_rate 0.6453342527372863 --subsample 0.778737762394381 --colsample_bytree 0.6403020022534239 --num_boost_round 747 \n",
            "2022-01-28 12:31:16,444 - sigopt - INFO - Received sigopt suggestion, assignment is                     OrderedDict([('colsample_bytree', 0.6403020022534239), ('learning_rate', 0.6453342527372863), ('max_depth', 5), ('num_boost_round', 747), ('subsample', 0.778737762394381)])\n",
            "2022-01-28 12:31:16,447 - sigopt - INFO - Training completed with sigopt suggestion,                     metrics is [{'name': 'AP', 'value': 0.6062557728267153}, {'name': 'RCE', 'value': -5.6049720167623995}]\n",
            "2022-01-28 12:31:17,863 - sigopt - INFO - training launch command: python -u .//modelzoo/TwitterRecSys/TwitterRecSys2021-intel-opt/model_hydroai/xgboost/train.py --stage stage1 --target like --train_data_path ./TwitterRecSys2021Dataset_sample/train/train.parquet --valid_data_path ./TwitterRecSys2021Dataset_sample/valid/valid.parquet --model_save_path ./result/2091c0a1a39845d9aba4959c75749b19 --max_depth 8 --learning_rate 0.22729940968380263 --subsample 0.8551355476163943 --colsample_bytree 0.8734683022600558 --num_boost_round 278 \n",
            "2022-01-28 12:31:21,569 - sigopt - INFO - Received sigopt suggestion, assignment is                     OrderedDict([('colsample_bytree', 0.8734683022600558), ('learning_rate', 0.22729940968380263), ('max_depth', 8), ('num_boost_round', 278), ('subsample', 0.8551355476163943)])\n",
            "2022-01-28 12:31:21,571 - sigopt - INFO - Training completed with sigopt suggestion,                     metrics is [{'name': 'AP', 'value': 0.6249642800760695}, {'name': 'RCE', 'value': 1.6800228503549453}]\n",
            "2022-01-28 12:31:23,212 - sigopt - INFO - training launch command: python -u .//modelzoo/TwitterRecSys/TwitterRecSys2021-intel-opt/model_hydroai/xgboost/train.py --stage stage1 --target like --train_data_path ./TwitterRecSys2021Dataset_sample/train/train.parquet --valid_data_path ./TwitterRecSys2021Dataset_sample/valid/valid.parquet --model_save_path ./result/da4e31d8c670a578c6a5bd891abdde32 --max_depth 12 --learning_rate 0.08217202628803172 --subsample 0.9787088461613356 --colsample_bytree 0.9208642965461861 --num_boost_round 852 \n",
            "2022-01-28 12:31:33,280 - sigopt - INFO - Received sigopt suggestion, assignment is                     OrderedDict([('colsample_bytree', 0.9208642965461861), ('learning_rate', 0.08217202628803172), ('max_depth', 12), ('num_boost_round', 852), ('subsample', 0.9787088461613356)])\n",
            "2022-01-28 12:31:33,286 - sigopt - INFO - Training completed with sigopt suggestion,                     metrics is [{'name': 'AP', 'value': 0.6217781292223032}, {'name': 'RCE', 'value': 2.9567500139134117}]\n",
            "2022-01-28 12:31:34,311 - sigopt - INFO - Training with sigopt is completed!                 https://app.sigopt.com/experiment/479510 \n",
            "/usr/local/lib/python3.7/dist-packages/sigopt/objects.py:327: RuntimeWarning: The .data field only contains a single page of results, which may be incomplete for large responses. Prefer to use the `.iterate_pages() to ensure that you iterate through all elements in the response.\n",
            "  RuntimeWarning,\n",
            "2022-01-28 12:31:34,787 - HYDRO.AI.SDA - INFO - training script completed\n"
          ]
        },
        {
          "output_type": "execute_result",
          "data": {
            "text/plain": [
              "('./result/2091c0a1a39845d9aba4959c75749b19',\n",
              " [{'name': 'AP', 'value': 0.6249642800760695},\n",
              "  {'name': 'RCE', 'value': 1.6800228503549453}])"
            ]
          },
          "metadata": {},
          "execution_count": 28
        }
      ]
    },
    {
      "cell_type": "markdown",
      "source": [
        "**Save model and explain**"
      ],
      "metadata": {
        "id": "FDjTm12BqZkv"
      }
    },
    {
      "cell_type": "code",
      "source": [
        "with open(f\"latest_hydro_model\", 'w') as f:\n",
        "    f.write(hydro_model.to_json())\n",
        "hydro_model.explain()"
      ],
      "metadata": {
        "colab": {
          "base_uri": "https://localhost:8080/"
        },
        "id": "hhjmea9VUPS6",
        "outputId": "ca9fe5ab-10fe-4de1-ac64-28019d8356b3"
      },
      "execution_count": 29,
      "outputs": [
        {
          "output_type": "stream",
          "name": "stdout",
          "text": [
            "\n",
            "===============================================\n",
            "***    Best Trained Model    ***\n",
            "===============================================\n",
            "  Model Type: twitter_recsys\n",
            "  Model Saved Path: ./result/2091c0a1a39845d9aba4959c75749b19\n",
            "  Sigopt Experiment id is 479510\n",
            "  === Result Metrics ===\n",
            "    AP: 0.6249642800760695\n",
            "    RCE: 1.6800228503549453\n",
            "===============================================\n"
          ]
        }
      ]
    }
  ]
}
