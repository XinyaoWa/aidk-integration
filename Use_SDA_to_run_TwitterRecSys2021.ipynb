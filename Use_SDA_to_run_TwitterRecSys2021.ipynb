{
  "nbformat": 4,
  "nbformat_minor": 0,
  "metadata": {
    "colab": {
      "name": "Use SDA to run TwitterRecSys2021.ipynb",
      "provenance": [],
      "collapsed_sections": [],
      "authorship_tag": "ABX9TyOFg/vV2tQGnqVl+cg4GK2Y",
      "include_colab_link": true
    },
    "kernelspec": {
      "name": "python3",
      "display_name": "Python 3"
    },
    "language_info": {
      "name": "python"
    }
  },
  "cells": [
    {
      "cell_type": "markdown",
      "metadata": {
        "id": "view-in-github",
        "colab_type": "text"
      },
      "source": [
        "<a href=\"https://colab.research.google.com/github/XinyaoWa/hydroai-colab/blob/main/Use_SDA_to_run_TwitterRecSys2021.ipynb\" target=\"_parent\"><img src=\"https://colab.research.google.com/assets/colab-badge.svg\" alt=\"Open In Colab\"/></a>"
      ]
    },
    {
      "cell_type": "markdown",
      "source": [
        "The below will be deleted when hydro.ai can be installed with pip"
      ],
      "metadata": {
        "id": "h9tasNqTmNyc"
      }
    },
    {
      "cell_type": "code",
      "execution_count": null,
      "metadata": {
        "colab": {
          "base_uri": "https://localhost:8080/"
        },
        "id": "Z3vJSyZV7EJZ",
        "outputId": "2950246e-2512-4dac-e742-733b744633ba"
      },
      "outputs": [
        {
          "output_type": "stream",
          "name": "stdout",
          "text": [
            "Drive already mounted at /content/drive/; to attempt to forcibly remount, call drive.mount(\"/content/drive/\", force_remount=True).\n"
          ]
        }
      ],
      "source": [
        "## to be deleted\n",
        "from google.colab import drive\n",
        "import os\n",
        "drive.mount('/content/drive/')\n",
        "os.chdir('/content/drive/My Drive/integration/frameworks.bigdata.bluewhale-main')"
      ]
    },
    {
      "cell_type": "markdown",
      "source": [
        "## **Environment Preparation**"
      ],
      "metadata": {
        "id": "8jEEcwBbmZu6"
      }
    },
    {
      "cell_type": "markdown",
      "source": [
        "**Install hydro.ai**"
      ],
      "metadata": {
        "id": "0CxJhGk-m6JX"
      }
    },
    {
      "cell_type": "code",
      "source": [
        "# pip install hydroailib\n",
        "# import hydroailib\n",
        "# import hydroailib.hydroai as hydroai\n",
        "# import hydroailib.SDA as SDA\n",
        "# import hydroailib.dataloader as dataloader\n",
        "# hydroailib_path = hydroailib.__path__[0]\n",
        "hydroailib_path = './'\n",
        "hydroailib_path"
      ],
      "metadata": {
        "colab": {
          "base_uri": "https://localhost:8080/",
          "height": 35
        },
        "id": "2-4POVvs8ss4",
        "outputId": "c6937b05-073e-4147-edb2-5fa1e03413c4"
      },
      "execution_count": null,
      "outputs": [
        {
          "output_type": "execute_result",
          "data": {
            "application/vnd.google.colaboratory.intrinsic+json": {
              "type": "string"
            },
            "text/plain": [
              "'./'"
            ]
          },
          "metadata": {},
          "execution_count": 19
        }
      ]
    },
    {
      "cell_type": "markdown",
      "source": [
        "**Install sigopt**\n",
        "\n",
        "Set up sigopt API token"
      ],
      "metadata": {
        "id": "waE7DYTLnKkj"
      }
    },
    {
      "cell_type": "code",
      "source": [
        "! pip install sigopt==7.5.0\n",
        "%env SIGOPT_API_TOKEN=SHJAKPKQIQOESRBQDHLAGYVEZVULHJVJTNAVVQUHFRHLXZVZ"
      ],
      "metadata": {
        "colab": {
          "base_uri": "https://localhost:8080/"
        },
        "id": "3hq4AkjoWCo6",
        "outputId": "0b834a1e-18c7-4704-e9f6-63a8abb2cabf"
      },
      "execution_count": null,
      "outputs": [
        {
          "output_type": "stream",
          "name": "stdout",
          "text": [
            "Requirement already satisfied: sigopt==7.5.0 in /usr/local/lib/python3.7/dist-packages (7.5.0)\n",
            "Requirement already satisfied: requests>=2.11.1 in /usr/local/lib/python3.7/dist-packages (from sigopt==7.5.0) (2.23.0)\n",
            "Requirement already satisfied: PyYAML>=5.4.1 in /usr/local/lib/python3.7/dist-packages (from sigopt==7.5.0) (6.0)\n",
            "Requirement already satisfied: ipython>=5.0.0 in /usr/local/lib/python3.7/dist-packages (from sigopt==7.5.0) (5.5.0)\n",
            "Requirement already satisfied: click>=7.0.0 in /usr/local/lib/python3.7/dist-packages (from sigopt==7.5.0) (7.1.2)\n",
            "Requirement already satisfied: pypng>=0.0.20 in /usr/local/lib/python3.7/dist-packages (from sigopt==7.5.0) (0.0.21)\n",
            "Requirement already satisfied: GitPython>=2.0.0 in /usr/local/lib/python3.7/dist-packages (from sigopt==7.5.0) (3.1.26)\n",
            "Requirement already satisfied: gitdb<5,>=4.0.1 in /usr/local/lib/python3.7/dist-packages (from GitPython>=2.0.0->sigopt==7.5.0) (4.0.9)\n",
            "Requirement already satisfied: typing-extensions>=3.7.4.3 in /usr/local/lib/python3.7/dist-packages (from GitPython>=2.0.0->sigopt==7.5.0) (3.10.0.2)\n",
            "Requirement already satisfied: smmap<6,>=3.0.1 in /usr/local/lib/python3.7/dist-packages (from gitdb<5,>=4.0.1->GitPython>=2.0.0->sigopt==7.5.0) (5.0.0)\n",
            "Requirement already satisfied: setuptools>=18.5 in /usr/local/lib/python3.7/dist-packages (from ipython>=5.0.0->sigopt==7.5.0) (57.4.0)\n",
            "Requirement already satisfied: pygments in /usr/local/lib/python3.7/dist-packages (from ipython>=5.0.0->sigopt==7.5.0) (2.6.1)\n",
            "Requirement already satisfied: pickleshare in /usr/local/lib/python3.7/dist-packages (from ipython>=5.0.0->sigopt==7.5.0) (0.7.5)\n",
            "Requirement already satisfied: decorator in /usr/local/lib/python3.7/dist-packages (from ipython>=5.0.0->sigopt==7.5.0) (4.4.2)\n",
            "Requirement already satisfied: traitlets>=4.2 in /usr/local/lib/python3.7/dist-packages (from ipython>=5.0.0->sigopt==7.5.0) (5.1.1)\n",
            "Requirement already satisfied: pexpect in /usr/local/lib/python3.7/dist-packages (from ipython>=5.0.0->sigopt==7.5.0) (4.8.0)\n",
            "Requirement already satisfied: prompt-toolkit<2.0.0,>=1.0.4 in /usr/local/lib/python3.7/dist-packages (from ipython>=5.0.0->sigopt==7.5.0) (1.0.18)\n",
            "Requirement already satisfied: simplegeneric>0.8 in /usr/local/lib/python3.7/dist-packages (from ipython>=5.0.0->sigopt==7.5.0) (0.8.1)\n",
            "Requirement already satisfied: wcwidth in /usr/local/lib/python3.7/dist-packages (from prompt-toolkit<2.0.0,>=1.0.4->ipython>=5.0.0->sigopt==7.5.0) (0.2.5)\n",
            "Requirement already satisfied: six>=1.9.0 in /usr/local/lib/python3.7/dist-packages (from prompt-toolkit<2.0.0,>=1.0.4->ipython>=5.0.0->sigopt==7.5.0) (1.15.0)\n",
            "Requirement already satisfied: urllib3!=1.25.0,!=1.25.1,<1.26,>=1.21.1 in /usr/local/lib/python3.7/dist-packages (from requests>=2.11.1->sigopt==7.5.0) (1.24.3)\n",
            "Requirement already satisfied: idna<3,>=2.5 in /usr/local/lib/python3.7/dist-packages (from requests>=2.11.1->sigopt==7.5.0) (2.10)\n",
            "Requirement already satisfied: certifi>=2017.4.17 in /usr/local/lib/python3.7/dist-packages (from requests>=2.11.1->sigopt==7.5.0) (2021.10.8)\n",
            "Requirement already satisfied: chardet<4,>=3.0.2 in /usr/local/lib/python3.7/dist-packages (from requests>=2.11.1->sigopt==7.5.0) (3.0.4)\n",
            "Requirement already satisfied: ptyprocess>=0.5 in /usr/local/lib/python3.7/dist-packages (from pexpect->ipython>=5.0.0->sigopt==7.5.0) (0.7.0)\n",
            "env: SIGOPT_API_TOKEN=SHJAKPKQIQOESRBQDHLAGYVEZVULHJVJTNAVVQUHFRHLXZVZ\n"
          ]
        }
      ]
    },
    {
      "cell_type": "markdown",
      "source": [
        "**Import SDA and relative libs**"
      ],
      "metadata": {
        "id": "afT68xxindDb"
      }
    },
    {
      "cell_type": "code",
      "source": [
        "import os\n",
        "import pathlib\n",
        "import yaml\n",
        "from dataloader.hydrodataloader import *\n",
        "from hydroai.hydroconfig import *\n",
        "from hydroai.hydromodel import *\n",
        "from SDA.modeladvisor.TwitterRecSysAdvisor import *"
      ],
      "metadata": {
        "id": "mmYUkpgOVrKr"
      },
      "execution_count": null,
      "outputs": []
    },
    {
      "cell_type": "markdown",
      "source": [
        "## **Use SDA to run TwitterRecSys2021 example**"
      ],
      "metadata": {
        "id": "BAeO7uuhnriE"
      }
    },
    {
      "cell_type": "markdown",
      "source": [
        "### **Prepare TwitterRecSys2021 dataset**"
      ],
      "metadata": {
        "id": "fqqpZdUjn2bR"
      }
    },
    {
      "cell_type": "code",
      "source": [
        "! wget --no-check-certificate 'https://docs.google.com/uc?export=download&id=14Lkvye3Wat3bjZelGuQJ4y_vXbHBUAFF' -O TwitterRecSys2021Dataset_sampledata.zip\n",
        "! unzip TwitterRecSys2021Dataset_sampledata.zip"
      ],
      "metadata": {
        "colab": {
          "base_uri": "https://localhost:8080/"
        },
        "id": "WEB0lKm-SnKT",
        "outputId": "aae0caf4-590c-4c60-c750-0cf6b149f44d"
      },
      "execution_count": null,
      "outputs": [
        {
          "output_type": "stream",
          "name": "stdout",
          "text": [
            "--2022-01-28 12:30:02--  https://docs.google.com/uc?export=download&id=14Lkvye3Wat3bjZelGuQJ4y_vXbHBUAFF\n",
            "Resolving docs.google.com (docs.google.com)... 74.125.141.101, 74.125.141.138, 74.125.141.139, ...\n",
            "Connecting to docs.google.com (docs.google.com)|74.125.141.101|:443... connected.\n",
            "HTTP request sent, awaiting response... 302 Moved Temporarily\n",
            "Location: https://doc-14-1s-docs.googleusercontent.com/docs/securesc/ha0ro937gcuc7l7deffksulhg5h7mbp1/nk1ulpeh3fadmuml677r1qcchrrv1g46/1643373000000/18016102022855825607/*/14Lkvye3Wat3bjZelGuQJ4y_vXbHBUAFF?e=download [following]\n",
            "Warning: wildcards not supported in HTTP.\n",
            "--2022-01-28 12:30:04--  https://doc-14-1s-docs.googleusercontent.com/docs/securesc/ha0ro937gcuc7l7deffksulhg5h7mbp1/nk1ulpeh3fadmuml677r1qcchrrv1g46/1643373000000/18016102022855825607/*/14Lkvye3Wat3bjZelGuQJ4y_vXbHBUAFF?e=download\n",
            "Resolving doc-14-1s-docs.googleusercontent.com (doc-14-1s-docs.googleusercontent.com)... 172.217.203.132, 2607:f8b0:400c:c07::84\n",
            "Connecting to doc-14-1s-docs.googleusercontent.com (doc-14-1s-docs.googleusercontent.com)|172.217.203.132|:443... connected.\n",
            "HTTP request sent, awaiting response... 200 OK\n",
            "Length: 5439940 (5.2M) [application/x-zip-compressed]\n",
            "Saving to: ‘TwitterRecSys2021Dataset_sampledata.zip’\n",
            "\n",
            "TwitterRecSys2021Da 100%[===================>]   5.19M  27.8MB/s    in 0.2s    \n",
            "\n",
            "2022-01-28 12:30:04 (27.8 MB/s) - ‘TwitterRecSys2021Dataset_sampledata.zip’ saved [5439940/5439940]\n",
            "\n",
            "Archive:  TwitterRecSys2021Dataset_sampledata.zip\n",
            "replace TwitterRecSys2021Dataset_sample/valid/valid.parquet? [y]es, [n]o, [A]ll, [N]one, [r]ename: "
          ]
        }
      ]
    },
    {
      "cell_type": "markdown",
      "source": [
        "### **Parameter setting**\n",
        "\n",
        "\"data_path\": can change to you own data set path\n",
        "\n",
        "\"observation_budget\": set sigopt experiment budget\n",
        "\n",
        "\"enable_sigopt\": disable this if you just want to train with default parameters\n",
        "\n",
        "\"train_script\": change the path if you have a customized script"
      ],
      "metadata": {
        "id": "h4JFnDmbn__E"
      }
    },
    {
      "cell_type": "code",
      "source": [
        "parameters = {\n",
        "    'model_name' : 'twitter_recsys',\n",
        "    'data_path' : './TwitterRecSys2021Dataset_sample',\n",
        "    'save_path': './result',\n",
        "    'observation_budget': 5,\n",
        "    'stage' : 'stage1',\n",
        "    'target' : 'like',\n",
        "    'enable_sigopt' : True,\n",
        "    'enable_model_cache' : False,\n",
        "    'train_python': 'python',\n",
        "    'train_script': hydroailib_path+'/modelzoo/TwitterRecSys/TwitterRecSys2021-intel-opt/model_hydroai/xgboost/train.py',  \n",
        "}"
      ],
      "metadata": {
        "id": "fY1Q6DzAcMMx"
      },
      "execution_count": null,
      "outputs": []
    },
    {
      "cell_type": "markdown",
      "source": [
        "### **Run SDA experiments**"
      ],
      "metadata": {
        "id": "eIaSITfAp48A"
      }
    },
    {
      "cell_type": "markdown",
      "source": [
        "**Define SDA class**\n",
        "\n",
        "keep this unchanged"
      ],
      "metadata": {
        "id": "SqyZ2vjzpAIV"
      }
    },
    {
      "cell_type": "code",
      "source": [
        "class SDA:\n",
        "    def __init__(self, model, data_loader, settings, hydro_model=None):\n",
        "        self.model = model\n",
        "        self.data_loader = data_loader\n",
        "        self.dataset_meta = self.data_loader.get_meta()\n",
        "        self.dataset_train = self.data_loader.get_train()\n",
        "        self.dataset_valid = self.data_loader.get_valid()\n",
        "        self.settings = settings\n",
        "        self.hydro_model = hydro_model\n",
        "        logging.basicConfig(\n",
        "            level=logging.INFO,\n",
        "            format='%(asctime)s - %(name)s - %(levelname)s - %(message)s')\n",
        "        self.logger = logging.getLogger('HYDRO.AI.SDA')\n",
        "\n",
        "    def __create_model_advisor(self):\n",
        "        if self.model.lower() == 'twitter_recsys':\n",
        "            return TwitterRecSysAdvisor(self.dataset_meta, self.dataset_train,\n",
        "                               self.dataset_valid, self.settings)\n",
        "  \n",
        "    def launch(self):\n",
        "        # 1. get model advisor\n",
        "        # sigopt yaml will be created and sigopt connection will be setup\n",
        "        self.model_advisor = self.__create_model_advisor()\n",
        "        self.logger.info(\"Model Advisor created\")\n",
        "\n",
        "        # 2. initialize_sigopt\n",
        "        if self.settings[\"enable_sigopt\"]:\n",
        "            self.logger.info(\"Start to init sigopt\")\n",
        "            experiment_id = self.hydro_model.sigopt_experiment_id if self.hydro_model else None\n",
        "            experiment_id = self.model_advisor.initialize_sigopt(\n",
        "                experiment_id=experiment_id)\n",
        "            if self.hydro_model:\n",
        "                self.hydro_model.update(\n",
        "                    {'sigopt_experiment_id': experiment_id})\n",
        "                self.model_advisor.record_assignmet(\n",
        "                    self.hydro_model.model_parameters, self.hydro_model.model)\n",
        "        else:\n",
        "            best_model_parameters = self.hydro_model.model_parameters if self.hydro_model else None\n",
        "            self.model_advisor.initialize_model_parameter(\n",
        "                assignments=best_model_parameters)\n",
        "        self.logger.info(\"model parameter initialized\")\n",
        "\n",
        "        # 3. launch train, w/wo sigopt to iterate train multiple times until we\n",
        "        # reached numIter or target score\n",
        "        self.logger.info(\"start to launch training\")\n",
        "        model_path, metrics, parameters = self.model_advisor.launch_train()\n",
        "        if self.hydro_model:\n",
        "            self.hydro_model.update({\n",
        "                'model': model_path,\n",
        "                'metrics': metrics,\n",
        "                'model_parameters': parameters\n",
        "            })\n",
        "        self.logger.info(\"training script completed\")\n",
        "        return model_path, metrics"
      ],
      "metadata": {
        "id": "pOE3k5BIWtPb"
      },
      "execution_count": null,
      "outputs": []
    },
    {
      "cell_type": "markdown",
      "source": [
        "**define the setting with parameters**"
      ],
      "metadata": {
        "id": "n-ECKUsppKfl"
      }
    },
    {
      "cell_type": "code",
      "source": [
        "settings = init_settings()\n",
        "settings.update(parameters)"
      ],
      "metadata": {
        "id": "4RX6WnWPqDT2"
      },
      "execution_count": null,
      "outputs": []
    },
    {
      "cell_type": "markdown",
      "source": [
        "**define the data loader**"
      ],
      "metadata": {
        "id": "ltoiBIhTqFOI"
      }
    },
    {
      "cell_type": "code",
      "source": [
        "data_loader = HydroDataLoaderAdvisor.create_data_loader(settings['data_path'], settings['model_name'])"
      ],
      "metadata": {
        "id": "1j5x1wJPqH3L"
      },
      "execution_count": null,
      "outputs": []
    },
    {
      "cell_type": "markdown",
      "source": [
        "**Initialize hydro model**\n",
        "load existing model if enable_model_cache is set True, else initialize with default setting"
      ],
      "metadata": {
        "id": "ULX8PFgUqJhJ"
      }
    },
    {
      "cell_type": "code",
      "source": [
        "if settings[\"enable_model_cache\"] and os.path.exists(f\"latest_hydro_model\"):\n",
        "    with open(f\"latest_hydro_model\", 'r') as f:\n",
        "        jdata = f.read()\n",
        "    hydro_model = HydroModel(None, serialized_text=[jdata])\n",
        "    if hydro_model.model_params['model_name'] == settings['model_name']:\n",
        "        hydro_model.explain()\n",
        "    else:\n",
        "        print(\"Detected history hydro model, but skip since model type is not the same\")\n",
        "        hydro_model = HydroModel(settings)\n",
        "else:\n",
        "    hydro_model = HydroModel(settings)"
      ],
      "metadata": {
        "id": "ipiqLeilqSC7"
      },
      "execution_count": null,
      "outputs": []
    },
    {
      "cell_type": "markdown",
      "source": [
        "**Launch SDA experiment**"
      ],
      "metadata": {
        "id": "MSNFBGVMqS2u"
      }
    },
    {
      "cell_type": "code",
      "source": [
        "sda = SDA(settings['model_name'], data_loader, settings, hydro_model)\n",
        "sda.launch()"
      ],
      "metadata": {
        "colab": {
          "base_uri": "https://localhost:8080/"
        },
        "id": "0lZPGUzmqWjC",
        "outputId": "7df9d402-2cbd-4bb8-e0ee-498a4cd0bf23"
      },
      "execution_count": null,
      "outputs": [
        {
          "output_type": "stream",
          "name": "stderr",
          "text": [
            "2022-01-28 12:30:39,270 - HYDRO.AI.SDA - INFO - Model Advisor created\n",
            "2022-01-28 12:30:39,273 - HYDRO.AI.SDA - INFO - Start to init sigopt\n"
          ]
        },
        {
          "name": "stdout",
          "output_type": "stream",
          "text": [
            "experiment: RecSys\n",
            "metrics:\n",
            "- name: AP\n",
            "  objective: maximize\n",
            "  strategy: optimize\n",
            "- name: RCE\n",
            "  objective: maximize\n",
            "observation_budget: 5\n",
            "parameters:\n",
            "- bounds:\n",
            "    max: 20\n",
            "    min: 5\n",
            "  name: max_depth\n",
            "  type: int\n",
            "- bounds:\n",
            "    max: 1.0\n",
            "    min: 0.0\n",
            "  name: learning_rate\n",
            "  type: double\n",
            "- bounds:\n",
            "    max: 1\n",
            "    min: 0.5\n",
            "  name: subsample\n",
            "  type: double\n",
            "- bounds:\n",
            "    max: 1.0\n",
            "    min: 0.5\n",
            "  name: colsample_bytree\n",
            "  type: double\n",
            "- bounds:\n",
            "    max: 1000\n",
            "    min: 100\n",
            "  name: num_boost_round\n",
            "  type: int\n",
            "project: hydro.ai\n",
            "Please confirm with sigopt parameters?(n for exit)y\n"
          ]
        },
        {
          "output_type": "stream",
          "name": "stderr",
          "text": [
            "2022-01-28 12:31:01,799 - HYDRO.AI.SDA - INFO - model parameter initialized\n",
            "2022-01-28 12:31:01,801 - HYDRO.AI.SDA - INFO - start to launch training\n",
            "2022-01-28 12:31:01,804 - sigopt - INFO - Experiment budget: 5\n",
            "2022-01-28 12:31:02,368 - sigopt - INFO - training launch command: python -u .//modelzoo/TwitterRecSys/TwitterRecSys2021-intel-opt/model_hydroai/xgboost/train.py --stage stage1 --target like --train_data_path ./TwitterRecSys2021Dataset_sample/train/train.parquet --valid_data_path ./TwitterRecSys2021Dataset_sample/valid/valid.parquet --model_save_path ./result/a044a2bbf1156593d2f2d5f83812138f --max_depth 18 --learning_rate 0.8817390886389768 --subsample 0.5355803786103582 --colsample_bytree 0.7859300426422364 --num_boost_round 494 \n",
            "2022-01-28 12:31:06,623 - sigopt - INFO - Received sigopt suggestion, assignment is                     OrderedDict([('colsample_bytree', 0.7859300426422364), ('learning_rate', 0.8817390886389768), ('max_depth', 18), ('num_boost_round', 494), ('subsample', 0.5355803786103582)])\n",
            "2022-01-28 12:31:06,625 - sigopt - INFO - Training completed with sigopt suggestion,                     metrics is [{'name': 'AP', 'value': 0.5697544198694291}, {'name': 'RCE', 'value': -113.1708405084467}]\n",
            "2022-01-28 12:31:08,211 - sigopt - INFO - training launch command: python -u .//modelzoo/TwitterRecSys/TwitterRecSys2021-intel-opt/model_hydroai/xgboost/train.py --stage stage1 --target like --train_data_path ./TwitterRecSys2021Dataset_sample/train/train.parquet --valid_data_path ./TwitterRecSys2021Dataset_sample/valid/valid.parquet --model_save_path ./result/61c05e226e091eca6ea8bf65dac253ea --max_depth 16 --learning_rate 0.5760135075095181 --subsample 0.6564832926417633 --colsample_bytree 0.5586818970697665 --num_boost_round 295 \n",
            "2022-01-28 12:31:12,549 - sigopt - INFO - Received sigopt suggestion, assignment is                     OrderedDict([('colsample_bytree', 0.5586818970697665), ('learning_rate', 0.5760135075095181), ('max_depth', 16), ('num_boost_round', 295), ('subsample', 0.6564832926417633)])\n",
            "2022-01-28 12:31:12,552 - sigopt - INFO - Training completed with sigopt suggestion,                     metrics is [{'name': 'AP', 'value': 0.5859875841172242}, {'name': 'RCE', 'value': -54.82351593216394}]\n",
            "2022-01-28 12:31:14,266 - sigopt - INFO - training launch command: python -u .//modelzoo/TwitterRecSys/TwitterRecSys2021-intel-opt/model_hydroai/xgboost/train.py --stage stage1 --target like --train_data_path ./TwitterRecSys2021Dataset_sample/train/train.parquet --valid_data_path ./TwitterRecSys2021Dataset_sample/valid/valid.parquet --model_save_path ./result/46a445585cf83ba87f508a9152e5656f --max_depth 5 --learning_rate 0.6453342527372863 --subsample 0.778737762394381 --colsample_bytree 0.6403020022534239 --num_boost_round 747 \n",
            "2022-01-28 12:31:16,444 - sigopt - INFO - Received sigopt suggestion, assignment is                     OrderedDict([('colsample_bytree', 0.6403020022534239), ('learning_rate', 0.6453342527372863), ('max_depth', 5), ('num_boost_round', 747), ('subsample', 0.778737762394381)])\n",
            "2022-01-28 12:31:16,447 - sigopt - INFO - Training completed with sigopt suggestion,                     metrics is [{'name': 'AP', 'value': 0.6062557728267153}, {'name': 'RCE', 'value': -5.6049720167623995}]\n",
            "2022-01-28 12:31:17,863 - sigopt - INFO - training launch command: python -u .//modelzoo/TwitterRecSys/TwitterRecSys2021-intel-opt/model_hydroai/xgboost/train.py --stage stage1 --target like --train_data_path ./TwitterRecSys2021Dataset_sample/train/train.parquet --valid_data_path ./TwitterRecSys2021Dataset_sample/valid/valid.parquet --model_save_path ./result/2091c0a1a39845d9aba4959c75749b19 --max_depth 8 --learning_rate 0.22729940968380263 --subsample 0.8551355476163943 --colsample_bytree 0.8734683022600558 --num_boost_round 278 \n",
            "2022-01-28 12:31:21,569 - sigopt - INFO - Received sigopt suggestion, assignment is                     OrderedDict([('colsample_bytree', 0.8734683022600558), ('learning_rate', 0.22729940968380263), ('max_depth', 8), ('num_boost_round', 278), ('subsample', 0.8551355476163943)])\n",
            "2022-01-28 12:31:21,571 - sigopt - INFO - Training completed with sigopt suggestion,                     metrics is [{'name': 'AP', 'value': 0.6249642800760695}, {'name': 'RCE', 'value': 1.6800228503549453}]\n",
            "2022-01-28 12:31:23,212 - sigopt - INFO - training launch command: python -u .//modelzoo/TwitterRecSys/TwitterRecSys2021-intel-opt/model_hydroai/xgboost/train.py --stage stage1 --target like --train_data_path ./TwitterRecSys2021Dataset_sample/train/train.parquet --valid_data_path ./TwitterRecSys2021Dataset_sample/valid/valid.parquet --model_save_path ./result/da4e31d8c670a578c6a5bd891abdde32 --max_depth 12 --learning_rate 0.08217202628803172 --subsample 0.9787088461613356 --colsample_bytree 0.9208642965461861 --num_boost_round 852 \n",
            "2022-01-28 12:31:33,280 - sigopt - INFO - Received sigopt suggestion, assignment is                     OrderedDict([('colsample_bytree', 0.9208642965461861), ('learning_rate', 0.08217202628803172), ('max_depth', 12), ('num_boost_round', 852), ('subsample', 0.9787088461613356)])\n",
            "2022-01-28 12:31:33,286 - sigopt - INFO - Training completed with sigopt suggestion,                     metrics is [{'name': 'AP', 'value': 0.6217781292223032}, {'name': 'RCE', 'value': 2.9567500139134117}]\n",
            "2022-01-28 12:31:34,311 - sigopt - INFO - Training with sigopt is completed!                 https://app.sigopt.com/experiment/479510 \n",
            "/usr/local/lib/python3.7/dist-packages/sigopt/objects.py:327: RuntimeWarning: The .data field only contains a single page of results, which may be incomplete for large responses. Prefer to use the `.iterate_pages() to ensure that you iterate through all elements in the response.\n",
            "  RuntimeWarning,\n",
            "2022-01-28 12:31:34,787 - HYDRO.AI.SDA - INFO - training script completed\n"
          ]
        },
        {
          "output_type": "execute_result",
          "data": {
            "text/plain": [
              "('./result/2091c0a1a39845d9aba4959c75749b19',\n",
              " [{'name': 'AP', 'value': 0.6249642800760695},\n",
              "  {'name': 'RCE', 'value': 1.6800228503549453}])"
            ]
          },
          "metadata": {},
          "execution_count": 28
        }
      ]
    },
    {
      "cell_type": "markdown",
      "source": [
        "**Save model and explain**"
      ],
      "metadata": {
        "id": "FDjTm12BqZkv"
      }
    },
    {
      "cell_type": "code",
      "source": [
        "with open(f\"latest_hydro_model\", 'w') as f:\n",
        "    f.write(hydro_model.to_json())\n",
        "hydro_model.explain()"
      ],
      "metadata": {
        "colab": {
          "base_uri": "https://localhost:8080/"
        },
        "id": "hhjmea9VUPS6",
        "outputId": "ca9fe5ab-10fe-4de1-ac64-28019d8356b3"
      },
      "execution_count": null,
      "outputs": [
        {
          "output_type": "stream",
          "name": "stdout",
          "text": [
            "\n",
            "===============================================\n",
            "***    Best Trained Model    ***\n",
            "===============================================\n",
            "  Model Type: twitter_recsys\n",
            "  Model Saved Path: ./result/2091c0a1a39845d9aba4959c75749b19\n",
            "  Sigopt Experiment id is 479510\n",
            "  === Result Metrics ===\n",
            "    AP: 0.6249642800760695\n",
            "    RCE: 1.6800228503549453\n",
            "===============================================\n"
          ]
        }
      ]
    },
    {
      "cell_type": "markdown",
      "source": [
        "### **Democratized models performance**"
      ],
      "metadata": {
        "id": "YAW_thg7TCp4"
      }
    },
    {
      "cell_type": "markdown",
      "source": [
        "**Twitter RecSys**\n",
        "\n",
        "For Twitter RecSys 2021 workload, compared with NVIDIA 1st solution, Intel democratized model can significantly reduce training time (>215h vs 9.8h), 21.9x faster than GPU. For inference time, the democratized solutions can reduce the GPU/CPU gap from 92x to 2x while keep less than 5% performmance gap.\n",
        "\n",
        "![Picture1.png](data:image/png;base64,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)"
      ],
      "metadata": {
        "id": "chdCDRVXTL-v"
      }
    }
  ]
}