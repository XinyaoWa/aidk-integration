{
  "nbformat": 4,
  "nbformat_minor": 0,
  "metadata": {
    "colab": {
      "name": "Run Democratized build-in models of AIDK.ipynb",
      "provenance": [],
      "collapsed_sections": [],
      "authorship_tag": "ABX9TyNPhVyFbDFtoj7MIHeYa6ZA",
      "include_colab_link": true
    },
    "kernelspec": {
      "name": "python3",
      "display_name": "Python 3"
    },
    "language_info": {
      "name": "python"
    }
  },
  "cells": [
    {
      "cell_type": "markdown",
      "metadata": {
        "id": "view-in-github",
        "colab_type": "text"
      },
      "source": [
        "<a href=\"https://colab.research.google.com/github/XinyaoWa/hydroai-colab/blob/main/Run_Democratized_build_in_models_of_AIDK.ipynb\" target=\"_parent\"><img src=\"https://colab.research.google.com/assets/colab-badge.svg\" alt=\"Open In Colab\"/></a>"
      ]
    },
    {
      "cell_type": "markdown",
      "source": [
        "## **To be deleted**"
      ],
      "metadata": {
        "id": "GLLjXfsmUcJM"
      }
    },
    {
      "cell_type": "markdown",
      "source": [
        "The below will be deleted when hydro.ai can be installed with pip"
      ],
      "metadata": {
        "id": "h9tasNqTmNyc"
      }
    },
    {
      "cell_type": "code",
      "execution_count": null,
      "metadata": {
        "id": "Z3vJSyZV7EJZ",
        "colab": {
          "base_uri": "https://localhost:8080/"
        },
        "outputId": "e79844aa-b495-40df-9644-712ade9c4cc2"
      },
      "outputs": [
        {
          "output_type": "stream",
          "name": "stdout",
          "text": [
            "Drive already mounted at /content/drive/; to attempt to forcibly remount, call drive.mount(\"/content/drive/\", force_remount=True).\n"
          ]
        }
      ],
      "source": [
        "from google.colab import drive\n",
        "import os\n",
        "drive.mount('/content/drive/')\n",
        "os.chdir('/content/drive/My Drive/integration/frameworks.bigdata.bluewhale-main')\n",
        "aidk_path = '/content/drive/MyDrive/integration/frameworks.bigdata.bluewhale-main'"
      ]
    },
    {
      "cell_type": "code",
      "source": [
        "from hydroai.hydroautolearner import HydroAutoLearner\n",
        "from run_hydroai import run_aidk"
      ],
      "metadata": {
        "colab": {
          "base_uri": "https://localhost:8080/"
        },
        "id": "sEWkmA1mXUkt",
        "outputId": "c014d16d-c344-4964-ea0a-3b1dd3d6ba0b"
      },
      "execution_count": null,
      "outputs": [
        {
          "output_type": "stream",
          "name": "stdout",
          "text": [
            "/content/drive/My Drive/integration/frameworks.bigdata.bluewhale-main\n"
          ]
        }
      ]
    },
    {
      "cell_type": "code",
      "source": [
        "!pip install -r requirements.txt"
      ],
      "metadata": {
        "colab": {
          "base_uri": "https://localhost:8080/"
        },
        "id": "VaqolOXCUSyM",
        "outputId": "bd65d32e-c205-4fba-a543-1a8515cf01a8"
      },
      "execution_count": null,
      "outputs": [
        {
          "output_type": "stream",
          "name": "stdout",
          "text": [
            "Requirement already satisfied: sigopt==7.5.0 in /usr/local/lib/python3.7/dist-packages (from -r requirements.txt (line 1)) (7.5.0)\n",
            "Requirement already satisfied: GitPython>=2.0.0 in /usr/local/lib/python3.7/dist-packages (from sigopt==7.5.0->-r requirements.txt (line 1)) (3.1.26)\n",
            "Requirement already satisfied: requests>=2.11.1 in /usr/local/lib/python3.7/dist-packages (from sigopt==7.5.0->-r requirements.txt (line 1)) (2.23.0)\n",
            "Requirement already satisfied: click>=7.0.0 in /usr/local/lib/python3.7/dist-packages (from sigopt==7.5.0->-r requirements.txt (line 1)) (7.1.2)\n",
            "Requirement already satisfied: ipython>=5.0.0 in /usr/local/lib/python3.7/dist-packages (from sigopt==7.5.0->-r requirements.txt (line 1)) (5.5.0)\n",
            "Requirement already satisfied: pypng>=0.0.20 in /usr/local/lib/python3.7/dist-packages (from sigopt==7.5.0->-r requirements.txt (line 1)) (0.0.21)\n",
            "Requirement already satisfied: PyYAML>=5.4.1 in /usr/local/lib/python3.7/dist-packages (from sigopt==7.5.0->-r requirements.txt (line 1)) (6.0)\n",
            "Requirement already satisfied: gitdb<5,>=4.0.1 in /usr/local/lib/python3.7/dist-packages (from GitPython>=2.0.0->sigopt==7.5.0->-r requirements.txt (line 1)) (4.0.9)\n",
            "Requirement already satisfied: typing-extensions>=3.7.4.3 in /usr/local/lib/python3.7/dist-packages (from GitPython>=2.0.0->sigopt==7.5.0->-r requirements.txt (line 1)) (3.10.0.2)\n",
            "Requirement already satisfied: smmap<6,>=3.0.1 in /usr/local/lib/python3.7/dist-packages (from gitdb<5,>=4.0.1->GitPython>=2.0.0->sigopt==7.5.0->-r requirements.txt (line 1)) (5.0.0)\n",
            "Requirement already satisfied: setuptools>=18.5 in /usr/local/lib/python3.7/dist-packages (from ipython>=5.0.0->sigopt==7.5.0->-r requirements.txt (line 1)) (57.4.0)\n",
            "Requirement already satisfied: traitlets>=4.2 in /usr/local/lib/python3.7/dist-packages (from ipython>=5.0.0->sigopt==7.5.0->-r requirements.txt (line 1)) (5.1.1)\n",
            "Requirement already satisfied: pexpect in /usr/local/lib/python3.7/dist-packages (from ipython>=5.0.0->sigopt==7.5.0->-r requirements.txt (line 1)) (4.8.0)\n",
            "Requirement already satisfied: decorator in /usr/local/lib/python3.7/dist-packages (from ipython>=5.0.0->sigopt==7.5.0->-r requirements.txt (line 1)) (4.4.2)\n",
            "Requirement already satisfied: pygments in /usr/local/lib/python3.7/dist-packages (from ipython>=5.0.0->sigopt==7.5.0->-r requirements.txt (line 1)) (2.6.1)\n",
            "Requirement already satisfied: pickleshare in /usr/local/lib/python3.7/dist-packages (from ipython>=5.0.0->sigopt==7.5.0->-r requirements.txt (line 1)) (0.7.5)\n",
            "Requirement already satisfied: simplegeneric>0.8 in /usr/local/lib/python3.7/dist-packages (from ipython>=5.0.0->sigopt==7.5.0->-r requirements.txt (line 1)) (0.8.1)\n",
            "Requirement already satisfied: prompt-toolkit<2.0.0,>=1.0.4 in /usr/local/lib/python3.7/dist-packages (from ipython>=5.0.0->sigopt==7.5.0->-r requirements.txt (line 1)) (1.0.18)\n",
            "Requirement already satisfied: six>=1.9.0 in /usr/local/lib/python3.7/dist-packages (from prompt-toolkit<2.0.0,>=1.0.4->ipython>=5.0.0->sigopt==7.5.0->-r requirements.txt (line 1)) (1.15.0)\n",
            "Requirement already satisfied: wcwidth in /usr/local/lib/python3.7/dist-packages (from prompt-toolkit<2.0.0,>=1.0.4->ipython>=5.0.0->sigopt==7.5.0->-r requirements.txt (line 1)) (0.2.5)\n",
            "Requirement already satisfied: certifi>=2017.4.17 in /usr/local/lib/python3.7/dist-packages (from requests>=2.11.1->sigopt==7.5.0->-r requirements.txt (line 1)) (2021.10.8)\n",
            "Requirement already satisfied: urllib3!=1.25.0,!=1.25.1,<1.26,>=1.21.1 in /usr/local/lib/python3.7/dist-packages (from requests>=2.11.1->sigopt==7.5.0->-r requirements.txt (line 1)) (1.24.3)\n",
            "Requirement already satisfied: chardet<4,>=3.0.2 in /usr/local/lib/python3.7/dist-packages (from requests>=2.11.1->sigopt==7.5.0->-r requirements.txt (line 1)) (3.0.4)\n",
            "Requirement already satisfied: idna<3,>=2.5 in /usr/local/lib/python3.7/dist-packages (from requests>=2.11.1->sigopt==7.5.0->-r requirements.txt (line 1)) (2.10)\n",
            "Requirement already satisfied: ptyprocess>=0.5 in /usr/local/lib/python3.7/dist-packages (from pexpect->ipython>=5.0.0->sigopt==7.5.0->-r requirements.txt (line 1)) (0.7.0)\n"
          ]
        }
      ]
    },
    {
      "cell_type": "markdown",
      "source": [
        "## **AIDK Overview**\n",
        "\n",
        "AIDK(AI Democratization Toolkit) is an end-to-end AI toolkit which can deliver high performance lightweight models efficiently on commodity hardware.\n",
        "\n",
        "###**Key Features**\n",
        "\n",
        "With AIDK, you can:\n",
        "\n",
        "- Get direct access to democratized models for a wide range of areas( recommendation systems, computer vision, speech recognition, nature language processing.....), which can bring 100x speedup over stock models.\n",
        "- Automatically optimize and accelerate the candidate models with democratized tools in AIDK(SDA, SDNN...) while keeping comparable score.\n",
        "- Plug the democratized module(RecDP, SDA, SDNN...) into your own AI pipeline for specific usage."
      ],
      "metadata": {
        "id": "dNXznmsPVJF2"
      }
    },
    {
      "cell_type": "markdown",
      "source": [
        "##**Notebook Content**\n",
        "\n",
        "This notebook gives a quick start for AIDK, which mainly shows how to deploy a build-in model to solve your problems.\n",
        "\n",
        "- **Quick Start**  \n",
        "\n",
        "  Quick start for AIDK usage.\n",
        "\n",
        "- **Case1: Directly run build-in democratized models**  \n",
        "\n",
        "  If you start an AI project but with no candidate model or training dataset, you can just pick the democratized model in AIDK modelzoo for a quick deployment.\n",
        "\n",
        "- **Case2: Optimize build-in models for specific dataset**\n",
        "\n",
        "  If you want a better performance for a specific dataset, you can optimize the model with the build-in democratized algorithms, which will output a new model with the best performance."
      ],
      "metadata": {
        "id": "l0ZDbq2BKIjg"
      }
    },
    {
      "cell_type": "markdown",
      "source": [
        "## **AIDK Install**\n",
        "\n",
        "Install AIDK with pip."
      ],
      "metadata": {
        "id": "8jEEcwBbmZu6"
      }
    },
    {
      "cell_type": "code",
      "source": [
        "# pip install aidk"
      ],
      "metadata": {
        "id": "2-4POVvs8ss4",
        "colab": {
          "base_uri": "https://localhost:8080/",
          "height": 35
        },
        "outputId": "b949143a-6c72-40c5-c1f9-18d0f9f769a7"
      },
      "execution_count": null,
      "outputs": [
        {
          "output_type": "execute_result",
          "data": {
            "application/vnd.google.colaboratory.intrinsic+json": {
              "type": "string"
            },
            "text/plain": [
              "'/content/drive/MyDrive/integration/frameworks.bigdata.bluewhale-main'"
            ]
          },
          "metadata": {},
          "execution_count": 3
        }
      ]
    },
    {
      "cell_type": "code",
      "source": [
        "# from aidk import *\n",
        "# aidk_path = aidk.__path__[0]\n",
        "aidk_path"
      ],
      "metadata": {
        "id": "83MWtcZ0XQIc"
      },
      "execution_count": null,
      "outputs": []
    },
    {
      "cell_type": "markdown",
      "source": [
        "##**Quick start**\n",
        "\n",
        "A quick start for pipeline test, which do a classification job on Sklearn Wine dataset."
      ],
      "metadata": {
        "id": "1lQ_4SQxdKTl"
      }
    },
    {
      "cell_type": "code",
      "source": [
        "## Define AIDK parameters\n",
        "## For quick start, we just need to give two parameters:\n",
        "## - 'model_name':  Give 'pipeline_test' as model name for a quick test\n",
        "## - 'aidk_path':  Give AIDK lib path\n",
        "parameters = {'model_name': 'pipeline_test', \n",
        "              'aidk_path': aidk_path \n",
        "}\n",
        "\n",
        "## Run AIDK to train a build-in test model and return the performance\n",
        "run_aidk(parameters)"
      ],
      "metadata": {
        "colab": {
          "base_uri": "https://localhost:8080/"
        },
        "id": "JBLsslbDi-fh",
        "outputId": "44513370-5eff-409f-b468-923c55660153"
      },
      "execution_count": null,
      "outputs": [
        {
          "output_type": "stream",
          "name": "stderr",
          "text": [
            "2022-02-16 08:00:40,989 - HYDRO.AI.SDA - INFO - Model Advisor created\n",
            "2022-02-16 08:00:40,991 - HYDRO.AI.SDA - INFO - model parameter initialized\n",
            "2022-02-16 08:00:40,994 - HYDRO.AI.SDA - INFO - start to launch training\n",
            "2022-02-16 08:00:41,000 - sigopt - INFO - training launch command: ['python', '/content/drive/MyDrive/integration/frameworks.bigdata.bluewhale-main/example/sklearn_train.py', '--max_depth', '11', '--learning_rate', '0.9294458527831317', '--min_split_loss', '6.88375281543753', '--saved_path', '/content/drive/MyDrive/integration/frameworks.bigdata.bluewhale-main/result/pipeline_test/20220216_080040/1768ea50c3ead24d0a19ff305fe537ca']\n",
            "2022-02-16 08:00:42,514 - sigopt - INFO - Training completed based in sigopt suggestion, took 1.514131784439087 secs\n",
            "2022-02-16 08:00:42,516 - HYDRO.AI.SDA - INFO - training script completed\n"
          ]
        },
        {
          "output_type": "stream",
          "name": "stdout",
          "text": [
            "\n",
            "We found the best model! Here is the model explaination\n",
            "\n",
            "===============================================\n",
            "***    Best Trained Model    ***\n",
            "===============================================\n",
            "  Model Type: pipeline_test\n",
            "  Model Saved Path: /content/drive/MyDrive/integration/frameworks.bigdata.bluewhale-main/result/pipeline_test/20220216_080040/1768ea50c3ead24d0a19ff305fe537ca\n",
            "  Sigopt Experiment id is None\n",
            "  === Result Metrics ===\n",
            "    accuracy: 0.7241269841269842\n",
            "    training_time: 1.514131784439087\n",
            "===============================================\n"
          ]
        }
      ]
    },
    {
      "cell_type": "markdown",
      "source": [
        "## **Case1: Directly run build-in democratized models**\n",
        "\n",
        "You can pick the build-in democratized models in AIDK modelzoo and directly run it, especially in two cases:\n",
        "\n",
        "- When you start an AI project, but don't want to carefully select the candidate model or have no dataset for model training.\n",
        "\n",
        "- You want an optimized model with better performance on commodity hardware.\n",
        "\n",
        "**AIDK modelzoo**\n",
        "\n",
        "AIDK modelzoo contains some democratized models for a wide range of areas:\n",
        "\n",
        "- Reconmmendation System: DLRM, DIEN, WnD, TwitterRecSys2021\n",
        "\n",
        "- Computer Vision: ResNet\n",
        "\n",
        "- Nature Language Processing: Bert\n",
        "\n",
        "- Speech Recognition: RNN-T\n",
        "\n",
        "All the democratized models have been specifically optimized on commodity hardware and can bring up to 100x perfrmance speedup."
      ],
      "metadata": {
        "id": "afT68xxindDb"
      }
    },
    {
      "cell_type": "markdown",
      "source": [
        "###**Example: Reconmmendation System**\n",
        "\n",
        "For reconmmendation system, AIDK contains four democratized models. \n",
        "\n",
        "Below we select TwitterRecSys2021 as an example, which gives an optimized solution on Twitter RecSys 2021 Dataset."
      ],
      "metadata": {
        "id": "g0QAMknspKfi"
      }
    },
    {
      "cell_type": "markdown",
      "source": [
        "**Download sample dataset**"
      ],
      "metadata": {
        "id": "fqqpZdUjn2bR"
      }
    },
    {
      "cell_type": "code",
      "source": [
        "! wget --no-check-certificate 'https://docs.google.com/uc?export=download&id=14Lkvye3Wat3bjZelGuQJ4y_vXbHBUAFF' -O TwitterRecSys2021Dataset_sampledata.zip\n",
        "! unzip TwitterRecSys2021Dataset_sampledata.zip"
      ],
      "metadata": {
        "colab": {
          "base_uri": "https://localhost:8080/"
        },
        "id": "WEB0lKm-SnKT",
        "outputId": "aae0caf4-590c-4c60-c750-0cf6b149f44d"
      },
      "execution_count": null,
      "outputs": [
        {
          "output_type": "stream",
          "name": "stdout",
          "text": [
            "--2022-01-28 12:30:02--  https://docs.google.com/uc?export=download&id=14Lkvye3Wat3bjZelGuQJ4y_vXbHBUAFF\n",
            "Resolving docs.google.com (docs.google.com)... 74.125.141.101, 74.125.141.138, 74.125.141.139, ...\n",
            "Connecting to docs.google.com (docs.google.com)|74.125.141.101|:443... connected.\n",
            "HTTP request sent, awaiting response... 302 Moved Temporarily\n",
            "Location: https://doc-14-1s-docs.googleusercontent.com/docs/securesc/ha0ro937gcuc7l7deffksulhg5h7mbp1/nk1ulpeh3fadmuml677r1qcchrrv1g46/1643373000000/18016102022855825607/*/14Lkvye3Wat3bjZelGuQJ4y_vXbHBUAFF?e=download [following]\n",
            "Warning: wildcards not supported in HTTP.\n",
            "--2022-01-28 12:30:04--  https://doc-14-1s-docs.googleusercontent.com/docs/securesc/ha0ro937gcuc7l7deffksulhg5h7mbp1/nk1ulpeh3fadmuml677r1qcchrrv1g46/1643373000000/18016102022855825607/*/14Lkvye3Wat3bjZelGuQJ4y_vXbHBUAFF?e=download\n",
            "Resolving doc-14-1s-docs.googleusercontent.com (doc-14-1s-docs.googleusercontent.com)... 172.217.203.132, 2607:f8b0:400c:c07::84\n",
            "Connecting to doc-14-1s-docs.googleusercontent.com (doc-14-1s-docs.googleusercontent.com)|172.217.203.132|:443... connected.\n",
            "HTTP request sent, awaiting response... 200 OK\n",
            "Length: 5439940 (5.2M) [application/x-zip-compressed]\n",
            "Saving to: ‘TwitterRecSys2021Dataset_sampledata.zip’\n",
            "\n",
            "TwitterRecSys2021Da 100%[===================>]   5.19M  27.8MB/s    in 0.2s    \n",
            "\n",
            "2022-01-28 12:30:04 (27.8 MB/s) - ‘TwitterRecSys2021Dataset_sampledata.zip’ saved [5439940/5439940]\n",
            "\n",
            "Archive:  TwitterRecSys2021Dataset_sampledata.zip\n",
            "replace TwitterRecSys2021Dataset_sample/valid/valid.parquet? [y]es, [n]o, [A]ll, [N]one, [r]ename: "
          ]
        }
      ]
    },
    {
      "cell_type": "markdown",
      "source": [
        "**Parameter setting**\n",
        "\n",
        "To run a build-in model, specify some basic parameters for AIDK running:\n",
        "\n",
        "- **model_name**  *required*, the selected democratized model name, can be: \n",
        "\n",
        "   *'pipeline_test', 'dlrm', 'dien', 'wnd', 'twitter_recsys', 'rnnt', 'tpcxai09', 'upm'*\n",
        "\n",
        "- **data_path** *required*, the path to training dataset.\n",
        "\n",
        "- **aidk_path** *required*, the absolute path to AIDK lib.\n"
      ],
      "metadata": {
        "id": "h4JFnDmbn__E"
      }
    },
    {
      "cell_type": "code",
      "source": [
        "parameters = {\n",
        "    'model_name': 'twitter_recsys',\n",
        "    'data_path': './TwitterRecSys2021Dataset_sample',\n",
        "    'aidk_path': aidk_path \n",
        "}"
      ],
      "metadata": {
        "id": "NHtvblhjtz7k"
      },
      "execution_count": null,
      "outputs": []
    },
    {
      "cell_type": "markdown",
      "source": [
        "**Run AIDK**\n",
        "\n",
        "Use *run_aidk* can quickly train the democratized model on provided dataset and present the performance."
      ],
      "metadata": {
        "id": "ruU8WkOjvyYS"
      }
    },
    {
      "cell_type": "code",
      "source": [
        "## Run AIDK to train the democratized Twitter RecSys model and return the performance on sample dataset\n",
        "run_aidk(parameters)"
      ],
      "metadata": {
        "colab": {
          "base_uri": "https://localhost:8080/"
        },
        "id": "gaE3j4ArvO3r",
        "outputId": "e784fb9f-31f0-4c76-e3a8-9bae206685a0"
      },
      "execution_count": null,
      "outputs": [
        {
          "output_type": "stream",
          "name": "stderr",
          "text": [
            "2022-02-16 09:13:40,507 - HYDRO.AI.SDA - INFO - Model Advisor created\n",
            "2022-02-16 09:13:40,509 - HYDRO.AI.SDA - INFO - model parameter initialized\n",
            "2022-02-16 09:13:40,511 - HYDRO.AI.SDA - INFO - start to launch training\n",
            "2022-02-16 09:13:40,521 - sigopt - INFO - training launch command: python -u /content/drive/MyDrive/integration/frameworks.bigdata.bluewhale-main/modelzoo/TwitterRecSys/TwitterRecSys2021-intel-opt/model_hydroai/xgboost/train.py --stage stage1 --target reply --train_data_path ./TwitterRecSys2021Dataset_sample/train/train.parquet --valid_data_path ./TwitterRecSys2021Dataset_sample/valid/valid.parquet --model_save_path /content/drive/MyDrive/integration/frameworks.bigdata.bluewhale-main/result/twitter_recsys/20220216_091340/145ebb148387d95b7ff12d81001208b3 --max_depth 8 --learning_rate 0.1 --subsample 0.8 --colsample_bytree 0.8 --num_boost_round 250 \n",
            "2022-02-16 09:13:50,624 - sigopt - INFO - Training completed based in sigopt suggestion, took 10.099994421005249 secs\n",
            "2022-02-16 09:13:50,628 - HYDRO.AI.SDA - INFO - training script completed\n"
          ]
        },
        {
          "output_type": "stream",
          "name": "stdout",
          "text": [
            "\n",
            "We found the best model! Here is the model explaination\n",
            "\n",
            "===============================================\n",
            "***    Best Trained Model    ***\n",
            "===============================================\n",
            "  Model Type: twitter_recsys\n",
            "  Model Saved Path: /content/drive/MyDrive/integration/frameworks.bigdata.bluewhale-main/result/twitter_recsys/20220216_091340/145ebb148387d95b7ff12d81001208b3\n",
            "  Sigopt Experiment id is None\n",
            "  === Result Metrics ===\n",
            "    AP: 0.09273384406261408\n",
            "    RCE: 9.148431114577527\n",
            "===============================================\n"
          ]
        }
      ]
    },
    {
      "cell_type": "markdown",
      "source": [
        "## **Case2: Optimize build-in models for specific dataset**\n",
        "\n",
        "If you have your own training dataset, and want to optimize the build-in model for better performance on the specific data, you can enable *demoratize* flag, which will start democratize modules in AIDK to search a better model.\n",
        "\n",
        "In this case, we still take Twitter RecSys as an example."
      ],
      "metadata": {
        "id": "vt79cDOjdOvV"
      }
    },
    {
      "cell_type": "markdown",
      "source": [
        "**Prepare dataset**\n",
        "\n",
        "Originize you dataset as listed structure:\n",
        "\n",
        "- **train** - *fold*, contains all the training data\n",
        "\n",
        "- **validate** - *fold*, contains all the validation data\n",
        "\n",
        "- **metadata.yaml** - *file*, contains the description of the data, can be empty \n",
        "\n",
        "Below we use the downloaded sample dataset for simplicity."
      ],
      "metadata": {
        "id": "_3grWtKy2wXC"
      }
    },
    {
      "cell_type": "code",
      "source": [
        "!ls TwitterRecSys2021Dataset_sample"
      ],
      "metadata": {
        "colab": {
          "base_uri": "https://localhost:8080/"
        },
        "id": "FoBrLclk3vZL",
        "outputId": "624f4915-cb02-4012-ecaa-521e985a2830"
      },
      "execution_count": null,
      "outputs": [
        {
          "output_type": "stream",
          "name": "stdout",
          "text": [
            "metadata.yaml  train  valid\n"
          ]
        }
      ]
    },
    {
      "cell_type": "markdown",
      "source": [
        "**Parameter setting**\n",
        "\n",
        "Besides the above parameters, we need to enable *demoratize* flag and provide sigopt API token:\n",
        "\n",
        "- **democratize**  *optional*, turn on the flag if you want to optimize the model, *default=False*\n",
        "\n",
        "- **sigopt_api_token** *required if democratize=True*, give your sigopt API token for Sigopt parameter tuning, *default=None*.\n",
        "\n",
        "- **observation_budget** *optional*, experiment budget for Sigopt optimization, *default=1*"
      ],
      "metadata": {
        "id": "oZawALbQ35Zo"
      }
    },
    {
      "cell_type": "code",
      "source": [
        "parameters = {\n",
        "    'model_name': 'twitter_recsys',\n",
        "    'data_path': './TwitterRecSys2021Dataset_sample',\n",
        "    'aidk_path': aidk_path,\n",
        "    'democratize': True,\n",
        "    'sigopt_api_token': 'SHJAKPKQIQOESRBQDHLAGYVEZVULHJVJTNAVVQUHFRHLXZVZ',\n",
        "    'observation_budget': 5\n",
        "} \n",
        "   "
      ],
      "metadata": {
        "id": "mmYUkpgOVrKr"
      },
      "execution_count": null,
      "outputs": []
    },
    {
      "cell_type": "markdown",
      "source": [
        "**Run AIDK**\n",
        "\n",
        "Use *run_aidk* to start the democratized process for the Twitter RecSys model."
      ],
      "metadata": {
        "id": "_5Em2KaiG22k"
      }
    },
    {
      "cell_type": "code",
      "source": [
        "run_aidk(parameters)"
      ],
      "metadata": {
        "colab": {
          "base_uri": "https://localhost:8080/"
        },
        "id": "CF-Gj18GGGFp",
        "outputId": "6be04556-991d-4d17-b9f1-9e2944e351fc"
      },
      "execution_count": null,
      "outputs": [
        {
          "output_type": "stream",
          "name": "stderr",
          "text": [
            "2022-02-16 10:35:57,646 - HYDRO.AI.SDA - INFO - Model Advisor created\n",
            "2022-02-16 10:35:57,648 - HYDRO.AI.SDA - INFO - Start to init sigopt\n"
          ]
        },
        {
          "name": "stdout",
          "output_type": "stream",
          "text": [
            "api_token: SHJAKPKQIQOESRBQDHLAGYVEZVULHJVJTNAVVQUHFRHLXZVZ\n",
            "experiment: RecSys\n",
            "metrics:\n",
            "- name: AP\n",
            "  objective: maximize\n",
            "  strategy: optimize\n",
            "- name: RCE\n",
            "  objective: maximize\n",
            "observation_budget: 5\n",
            "parameters:\n",
            "- bounds:\n",
            "    max: 20\n",
            "    min: 5\n",
            "  name: max_depth\n",
            "  type: int\n",
            "- bounds:\n",
            "    max: 1.0\n",
            "    min: 0.0\n",
            "  name: learning_rate\n",
            "  type: double\n",
            "- bounds:\n",
            "    max: 1\n",
            "    min: 0.5\n",
            "  name: subsample\n",
            "  type: double\n",
            "- bounds:\n",
            "    max: 1.0\n",
            "    min: 0.5\n",
            "  name: colsample_bytree\n",
            "  type: double\n",
            "- bounds:\n",
            "    max: 1000\n",
            "    min: 100\n",
            "  name: num_boost_round\n",
            "  type: int\n",
            "project: hydro.ai\n",
            "Please confirm with sigopt parameters?(n for exit)y\n"
          ]
        },
        {
          "output_type": "stream",
          "name": "stderr",
          "text": [
            "2022-02-16 10:36:01,227 - HYDRO.AI.SDA - INFO - model parameter initialized\n",
            "2022-02-16 10:36:01,228 - HYDRO.AI.SDA - INFO - start to launch training\n",
            "2022-02-16 10:36:01,232 - sigopt - INFO - Experiment budget: 5\n",
            "2022-02-16 10:36:02,136 - sigopt - INFO - training launch command: python -u /content/drive/MyDrive/integration/frameworks.bigdata.bluewhale-main/modelzoo/TwitterRecSys/TwitterRecSys2021-intel-opt/model_hydroai/xgboost/train.py --stage stage1 --target reply --train_data_path ./TwitterRecSys2021Dataset_sample/train/train.parquet --valid_data_path ./TwitterRecSys2021Dataset_sample/valid/valid.parquet --model_save_path /content/drive/MyDrive/integration/frameworks.bigdata.bluewhale-main/result/twitter_recsys/20220216_103557/ff49c1279084c542e7d87ce8299e8847 --max_depth 15 --learning_rate 0.699597371666423 --subsample 0.9157910740261763 --colsample_bytree 0.9515218189324157 --num_boost_round 463 \n",
            "2022-02-16 10:36:05,183 - sigopt - INFO - Received sigopt suggestion, assignment is                     OrderedDict([('colsample_bytree', 0.9515218189324157), ('learning_rate', 0.699597371666423), ('max_depth', 15), ('num_boost_round', 463), ('subsample', 0.9157910740261763)])\n",
            "2022-02-16 10:36:05,185 - sigopt - INFO - Training completed with sigopt suggestion,                     metrics is [{'name': 'AP', 'value': 0.07461193583430788}, {'name': 'RCE', 'value': -29.08119875449127}]\n",
            "2022-02-16 10:36:07,360 - sigopt - INFO - training launch command: python -u /content/drive/MyDrive/integration/frameworks.bigdata.bluewhale-main/modelzoo/TwitterRecSys/TwitterRecSys2021-intel-opt/model_hydroai/xgboost/train.py --stage stage1 --target reply --train_data_path ./TwitterRecSys2021Dataset_sample/train/train.parquet --valid_data_path ./TwitterRecSys2021Dataset_sample/valid/valid.parquet --model_save_path /content/drive/MyDrive/integration/frameworks.bigdata.bluewhale-main/result/twitter_recsys/20220216_103557/8eb0c0bba97c534e7fd88f04b61da9a5 --max_depth 10 --learning_rate 0.996983878407754 --subsample 0.776466044286281 --colsample_bytree 0.6419070390445085 --num_boost_round 165 \n",
            "2022-02-16 10:36:09,999 - sigopt - INFO - Received sigopt suggestion, assignment is                     OrderedDict([('colsample_bytree', 0.6419070390445085), ('learning_rate', 0.996983878407754), ('max_depth', 10), ('num_boost_round', 165), ('subsample', 0.776466044286281)])\n",
            "2022-02-16 10:36:10,000 - sigopt - INFO - Training completed with sigopt suggestion,                     metrics is [{'name': 'AP', 'value': 0.05820035951257139}, {'name': 'RCE', 'value': -56.81047804674429}]\n",
            "2022-02-16 10:36:12,472 - sigopt - INFO - training launch command: python -u /content/drive/MyDrive/integration/frameworks.bigdata.bluewhale-main/modelzoo/TwitterRecSys/TwitterRecSys2021-intel-opt/model_hydroai/xgboost/train.py --stage stage1 --target reply --train_data_path ./TwitterRecSys2021Dataset_sample/train/train.parquet --valid_data_path ./TwitterRecSys2021Dataset_sample/valid/valid.parquet --model_save_path /content/drive/MyDrive/integration/frameworks.bigdata.bluewhale-main/result/twitter_recsys/20220216_103557/2ffda4f344f2ebf373e2b29a700394f4 --max_depth 5 --learning_rate 0.48382123883577594 --subsample 0.88013982060018 --colsample_bytree 0.7473498116209243 --num_boost_round 707 \n",
            "2022-02-16 10:36:15,132 - sigopt - INFO - Received sigopt suggestion, assignment is                     OrderedDict([('colsample_bytree', 0.7473498116209243), ('learning_rate', 0.48382123883577594), ('max_depth', 5), ('num_boost_round', 707), ('subsample', 0.88013982060018)])\n",
            "2022-02-16 10:36:15,135 - sigopt - INFO - Training completed with sigopt suggestion,                     metrics is [{'name': 'AP', 'value': 0.07335189964355636}, {'name': 'RCE', 'value': -6.197294529623298}]\n",
            "2022-02-16 10:36:16,548 - sigopt - INFO - training launch command: python -u /content/drive/MyDrive/integration/frameworks.bigdata.bluewhale-main/modelzoo/TwitterRecSys/TwitterRecSys2021-intel-opt/model_hydroai/xgboost/train.py --stage stage1 --target reply --train_data_path ./TwitterRecSys2021Dataset_sample/train/train.parquet --valid_data_path ./TwitterRecSys2021Dataset_sample/valid/valid.parquet --model_save_path /content/drive/MyDrive/integration/frameworks.bigdata.bluewhale-main/result/twitter_recsys/20220216_103557/2d880db636197516ad44ede4ac5df858 --max_depth 11 --learning_rate 0.30853615549727115 --subsample 0.6792952840760904 --colsample_bytree 0.5113217070029138 --num_boost_round 351 \n",
            "2022-02-16 10:36:19,684 - sigopt - INFO - Received sigopt suggestion, assignment is                     OrderedDict([('colsample_bytree', 0.5113217070029138), ('learning_rate', 0.30853615549727115), ('max_depth', 11), ('num_boost_round', 351), ('subsample', 0.6792952840760904)])\n",
            "2022-02-16 10:36:19,687 - sigopt - INFO - Training completed with sigopt suggestion,                     metrics is [{'name': 'AP', 'value': 0.09218214627237982}, {'name': 'RCE', 'value': -5.745028713942024}]\n",
            "2022-02-16 10:36:22,162 - sigopt - INFO - training launch command: python -u /content/drive/MyDrive/integration/frameworks.bigdata.bluewhale-main/modelzoo/TwitterRecSys/TwitterRecSys2021-intel-opt/model_hydroai/xgboost/train.py --stage stage1 --target reply --train_data_path ./TwitterRecSys2021Dataset_sample/train/train.parquet --valid_data_path ./TwitterRecSys2021Dataset_sample/valid/valid.parquet --model_save_path /content/drive/MyDrive/integration/frameworks.bigdata.bluewhale-main/result/twitter_recsys/20220216_103557/c84a10f9b5a60b0233110e3bedec07e7 --max_depth 18 --learning_rate 0.09955950753306562 --subsample 0.5091767032875484 --colsample_bytree 0.8169695636464273 --num_boost_round 898 \n",
            "2022-02-16 10:36:26,875 - sigopt - INFO - Received sigopt suggestion, assignment is                     OrderedDict([('colsample_bytree', 0.8169695636464273), ('learning_rate', 0.09955950753306562), ('max_depth', 18), ('num_boost_round', 898), ('subsample', 0.5091767032875484)])\n",
            "2022-02-16 10:36:26,877 - sigopt - INFO - Training completed with sigopt suggestion,                     metrics is [{'name': 'AP', 'value': 0.11267767709479812}, {'name': 'RCE', 'value': 8.095372642719356}]\n",
            "2022-02-16 10:36:28,620 - sigopt - INFO - Training with sigopt is completed!                 https://app.sigopt.com/experiment/483457 \n",
            "/usr/local/lib/python3.7/dist-packages/sigopt/objects.py:327: RuntimeWarning: The .data field only contains a single page of results, which may be incomplete for large responses. Prefer to use the `.iterate_pages() to ensure that you iterate through all elements in the response.\n",
            "  RuntimeWarning,\n",
            "2022-02-16 10:36:29,428 - HYDRO.AI.SDA - INFO - training script completed\n"
          ]
        },
        {
          "output_type": "stream",
          "name": "stdout",
          "text": [
            "\n",
            "We found the best model! Here is the model explaination\n",
            "\n",
            "===============================================\n",
            "***    Best Trained Model    ***\n",
            "===============================================\n",
            "  Model Type: twitter_recsys\n",
            "  Model Saved Path: /content/drive/MyDrive/integration/frameworks.bigdata.bluewhale-main/result/twitter_recsys/20220216_103557/c84a10f9b5a60b0233110e3bedec07e7\n",
            "  Sigopt Experiment id is 483457\n",
            "  === Result Metrics ===\n",
            "    AP: 0.11267767709479812\n",
            "    RCE: 8.095372642719356\n",
            "===============================================\n"
          ]
        }
      ]
    }
  ]
}