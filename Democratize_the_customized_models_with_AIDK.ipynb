{
  "nbformat": 4,
  "nbformat_minor": 0,
  "metadata": {
    "colab": {
      "name": "Democratize the customized models with AIDK.ipynb",
      "provenance": [],
      "collapsed_sections": [],
      "authorship_tag": "ABX9TyO9ejpoUcCDeQlG5hLSbp9p",
      "include_colab_link": true
    },
    "kernelspec": {
      "name": "python3",
      "display_name": "Python 3"
    },
    "language_info": {
      "name": "python"
    }
  },
  "cells": [
    {
      "cell_type": "markdown",
      "metadata": {
        "id": "view-in-github",
        "colab_type": "text"
      },
      "source": [
        "<a href=\"https://colab.research.google.com/github/XinyaoWa/aidk-integration/blob/main/Democratize_the_customized_models_with_AIDK.ipynb\" target=\"_parent\"><img src=\"https://colab.research.google.com/assets/colab-badge.svg\" alt=\"Open In Colab\"/></a>"
      ]
    },
    {
      "cell_type": "markdown",
      "source": [
        "## **To be deleted**"
      ],
      "metadata": {
        "id": "GLLjXfsmUcJM"
      }
    },
    {
      "cell_type": "markdown",
      "source": [
        "The below will be deleted when hydro.ai can be installed with pip"
      ],
      "metadata": {
        "id": "h9tasNqTmNyc"
      }
    },
    {
      "cell_type": "code",
      "execution_count": 1,
      "metadata": {
        "id": "Z3vJSyZV7EJZ",
        "colab": {
          "base_uri": "https://localhost:8080/"
        },
        "outputId": "f97ba4e7-6d42-4a85-adb2-c0f589231a55"
      },
      "outputs": [
        {
          "output_type": "stream",
          "name": "stdout",
          "text": [
            "Drive already mounted at /content/drive/; to attempt to forcibly remount, call drive.mount(\"/content/drive/\", force_remount=True).\n"
          ]
        }
      ],
      "source": [
        "from google.colab import drive\n",
        "import os\n",
        "drive.mount('/content/drive/')\n",
        "os.chdir('/content/drive/My Drive/integration/frameworks.bigdata.bluewhale-main')\n",
        "aidk_path = '/content/drive/MyDrive/integration/frameworks.bigdata.bluewhale-main'"
      ]
    },
    {
      "cell_type": "code",
      "source": [
        "from run_hydroai2 import try_democratize"
      ],
      "metadata": {
        "id": "sEWkmA1mXUkt",
        "colab": {
          "base_uri": "https://localhost:8080/"
        },
        "outputId": "f2c6869b-7d65-43d5-8a97-ae14504173ca"
      },
      "execution_count": 2,
      "outputs": [
        {
          "output_type": "stream",
          "name": "stdout",
          "text": [
            "/content/drive/MyDrive/integration/frameworks.bigdata.bluewhale-main\n"
          ]
        }
      ]
    },
    {
      "cell_type": "code",
      "source": [
        "!pip install -r requirements.txt"
      ],
      "metadata": {
        "colab": {
          "base_uri": "https://localhost:8080/",
          "height": 815
        },
        "id": "VaqolOXCUSyM",
        "outputId": "d0149053-2edf-424f-be90-76717eddbefa"
      },
      "execution_count": 3,
      "outputs": [
        {
          "output_type": "stream",
          "name": "stdout",
          "text": [
            "Collecting sigopt==7.5.0\n",
            "  Downloading sigopt-7.5.0-py2.py3-none-any.whl (38 kB)\n",
            "Collecting PyYAML>=5.4.1\n",
            "  Downloading PyYAML-6.0-cp37-cp37m-manylinux_2_5_x86_64.manylinux1_x86_64.manylinux_2_12_x86_64.manylinux2010_x86_64.whl (596 kB)\n",
            "\u001b[K     |████████████████████████████████| 596 kB 8.0 MB/s \n",
            "\u001b[?25hCollecting pypng>=0.0.20\n",
            "  Downloading pypng-0.0.21-py3-none-any.whl (48 kB)\n",
            "\u001b[K     |████████████████████████████████| 48 kB 4.6 MB/s \n",
            "\u001b[?25hRequirement already satisfied: ipython>=5.0.0 in /usr/local/lib/python3.7/dist-packages (from sigopt==7.5.0->-r requirements.txt (line 1)) (5.5.0)\n",
            "Requirement already satisfied: click>=7.0.0 in /usr/local/lib/python3.7/dist-packages (from sigopt==7.5.0->-r requirements.txt (line 1)) (7.1.2)\n",
            "Collecting GitPython>=2.0.0\n",
            "  Downloading GitPython-3.1.27-py3-none-any.whl (181 kB)\n",
            "\u001b[K     |████████████████████████████████| 181 kB 44.2 MB/s \n",
            "\u001b[?25hRequirement already satisfied: requests>=2.11.1 in /usr/local/lib/python3.7/dist-packages (from sigopt==7.5.0->-r requirements.txt (line 1)) (2.23.0)\n",
            "Requirement already satisfied: typing-extensions>=3.7.4.3 in /usr/local/lib/python3.7/dist-packages (from GitPython>=2.0.0->sigopt==7.5.0->-r requirements.txt (line 1)) (3.10.0.2)\n",
            "Collecting gitdb<5,>=4.0.1\n",
            "  Downloading gitdb-4.0.9-py3-none-any.whl (63 kB)\n",
            "\u001b[K     |████████████████████████████████| 63 kB 1.7 MB/s \n",
            "\u001b[?25hCollecting smmap<6,>=3.0.1\n",
            "  Downloading smmap-5.0.0-py3-none-any.whl (24 kB)\n",
            "Requirement already satisfied: decorator in /usr/local/lib/python3.7/dist-packages (from ipython>=5.0.0->sigopt==7.5.0->-r requirements.txt (line 1)) (4.4.2)\n",
            "Requirement already satisfied: simplegeneric>0.8 in /usr/local/lib/python3.7/dist-packages (from ipython>=5.0.0->sigopt==7.5.0->-r requirements.txt (line 1)) (0.8.1)\n",
            "Requirement already satisfied: prompt-toolkit<2.0.0,>=1.0.4 in /usr/local/lib/python3.7/dist-packages (from ipython>=5.0.0->sigopt==7.5.0->-r requirements.txt (line 1)) (1.0.18)\n",
            "Requirement already satisfied: pickleshare in /usr/local/lib/python3.7/dist-packages (from ipython>=5.0.0->sigopt==7.5.0->-r requirements.txt (line 1)) (0.7.5)\n",
            "Requirement already satisfied: setuptools>=18.5 in /usr/local/lib/python3.7/dist-packages (from ipython>=5.0.0->sigopt==7.5.0->-r requirements.txt (line 1)) (57.4.0)\n",
            "Requirement already satisfied: traitlets>=4.2 in /usr/local/lib/python3.7/dist-packages (from ipython>=5.0.0->sigopt==7.5.0->-r requirements.txt (line 1)) (5.1.1)\n",
            "Requirement already satisfied: pexpect in /usr/local/lib/python3.7/dist-packages (from ipython>=5.0.0->sigopt==7.5.0->-r requirements.txt (line 1)) (4.8.0)\n",
            "Requirement already satisfied: pygments in /usr/local/lib/python3.7/dist-packages (from ipython>=5.0.0->sigopt==7.5.0->-r requirements.txt (line 1)) (2.6.1)\n",
            "Requirement already satisfied: six>=1.9.0 in /usr/local/lib/python3.7/dist-packages (from prompt-toolkit<2.0.0,>=1.0.4->ipython>=5.0.0->sigopt==7.5.0->-r requirements.txt (line 1)) (1.15.0)\n",
            "Requirement already satisfied: wcwidth in /usr/local/lib/python3.7/dist-packages (from prompt-toolkit<2.0.0,>=1.0.4->ipython>=5.0.0->sigopt==7.5.0->-r requirements.txt (line 1)) (0.2.5)\n",
            "Requirement already satisfied: idna<3,>=2.5 in /usr/local/lib/python3.7/dist-packages (from requests>=2.11.1->sigopt==7.5.0->-r requirements.txt (line 1)) (2.10)\n",
            "Requirement already satisfied: chardet<4,>=3.0.2 in /usr/local/lib/python3.7/dist-packages (from requests>=2.11.1->sigopt==7.5.0->-r requirements.txt (line 1)) (3.0.4)\n",
            "Requirement already satisfied: urllib3!=1.25.0,!=1.25.1,<1.26,>=1.21.1 in /usr/local/lib/python3.7/dist-packages (from requests>=2.11.1->sigopt==7.5.0->-r requirements.txt (line 1)) (1.24.3)\n",
            "Requirement already satisfied: certifi>=2017.4.17 in /usr/local/lib/python3.7/dist-packages (from requests>=2.11.1->sigopt==7.5.0->-r requirements.txt (line 1)) (2021.10.8)\n",
            "Requirement already satisfied: ptyprocess>=0.5 in /usr/local/lib/python3.7/dist-packages (from pexpect->ipython>=5.0.0->sigopt==7.5.0->-r requirements.txt (line 1)) (0.7.0)\n",
            "Installing collected packages: smmap, gitdb, PyYAML, pypng, GitPython, sigopt\n",
            "  Attempting uninstall: PyYAML\n",
            "    Found existing installation: PyYAML 3.13\n",
            "    Uninstalling PyYAML-3.13:\n",
            "      Successfully uninstalled PyYAML-3.13\n",
            "Successfully installed GitPython-3.1.27 PyYAML-6.0 gitdb-4.0.9 pypng-0.0.21 sigopt-7.5.0 smmap-5.0.0\n"
          ]
        },
        {
          "output_type": "display_data",
          "data": {
            "application/vnd.colab-display-data+json": {
              "pip_warning": {
                "packages": [
                  "yaml"
                ]
              }
            }
          },
          "metadata": {}
        }
      ]
    },
    {
      "cell_type": "markdown",
      "source": [
        "## **Overview**\n",
        "\n",
        "### **AIDK Introduction**\n",
        "AIDK(AI Democratization Toolkit) is an end-to-end AI toolkit which can deliver high performance lightweight models efficiently on commodity hardware.\n",
        "\n",
        "##### **AIDK Key Features**\n",
        "\n",
        "With AIDK, you can:\n",
        "\n",
        "- Get direct access to democratized models for a wide range of areas( recommendation systems, computer vision, speech recognition, nature language processing.....), which can bring 100x speedup over stock models.\n",
        "- Automatically optimize and accelerate the candidate models with democratized tools in AIDK(SDA, SDNN...) while keeping comparable score.\n",
        "- Plug the democratized module(RecDP, SDA, SDNN...) into your own AI pipeline for specific usage.\n",
        "\n",
        "###**Notebook Content**\n",
        "\n",
        "After the learning of quick start for AIDK, in this notebook we will show a further usage: If the build-in models in modelzoo can't meet your requirements, and you have  a customized model as baseline for your project, AIDK can still optimize your model with democratized algorithms such as SDA, SDNN and NAS, which can find more suitable network structure or parameters for better performance.\n",
        "\n",
        "For simplicity, we use Xgboost as an example for demonstration."
      ],
      "metadata": {
        "id": "dNXznmsPVJF2"
      }
    },
    {
      "cell_type": "markdown",
      "source": [
        "## **AIDK Install**\n",
        "\n",
        "Install AIDK with pip."
      ],
      "metadata": {
        "id": "8jEEcwBbmZu6"
      }
    },
    {
      "cell_type": "code",
      "source": [
        "# pip install aidk"
      ],
      "metadata": {
        "id": "2-4POVvs8ss4"
      },
      "execution_count": null,
      "outputs": []
    },
    {
      "cell_type": "code",
      "source": [
        "# from aidk import *\n",
        "# aidk_path = aidk.__path__[0]\n",
        "aidk_path"
      ],
      "metadata": {
        "id": "83MWtcZ0XQIc",
        "colab": {
          "base_uri": "https://localhost:8080/",
          "height": 35
        },
        "outputId": "cd72f620-c89e-4f57-d977-e2862bd81b22"
      },
      "execution_count": null,
      "outputs": [
        {
          "output_type": "execute_result",
          "data": {
            "application/vnd.google.colaboratory.intrinsic+json": {
              "type": "string"
            },
            "text/plain": [
              "'/content/drive/MyDrive/integration/frameworks.bigdata.bluewhale-main'"
            ]
          },
          "metadata": {},
          "execution_count": 4
        }
      ]
    },
    {
      "cell_type": "markdown",
      "source": [
        "## **Democratize the customized model with AIDK**"
      ],
      "metadata": {
        "id": "pyaoJKwzYMQu"
      }
    },
    {
      "cell_type": "markdown",
      "source": [
        "### **Define the customized model**\n",
        "\n",
        "Take XGBoost as an example and define the baseline model."
      ],
      "metadata": {
        "id": "885Kq6g1N9XJ"
      }
    },
    {
      "cell_type": "code",
      "source": [
        "import xgboost\n",
        "\n",
        "params = {'learning_rate': 0.6,\n",
        "          'max_depth':8,\n",
        "          'n_estimators':6,\n",
        "          'use_label_encoder':False}\n",
        "\n",
        "model = xgboost.XGBClassifier(**params, eval_metric='mlogloss')"
      ],
      "metadata": {
        "id": "NKxgyM4cXfDW"
      },
      "execution_count": 3,
      "outputs": []
    },
    {
      "cell_type": "markdown",
      "source": [
        "### **Define the customized train function**\n",
        "\n",
        "You should give your train function, which takes *model* as input, return a measurable *score* as target."
      ],
      "metadata": {
        "id": "UlO4RXzsWWSj"
      }
    },
    {
      "cell_type": "code",
      "source": [
        "from sklearn.model_selection import train_test_split\n",
        "from sklearn.metrics import accuracy_score\n",
        "from sklearn.datasets import load_wine\n",
        "\n",
        "def train(model):\n",
        "  # Prepare dataset, here we use Sklearn Wine dataset as an example  \n",
        "  x, y = load_wine(return_X_y=True, as_frame=True)\n",
        "  x_train, x_test, y_train, y_test = train_test_split(x, y, test_size=0.4, random_state=2)\n",
        "\n",
        "  # Train the model\n",
        "  model.fit(x_train, y_train)\n",
        "\n",
        "  # Get the prediction score\n",
        "  y_pred = model.predict(x_test)\n",
        "  accuracy = accuracy_score(y_test, y_pred)\n",
        "\n",
        "  return accuracy\n",
        "\n",
        "print(train(model))\n",
        "print(model)"
      ],
      "metadata": {
        "colab": {
          "base_uri": "https://localhost:8080/"
        },
        "id": "nBFPZYXzWVlU",
        "outputId": "d6bd00af-9ea5-446e-bd87-00c3f9dc9c4e"
      },
      "execution_count": 4,
      "outputs": [
        {
          "output_type": "stream",
          "name": "stdout",
          "text": [
            "0.9027777777777778\n",
            "XGBClassifier(eval_metric='mlogloss', learning_rate=0.6, max_depth=8,\n",
            "              n_estimators=6, objective='multi:softprob',\n",
            "              use_label_encoder=False)\n"
          ]
        }
      ]
    },
    {
      "cell_type": "markdown",
      "source": [
        "### **Run AIDK to democratize the customized model**\n",
        "\n",
        "Just provide your model and train function,  *try_democratize()* function can automatically generate the optimized models.\n",
        "\n",
        "try_democratize():\n",
        "\n",
        "- Input args:\n",
        "  \n",
        "  - train: training function\n",
        "\n",
        "  - model: customized model\n",
        "\n",
        "  - other args: input args for train function\n",
        "\n",
        "- Ouput: a list of selected models, sorted by score\n"
      ],
      "metadata": {
        "id": "Dvxp6CfAX03j"
      }
    },
    {
      "cell_type": "code",
      "source": [
        "args = {\"models\": model}\n",
        "models_opt = try_democratize(train, model, *args)\n",
        "\n",
        "for i in range(3):\n",
        "  print(f\"model: \",models_opt[i][0])\n",
        "  print(f\"result: \",models_opt[i][1])\n",
        "  print()"
      ],
      "metadata": {
        "colab": {
          "base_uri": "https://localhost:8080/"
        },
        "id": "CF-Gj18GGGFp",
        "outputId": "2f6ddc49-7f7e-4d7f-d146-5af5c20d2167"
      },
      "execution_count": 5,
      "outputs": [
        {
          "output_type": "stream",
          "name": "stdout",
          "text": [
            "model:  XGBClassifier(eval_metric='mlogloss', max_depth=8, n_estimators=6,\n",
            "              use_label_encoder=False)\n",
            "result:  0.9583333333333334\n",
            "\n",
            "model:  XGBClassifier(eval_metric='mlogloss', max_depth=2, n_estimators=2,\n",
            "              use_label_encoder=False)\n",
            "result:  0.9444444444444444\n",
            "\n",
            "model:  XGBClassifier(eval_metric='mlogloss', learning_rate=0.4, max_depth=2,\n",
            "              n_estimators=2, use_label_encoder=False)\n",
            "result:  0.9305555555555556\n",
            "\n"
          ]
        }
      ]
    },
    {
      "cell_type": "markdown",
      "source": [
        "Select the best model as final one."
      ],
      "metadata": {
        "id": "3xsVJHgpghNt"
      }
    },
    {
      "cell_type": "code",
      "source": [
        "best_model = models_opt[0]\n",
        "print(\"The democratized model is:\")\n",
        "print(f\"model: \",best_model[0])\n",
        "print(f\"result: \",best_model[1])"
      ],
      "metadata": {
        "colab": {
          "base_uri": "https://localhost:8080/"
        },
        "id": "ECaaygJ1ggj0",
        "outputId": "97637faa-414c-4998-c5de-99ec4ad3c893"
      },
      "execution_count": 7,
      "outputs": [
        {
          "output_type": "stream",
          "name": "stdout",
          "text": [
            "The democratized model is:\n",
            "model:  XGBClassifier(eval_metric='mlogloss', max_depth=8, n_estimators=6,\n",
            "              use_label_encoder=False)\n",
            "result:  0.9583333333333334\n"
          ]
        }
      ]
    }
  ]
}